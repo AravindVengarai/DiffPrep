{
 "cells": [
  {
   "cell_type": "code",
   "execution_count": 1,
   "metadata": {},
   "outputs": [
    {
     "name": "stdout",
     "output_type": "stream",
     "text": [
      "{}\n"
     ]
    },
    {
     "data": {
      "application/vnd.plotly.v1+json": {
       "config": {
        "plotlyServerURL": "https://plot.ly"
       },
       "data": [
        {
         "hovertemplate": "Label=c0<br>Dim1=%{x}<br>Dim2=%{y}<br>PointLabel=%{text}<extra></extra>",
         "legendgroup": "c0",
         "marker": {
          "color": "#636efa",
          "symbol": "circle"
         },
         "mode": "markers+text",
         "name": "c0",
         "orientation": "v",
         "showlegend": true,
         "text": [
          "cnimpC",
          "cnormC",
          "ccoC",
          "cdisC"
         ],
         "textposition": "top center",
         "type": "scatter",
         "x": [
          0.6536020548570156,
          -0.3239512232029317,
          -0.33796495982844843,
          -0.44294548812966167
         ],
         "xaxis": "x",
         "y": [
          0.04337266650100209,
          -0.14588996648566793,
          -0.2910481804371248,
          -0.19407331909221828
         ],
         "yaxis": "y"
        },
        {
         "hovertemplate": "Label=c1<br>Dim1=%{x}<br>Dim2=%{y}<br>PointLabel=%{text}<extra></extra>",
         "legendgroup": "c1",
         "marker": {
          "color": "#EF553B",
          "symbol": "circle"
         },
         "mode": "markers+text",
         "name": "c1",
         "orientation": "v",
         "showlegend": true,
         "text": [
          "cnimpC",
          "cnormC",
          "ccoC",
          "cdisC"
         ],
         "textposition": "top center",
         "type": "scatter",
         "x": [
          0.6536020548570156,
          0.6508046264823198,
          -0.5017379604452518,
          -0.4825080334511556
         ],
         "xaxis": "x",
         "y": [
          0.04337266650100203,
          0.04283520685733327,
          0.7364367106781867,
          0.5837564742728144
         ],
         "yaxis": "y"
        },
        {
         "hovertemplate": "Label=c2<br>Dim1=%{x}<br>Dim2=%{y}<br>PointLabel=%{text}<extra></extra>",
         "legendgroup": "c2",
         "marker": {
          "color": "#00cc96",
          "symbol": "circle"
         },
         "mode": "markers+text",
         "name": "c2",
         "orientation": "v",
         "showlegend": true,
         "text": [
          "cnimpC",
          "cnormC",
          "ccoC",
          "cdisC"
         ],
         "textposition": "top center",
         "type": "scatter",
         "x": [
          0.6536020548570156,
          0.6459735375839353,
          -0.3477205193294422,
          -0.467493405837965
         ],
         "xaxis": "x",
         "y": [
          0.04337266650100181,
          0.04190683675562573,
          -0.17648349254721632,
          0.5011253420838481
         ],
         "yaxis": "y"
        },
        {
         "hovertemplate": "Label=c3<br>Dim1=%{x}<br>Dim2=%{y}<br>PointLabel=%{text}<extra></extra>",
         "legendgroup": "c3",
         "marker": {
          "color": "#ab63fa",
          "symbol": "circle"
         },
         "mode": "markers+text",
         "name": "c3",
         "orientation": "v",
         "showlegend": true,
         "text": [
          "cnimpC",
          "cnormC",
          "ccoC",
          "cdisC"
         ],
         "textposition": "top center",
         "type": "scatter",
         "x": [
          0.6536020548570156,
          -0.2859255968511919,
          -0.40857903545801594,
          -0.3786942744897116
         ],
         "xaxis": "x",
         "y": [
          0.04337266650100206,
          -0.13534690304129857,
          0.19033000271350814,
          -0.1011090044074105
         ],
         "yaxis": "y"
        },
        {
         "hovertemplate": "Label=c4<br>Dim1=%{x}<br>Dim2=%{y}<br>PointLabel=%{text}<extra></extra>",
         "legendgroup": "c4",
         "marker": {
          "color": "#FFA15A",
          "symbol": "circle"
         },
         "mode": "markers+text",
         "name": "c4",
         "orientation": "v",
         "showlegend": true,
         "text": [
          "cnimpC",
          "cnormC",
          "ccoC",
          "cdisC"
         ],
         "textposition": "top center",
         "type": "scatter",
         "x": [
          0.6536020548570156,
          -0.34198336847156174,
          -0.36104733048831594,
          -0.5137674543609355
         ],
         "xaxis": "x",
         "y": [
          0.04337266650100197,
          -0.14781156415983476,
          -0.39677417080667543,
          0.8077381880080485
         ],
         "yaxis": "y"
        },
        {
         "hovertemplate": "Label=r0<br>Dim1=%{x}<br>Dim2=%{y}<br>PointLabel=%{text}<extra></extra>",
         "legendgroup": "r0",
         "marker": {
          "color": "#19d3f3",
          "symbol": "circle"
         },
         "mode": "markers+text",
         "name": "r0",
         "orientation": "v",
         "showlegend": true,
         "text": [
          "rnimpR",
          "rnormR",
          "rcoR",
          "rdisR"
         ],
         "textposition": "top center",
         "type": "scatter",
         "x": [
          0.6536020548570156,
          0.16615633940932817,
          -0.34360721810105305,
          -0.3373454142379612
         ],
         "xaxis": "x",
         "y": [
          0.043372666501002057,
          -0.050197427799289374,
          -0.25483099133112463,
          -0.04568989738648645
         ],
         "yaxis": "y"
        },
        {
         "hovertemplate": "Label=r1<br>Dim1=%{x}<br>Dim2=%{y}<br>PointLabel=%{text}<extra></extra>",
         "legendgroup": "r1",
         "marker": {
          "color": "#FF6692",
          "symbol": "circle"
         },
         "mode": "markers+text",
         "name": "r1",
         "orientation": "v",
         "showlegend": true,
         "text": [
          "rnimpR",
          "rnormR",
          "rcoR",
          "rdisR"
         ],
         "textposition": "top center",
         "type": "scatter",
         "x": [
          0.6536020548570156,
          0.24935282079892393,
          -0.3420012241579498,
          -0.34123333056951566
         ],
         "xaxis": "x",
         "y": [
          0.043372666501002057,
          -0.03430507816474538,
          -0.27551573823923997,
          -0.040965053489076295
         ],
         "yaxis": "y"
        },
        {
         "hovertemplate": "Label=r2<br>Dim1=%{x}<br>Dim2=%{y}<br>PointLabel=%{text}<extra></extra>",
         "legendgroup": "r2",
         "marker": {
          "color": "#B6E880",
          "symbol": "circle"
         },
         "mode": "markers+text",
         "name": "r2",
         "orientation": "v",
         "showlegend": true,
         "text": [
          "rnimpR",
          "rnormR",
          "rcoR",
          "rdisR"
         ],
         "textposition": "top center",
         "type": "scatter",
         "x": [
          0.6536020548570156,
          0.050145053705680724,
          -0.34994507121955454,
          -0.3369400309910361
         ],
         "xaxis": "x",
         "y": [
          0.043372666501002057,
          -0.07258397199932363,
          -0.2120836426938092,
          -0.042018311558411334
         ],
         "yaxis": "y"
        },
        {
         "hovertemplate": "Label=r3<br>Dim1=%{x}<br>Dim2=%{y}<br>PointLabel=%{text}<extra></extra>",
         "legendgroup": "r3",
         "marker": {
          "color": "#FF97FF",
          "symbol": "circle"
         },
         "mode": "markers+text",
         "name": "r3",
         "orientation": "v",
         "showlegend": true,
         "text": [
          "rnimpR",
          "rnormR",
          "rcoR",
          "rdisR"
         ],
         "textposition": "top center",
         "type": "scatter",
         "x": [
          0.6536020548570156,
          0.05099973685289801,
          -0.3499179638423937,
          -0.32108963374140137
         ],
         "xaxis": "x",
         "y": [
          0.043372666501002057,
          -0.07241929167593339,
          -0.21225963906472878,
          -0.09274712679536053
         ],
         "yaxis": "y"
        },
        {
         "hovertemplate": "Label=r4<br>Dim1=%{x}<br>Dim2=%{y}<br>PointLabel=%{text}<extra></extra>",
         "legendgroup": "r4",
         "marker": {
          "color": "#FECB52",
          "symbol": "circle"
         },
         "mode": "markers+text",
         "name": "r4",
         "orientation": "v",
         "showlegend": true,
         "text": [
          "rnimpR",
          "rnormR",
          "rcoR",
          "rdisR"
         ],
         "textposition": "top center",
         "type": "scatter",
         "x": [
          0.6536020548570156,
          0.24552081846364823,
          -0.3414551170862461,
          -0.3371198275751892
         ],
         "xaxis": "x",
         "y": [
          0.043372666501002057,
          -0.035031153417101495,
          -0.27034380389267726,
          -0.03832769789463175
         ],
         "yaxis": "y"
        }
       ],
       "layout": {
        "legend": {
         "title": {
          "text": "Label"
         },
         "tracegroupgap": 0
        },
        "template": {
         "data": {
          "bar": [
           {
            "error_x": {
             "color": "#2a3f5f"
            },
            "error_y": {
             "color": "#2a3f5f"
            },
            "marker": {
             "line": {
              "color": "#E5ECF6",
              "width": 0.5
             },
             "pattern": {
              "fillmode": "overlay",
              "size": 10,
              "solidity": 0.2
             }
            },
            "type": "bar"
           }
          ],
          "barpolar": [
           {
            "marker": {
             "line": {
              "color": "#E5ECF6",
              "width": 0.5
             },
             "pattern": {
              "fillmode": "overlay",
              "size": 10,
              "solidity": 0.2
             }
            },
            "type": "barpolar"
           }
          ],
          "carpet": [
           {
            "aaxis": {
             "endlinecolor": "#2a3f5f",
             "gridcolor": "white",
             "linecolor": "white",
             "minorgridcolor": "white",
             "startlinecolor": "#2a3f5f"
            },
            "baxis": {
             "endlinecolor": "#2a3f5f",
             "gridcolor": "white",
             "linecolor": "white",
             "minorgridcolor": "white",
             "startlinecolor": "#2a3f5f"
            },
            "type": "carpet"
           }
          ],
          "choropleth": [
           {
            "colorbar": {
             "outlinewidth": 0,
             "ticks": ""
            },
            "type": "choropleth"
           }
          ],
          "contour": [
           {
            "colorbar": {
             "outlinewidth": 0,
             "ticks": ""
            },
            "colorscale": [
             [
              0,
              "#0d0887"
             ],
             [
              0.1111111111111111,
              "#46039f"
             ],
             [
              0.2222222222222222,
              "#7201a8"
             ],
             [
              0.3333333333333333,
              "#9c179e"
             ],
             [
              0.4444444444444444,
              "#bd3786"
             ],
             [
              0.5555555555555556,
              "#d8576b"
             ],
             [
              0.6666666666666666,
              "#ed7953"
             ],
             [
              0.7777777777777778,
              "#fb9f3a"
             ],
             [
              0.8888888888888888,
              "#fdca26"
             ],
             [
              1,
              "#f0f921"
             ]
            ],
            "type": "contour"
           }
          ],
          "contourcarpet": [
           {
            "colorbar": {
             "outlinewidth": 0,
             "ticks": ""
            },
            "type": "contourcarpet"
           }
          ],
          "heatmap": [
           {
            "colorbar": {
             "outlinewidth": 0,
             "ticks": ""
            },
            "colorscale": [
             [
              0,
              "#0d0887"
             ],
             [
              0.1111111111111111,
              "#46039f"
             ],
             [
              0.2222222222222222,
              "#7201a8"
             ],
             [
              0.3333333333333333,
              "#9c179e"
             ],
             [
              0.4444444444444444,
              "#bd3786"
             ],
             [
              0.5555555555555556,
              "#d8576b"
             ],
             [
              0.6666666666666666,
              "#ed7953"
             ],
             [
              0.7777777777777778,
              "#fb9f3a"
             ],
             [
              0.8888888888888888,
              "#fdca26"
             ],
             [
              1,
              "#f0f921"
             ]
            ],
            "type": "heatmap"
           }
          ],
          "heatmapgl": [
           {
            "colorbar": {
             "outlinewidth": 0,
             "ticks": ""
            },
            "colorscale": [
             [
              0,
              "#0d0887"
             ],
             [
              0.1111111111111111,
              "#46039f"
             ],
             [
              0.2222222222222222,
              "#7201a8"
             ],
             [
              0.3333333333333333,
              "#9c179e"
             ],
             [
              0.4444444444444444,
              "#bd3786"
             ],
             [
              0.5555555555555556,
              "#d8576b"
             ],
             [
              0.6666666666666666,
              "#ed7953"
             ],
             [
              0.7777777777777778,
              "#fb9f3a"
             ],
             [
              0.8888888888888888,
              "#fdca26"
             ],
             [
              1,
              "#f0f921"
             ]
            ],
            "type": "heatmapgl"
           }
          ],
          "histogram": [
           {
            "marker": {
             "pattern": {
              "fillmode": "overlay",
              "size": 10,
              "solidity": 0.2
             }
            },
            "type": "histogram"
           }
          ],
          "histogram2d": [
           {
            "colorbar": {
             "outlinewidth": 0,
             "ticks": ""
            },
            "colorscale": [
             [
              0,
              "#0d0887"
             ],
             [
              0.1111111111111111,
              "#46039f"
             ],
             [
              0.2222222222222222,
              "#7201a8"
             ],
             [
              0.3333333333333333,
              "#9c179e"
             ],
             [
              0.4444444444444444,
              "#bd3786"
             ],
             [
              0.5555555555555556,
              "#d8576b"
             ],
             [
              0.6666666666666666,
              "#ed7953"
             ],
             [
              0.7777777777777778,
              "#fb9f3a"
             ],
             [
              0.8888888888888888,
              "#fdca26"
             ],
             [
              1,
              "#f0f921"
             ]
            ],
            "type": "histogram2d"
           }
          ],
          "histogram2dcontour": [
           {
            "colorbar": {
             "outlinewidth": 0,
             "ticks": ""
            },
            "colorscale": [
             [
              0,
              "#0d0887"
             ],
             [
              0.1111111111111111,
              "#46039f"
             ],
             [
              0.2222222222222222,
              "#7201a8"
             ],
             [
              0.3333333333333333,
              "#9c179e"
             ],
             [
              0.4444444444444444,
              "#bd3786"
             ],
             [
              0.5555555555555556,
              "#d8576b"
             ],
             [
              0.6666666666666666,
              "#ed7953"
             ],
             [
              0.7777777777777778,
              "#fb9f3a"
             ],
             [
              0.8888888888888888,
              "#fdca26"
             ],
             [
              1,
              "#f0f921"
             ]
            ],
            "type": "histogram2dcontour"
           }
          ],
          "mesh3d": [
           {
            "colorbar": {
             "outlinewidth": 0,
             "ticks": ""
            },
            "type": "mesh3d"
           }
          ],
          "parcoords": [
           {
            "line": {
             "colorbar": {
              "outlinewidth": 0,
              "ticks": ""
             }
            },
            "type": "parcoords"
           }
          ],
          "pie": [
           {
            "automargin": true,
            "type": "pie"
           }
          ],
          "scatter": [
           {
            "fillpattern": {
             "fillmode": "overlay",
             "size": 10,
             "solidity": 0.2
            },
            "type": "scatter"
           }
          ],
          "scatter3d": [
           {
            "line": {
             "colorbar": {
              "outlinewidth": 0,
              "ticks": ""
             }
            },
            "marker": {
             "colorbar": {
              "outlinewidth": 0,
              "ticks": ""
             }
            },
            "type": "scatter3d"
           }
          ],
          "scattercarpet": [
           {
            "marker": {
             "colorbar": {
              "outlinewidth": 0,
              "ticks": ""
             }
            },
            "type": "scattercarpet"
           }
          ],
          "scattergeo": [
           {
            "marker": {
             "colorbar": {
              "outlinewidth": 0,
              "ticks": ""
             }
            },
            "type": "scattergeo"
           }
          ],
          "scattergl": [
           {
            "marker": {
             "colorbar": {
              "outlinewidth": 0,
              "ticks": ""
             }
            },
            "type": "scattergl"
           }
          ],
          "scattermapbox": [
           {
            "marker": {
             "colorbar": {
              "outlinewidth": 0,
              "ticks": ""
             }
            },
            "type": "scattermapbox"
           }
          ],
          "scatterpolar": [
           {
            "marker": {
             "colorbar": {
              "outlinewidth": 0,
              "ticks": ""
             }
            },
            "type": "scatterpolar"
           }
          ],
          "scatterpolargl": [
           {
            "marker": {
             "colorbar": {
              "outlinewidth": 0,
              "ticks": ""
             }
            },
            "type": "scatterpolargl"
           }
          ],
          "scatterternary": [
           {
            "marker": {
             "colorbar": {
              "outlinewidth": 0,
              "ticks": ""
             }
            },
            "type": "scatterternary"
           }
          ],
          "surface": [
           {
            "colorbar": {
             "outlinewidth": 0,
             "ticks": ""
            },
            "colorscale": [
             [
              0,
              "#0d0887"
             ],
             [
              0.1111111111111111,
              "#46039f"
             ],
             [
              0.2222222222222222,
              "#7201a8"
             ],
             [
              0.3333333333333333,
              "#9c179e"
             ],
             [
              0.4444444444444444,
              "#bd3786"
             ],
             [
              0.5555555555555556,
              "#d8576b"
             ],
             [
              0.6666666666666666,
              "#ed7953"
             ],
             [
              0.7777777777777778,
              "#fb9f3a"
             ],
             [
              0.8888888888888888,
              "#fdca26"
             ],
             [
              1,
              "#f0f921"
             ]
            ],
            "type": "surface"
           }
          ],
          "table": [
           {
            "cells": {
             "fill": {
              "color": "#EBF0F8"
             },
             "line": {
              "color": "white"
             }
            },
            "header": {
             "fill": {
              "color": "#C8D4E3"
             },
             "line": {
              "color": "white"
             }
            },
            "type": "table"
           }
          ]
         },
         "layout": {
          "annotationdefaults": {
           "arrowcolor": "#2a3f5f",
           "arrowhead": 0,
           "arrowwidth": 1
          },
          "autotypenumbers": "strict",
          "coloraxis": {
           "colorbar": {
            "outlinewidth": 0,
            "ticks": ""
           }
          },
          "colorscale": {
           "diverging": [
            [
             0,
             "#8e0152"
            ],
            [
             0.1,
             "#c51b7d"
            ],
            [
             0.2,
             "#de77ae"
            ],
            [
             0.3,
             "#f1b6da"
            ],
            [
             0.4,
             "#fde0ef"
            ],
            [
             0.5,
             "#f7f7f7"
            ],
            [
             0.6,
             "#e6f5d0"
            ],
            [
             0.7,
             "#b8e186"
            ],
            [
             0.8,
             "#7fbc41"
            ],
            [
             0.9,
             "#4d9221"
            ],
            [
             1,
             "#276419"
            ]
           ],
           "sequential": [
            [
             0,
             "#0d0887"
            ],
            [
             0.1111111111111111,
             "#46039f"
            ],
            [
             0.2222222222222222,
             "#7201a8"
            ],
            [
             0.3333333333333333,
             "#9c179e"
            ],
            [
             0.4444444444444444,
             "#bd3786"
            ],
            [
             0.5555555555555556,
             "#d8576b"
            ],
            [
             0.6666666666666666,
             "#ed7953"
            ],
            [
             0.7777777777777778,
             "#fb9f3a"
            ],
            [
             0.8888888888888888,
             "#fdca26"
            ],
            [
             1,
             "#f0f921"
            ]
           ],
           "sequentialminus": [
            [
             0,
             "#0d0887"
            ],
            [
             0.1111111111111111,
             "#46039f"
            ],
            [
             0.2222222222222222,
             "#7201a8"
            ],
            [
             0.3333333333333333,
             "#9c179e"
            ],
            [
             0.4444444444444444,
             "#bd3786"
            ],
            [
             0.5555555555555556,
             "#d8576b"
            ],
            [
             0.6666666666666666,
             "#ed7953"
            ],
            [
             0.7777777777777778,
             "#fb9f3a"
            ],
            [
             0.8888888888888888,
             "#fdca26"
            ],
            [
             1,
             "#f0f921"
            ]
           ]
          },
          "colorway": [
           "#636efa",
           "#EF553B",
           "#00cc96",
           "#ab63fa",
           "#FFA15A",
           "#19d3f3",
           "#FF6692",
           "#B6E880",
           "#FF97FF",
           "#FECB52"
          ],
          "font": {
           "color": "#2a3f5f"
          },
          "geo": {
           "bgcolor": "white",
           "lakecolor": "white",
           "landcolor": "#E5ECF6",
           "showlakes": true,
           "showland": true,
           "subunitcolor": "white"
          },
          "hoverlabel": {
           "align": "left"
          },
          "hovermode": "closest",
          "mapbox": {
           "style": "light"
          },
          "paper_bgcolor": "white",
          "plot_bgcolor": "#E5ECF6",
          "polar": {
           "angularaxis": {
            "gridcolor": "white",
            "linecolor": "white",
            "ticks": ""
           },
           "bgcolor": "#E5ECF6",
           "radialaxis": {
            "gridcolor": "white",
            "linecolor": "white",
            "ticks": ""
           }
          },
          "scene": {
           "xaxis": {
            "backgroundcolor": "#E5ECF6",
            "gridcolor": "white",
            "gridwidth": 2,
            "linecolor": "white",
            "showbackground": true,
            "ticks": "",
            "zerolinecolor": "white"
           },
           "yaxis": {
            "backgroundcolor": "#E5ECF6",
            "gridcolor": "white",
            "gridwidth": 2,
            "linecolor": "white",
            "showbackground": true,
            "ticks": "",
            "zerolinecolor": "white"
           },
           "zaxis": {
            "backgroundcolor": "#E5ECF6",
            "gridcolor": "white",
            "gridwidth": 2,
            "linecolor": "white",
            "showbackground": true,
            "ticks": "",
            "zerolinecolor": "white"
           }
          },
          "shapedefaults": {
           "line": {
            "color": "#2a3f5f"
           }
          },
          "ternary": {
           "aaxis": {
            "gridcolor": "white",
            "linecolor": "white",
            "ticks": ""
           },
           "baxis": {
            "gridcolor": "white",
            "linecolor": "white",
            "ticks": ""
           },
           "bgcolor": "#E5ECF6",
           "caxis": {
            "gridcolor": "white",
            "linecolor": "white",
            "ticks": ""
           }
          },
          "title": {
           "x": 0.05
          },
          "xaxis": {
           "automargin": true,
           "gridcolor": "white",
           "linecolor": "white",
           "ticks": "",
           "title": {
            "standoff": 15
           },
           "zerolinecolor": "white",
           "zerolinewidth": 2
          },
          "yaxis": {
           "automargin": true,
           "gridcolor": "white",
           "linecolor": "white",
           "ticks": "",
           "title": {
            "standoff": 15
           },
           "zerolinecolor": "white",
           "zerolinewidth": 2
          }
         }
        },
        "title": {
         "text": "Combined PCA Visualization for the pbcseq Dataset"
        },
        "xaxis": {
         "anchor": "y",
         "domain": [
          0,
          1
         ],
         "title": {
          "text": "Dim1"
         }
        },
        "yaxis": {
         "anchor": "x",
         "domain": [
          0,
          1
         ],
         "title": {
          "text": "Dim2"
         }
        }
       }
      }
     },
     "metadata": {},
     "output_type": "display_data"
    }
   ],
   "source": [
    "\n",
    "import json\n",
    "import numpy as np\n",
    "from sklearn.manifold import TSNE\n",
    "import pandas as pd\n",
    "import plotly.express as px\n",
    "from sklearn.impute import SimpleImputer\n",
    "import numpy as np\n",
    "import pandas as pd\n",
    "import matplotlib.pyplot as plt\n",
    "from sklearn.decomposition import PCA\n",
    "import json\n",
    "from sklearn.impute import SimpleImputer\n",
    "from collections import defaultdict\n",
    "from collections import defaultdict\n",
    "import json\n",
    "import numpy as np\n",
    "import pandas as pd\n",
    "import plotly.express as px\n",
    "from sklearn.impute import SimpleImputer\n",
    "from sklearn.manifold import MDS\n",
    "import plotly.express as px\n",
    "from sklearn.impute import SimpleImputer\n",
    "import numpy as np\n",
    "import pandas as pd\n",
    "import matplotlib.pyplot as plt\n",
    "from sklearn.decomposition import PCA\n",
    "import json\n",
    "from sklearn.impute import SimpleImputer\n",
    "\n",
    "# Load and process data for pc\n",
    "file_path_pc = 'bestpipelines_mozilla_c.json'\n",
    "with open(file_path_pc, 'r') as file:\n",
    "    data_pc = json.load(file)\n",
    "\n",
    "\n",
    "# Load and process data for pr\n",
    "file_path_pr = 'bestpipelines_mozilla_r.json'\n",
    "with open(file_path_pr, 'r') as file:\n",
    "    data_pr = json.load(file)\n",
    "    \n",
    "\n",
    "def get_index_order_map(data, type):\n",
    "    def sort_indices_by_value_r(arr):\n",
    "        # Enumerate the array: [(index, value), ...]\n",
    "        \"\"\"\n",
    "        indexed_arr = enumerate(arr)\n",
    "\n",
    "        # Sort the enumerated array based on the value\n",
    "        sorted_arr = sorted(indexed_arr, key=lambda x: x[1], reverse=True)\n",
    "\n",
    "        r_abbr_index_mapping = {\n",
    "        \"normR\" : 0,\n",
    "        \"coR\" : 1,\n",
    "        \"disR\" : 2\n",
    "        }\n",
    "        index_r_abbr_mapping = {value: key for key, value in r_abbr_index_mapping.items()}\n",
    "\n",
    "\n",
    "    \n",
    "\n",
    "        # Extract the indices from the sorted array\n",
    "        indices = [index_r_abbr_mapping[index] for index, value in sorted_arr]\n",
    "\n",
    "        return indices\n",
    "        \n",
    "        \"\"\"\n",
    "\n",
    "        maxval = arr[0]\n",
    "        maxindex = 0\n",
    "\n",
    "        for i, val in enumerate(arr):\n",
    "            if val > maxval:\n",
    "                maxval = val\n",
    "                maxindex = i\n",
    "        return maxindex\n",
    "        \n",
    "\n",
    "    def sort_indices_by_value_c(arr):\n",
    "        # Enumerate the array: [(index, value), ...]\n",
    "        \"\"\"\n",
    "        indexed_arr = enumerate(arr)\n",
    "\n",
    "        # Sort the enumerated array based on the value\n",
    "        sorted_arr = sorted(indexed_arr, key=lambda x: x[1], reverse=True)\n",
    "\n",
    "        c_abbr_index_mapping = {\n",
    "        \"normC\" : 0,\n",
    "        \"coC\" : 1,\n",
    "        \"disC\" : 2\n",
    "        }\n",
    "        index_c_abbr_mapping = {value: key for key, value in c_abbr_index_mapping.items()}\n",
    "\n",
    "\n",
    "    \n",
    "\n",
    "        # Extract the indices from the sorted array\n",
    "        indices = [index_c_abbr_mapping[index] for index, value in sorted_arr]\n",
    "\n",
    "        return indices\n",
    "        \"\"\"\n",
    "        \n",
    "    \n",
    "        maxval = arr[0]\n",
    "        maxindex = 0\n",
    "\n",
    "        for i, val in enumerate(arr):\n",
    "            if val > maxval:\n",
    "                maxval = val\n",
    "                maxindex = i\n",
    "        return maxindex\n",
    "\n",
    "    indexordermap = defaultdict(list)\n",
    "    \n",
    "    for i, arr in enumerate(data[\"alpha\"]):\n",
    "        \n",
    "        for subarr in arr:\n",
    "            if type == \"r\":\n",
    "                indexordermap[i].append(sort_indices_by_value_r(subarr))\n",
    "            else:\n",
    "               \n",
    "                indexordermap[i].append(sort_indices_by_value_c(subarr))\n",
    "    return indexordermap\n",
    "\n",
    "\n",
    "\n",
    "\n",
    "import json\n",
    "import numpy as np\n",
    "from sklearn.manifold import TSNE\n",
    "import pandas as pd\n",
    "import plotly.express as px\n",
    "from sklearn.impute import SimpleImputer\n",
    "import numpy as np\n",
    "import pandas as pd\n",
    "import matplotlib.pyplot as plt\n",
    "from sklearn.decomposition import PCA\n",
    "import json\n",
    "from sklearn.impute import SimpleImputer\n",
    "from collections import defaultdict\n",
    "\n",
    "def flatten_list(nested_list):\n",
    "    flattened = []\n",
    "    for item in nested_list:\n",
    "        if isinstance(item, list):\n",
    "            flattened.extend(flatten_list(item))  # Recursively flatten the item if it is a list\n",
    "        else:\n",
    "            flattened.append(item)\n",
    "    return flattened\n",
    "\n",
    "\n",
    "\n",
    "def flatten_and_pad_list(nested_list, desired_length):\n",
    "    flattened = []\n",
    "    for item in nested_list:\n",
    "        if isinstance(item, list):\n",
    "            flattened.extend(item)\n",
    "        else:\n",
    "            flattened.append(item)\n",
    "    \n",
    "    # Pad the list if it's shorter than the desired length\n",
    "    while len(flattened) < desired_length:\n",
    "        flattened.append(0)\n",
    "    \n",
    "    return flattened\n",
    "\n",
    "c_key_mapping = {\n",
    "    \"imputation.num_pc\": \"numerical imputation - classification\",\n",
    "    \"imputation.cat_pc\": \"categorical imputation - classification\",\n",
    "    \"nomralization.pc\": \"normalization - classification\",  # Note: Check if 'nomralization.pc' is a typo. It might be 'normalization.pc'.\n",
    "    \"cleaning_outliers.pc\": \"cleaning outliers - classification\",\n",
    "    \"discretization.pc\": \"discretization - classification\",\n",
    "    \"pipeline.0.num_tf_prob_logits\": \"numerical imputation - classification\",\n",
    "    \"pipeline.0.cat_tf_prob_logits\": \"categorical imputation - classification\",\n",
    "    \"pipeline.1.tf_prob_logits\": \"normalization - classification\",\n",
    "    \"pipeline.2.tf_prob_logits\": \"cleaning outliers - classification\",\n",
    "    \"pipeline.3.tf_prob_logits\": \"discretization - classification\"\n",
    "   }\n",
    "\n",
    "c_value_abbreviation_mapping = {\n",
    "    \"numerical imputation - classification\": \"nimpC\",\n",
    "    \"categorical imputation - classification\": \"cimpC\",\n",
    "    \"normalization - classification\": \"normC\",\n",
    "    \"cleaning outliers - classification\": \"coC\",\n",
    "    \"discretization - classification\": \"disC\"\n",
    "}\n",
    "\n",
    "\n",
    "        \n",
    "r_key_mapping = {\n",
    "    \"imputation.num_pc\": \"numerical imputation - regression\",\n",
    "    \"imputation.cat_pc\": \"categorical imputation - regression\",\n",
    "    \"nomralization.pc\": \"normalization - regression\",  # Note: Check if 'nomralization.pc' is a typo. It might be 'normalization.pc'.\n",
    "    \"cleaning_outliers.pc\": \"cleaning outliers - regression\",\n",
    "    \"discretization.pc\": \"discretization - regression\",\n",
    "    \"pipeline.0.num_tf_prob_logits\": \"numerical imputation - regression\",\n",
    "    \"pipeline.0.cat_tf_prob_logits\": \"categorical imputation - regression\",\n",
    "    \"pipeline.1.tf_prob_logits\": \"normalization - regression\",\n",
    "    \"pipeline.2.tf_prob_logits\": \"cleaning outliers - regression\",\n",
    "    \"pipeline.3.tf_prob_logits\": \"discretization - regression\"\n",
    "}\n",
    "\n",
    "r_value_abbreviation_mapping = {\n",
    "    \"numerical imputation - regression\": \"nimpR\",\n",
    "    \"categorical imputation - regression\": \"cimpR\",\n",
    "    \"normalization - regression\": \"normR\",\n",
    "    \"cleaning outliers - regression\": \"coR\",\n",
    "    \"discretization - regression\": \"disR\"\n",
    "}\n",
    "\n",
    "\n",
    "\n",
    "def process_pc_data(data):\n",
    "    processed_data = []\n",
    "    labels = []\n",
    "    point_labels = []  # New list for individual point labels\n",
    "    max_length = 0\n",
    "    \n",
    "    # First pass to find the maximum length of sublist\n",
    "    for transformations in data.values():\n",
    "        for transformation in transformations:\n",
    "            flat_transformation = flatten_and_pad_list(transformation, 0)  # '0' will be replaced later\n",
    "            max_length = max(max_length, len(flat_transformation))\n",
    "    \n",
    "    # Second pass to flatten and pad data\n",
    "    for transformations in data.values():\n",
    "        for transformation in transformations:\n",
    "            flat_transformation = flatten_and_pad_list(transformation, 0)  # '0' will be replaced later\n",
    "            max_length = max(max_length, len(flat_transformation))\n",
    "\n",
    "    \n",
    "    labelarrmap = defaultdict(list)\n",
    "    indexordermap = get_index_order_map(data, \"c\")\n",
    "    # Second pass to flatten and pad data\n",
    "    key_labels = []\n",
    "    for key, values in data.items():\n",
    "        i = 0\n",
    "      \n",
    "        if key == \"alpha\":\n",
    "            continue\n",
    "        for value in values:\n",
    "            # Flatten the list and append\n",
    "            flattened = flatten_and_pad_list(value, max_length)\n",
    "            processed_data.append(flattened)\n",
    "  \n",
    "            if key in c_key_mapping:\n",
    "                task = c_key_mapping[key]\n",
    "                abreviation = c_value_abbreviation_mapping[task]\n",
    "                point_labels.append(\"c\" + str(i))\n",
    "                currentorder = indexordermap[i]\n",
    "                if abreviation in currentorder:\n",
    "                    key_labels.append(abreviation + \"_\" + str(currentorder.index(abreviation)))\n",
    "                    labelarrmap[str(i) + abreviation + \"_\" + str(currentorder.index(abreviation))].append(flattened)\n",
    "                else:\n",
    "                    key_labels.append(\"c\" + abreviation)\n",
    "         \n",
    "            else:\n",
    "                print(\"problem\" + key)\n",
    "\n",
    "\n",
    "            \n",
    "            i += 1\n",
    "\n",
    "    \n",
    "    # Generate labels for each point\n",
    "    # for i in range(len(processed_data)):\n",
    "    #     point_labels.append(f\"r{i+1}\")\n",
    "\n",
    "    return np.array(processed_data), point_labels, key_labels, labelarrmap, indexordermap\n",
    "\n",
    "\n",
    "def process_pr_data(data):\n",
    "    processed_data = []\n",
    "    labels = []\n",
    "    point_labels = []  # New list for individual point labels\n",
    "    max_length = 0\n",
    "    \n",
    "    # First pass to find the maximum length of sublist\n",
    "    for transformations in data.values():\n",
    "        for transformation in transformations:\n",
    "            flat_transformation = flatten_and_pad_list(transformation, 0)  # '0' will be replaced later\n",
    "            max_length = max(max_length, len(flat_transformation))\n",
    "    \n",
    "    # Second pass to flatten and pad data\n",
    "    for transformations in data.values():\n",
    "        for transformation in transformations:\n",
    "            flat_transformation = flatten_and_pad_list(transformation, 0)  # '0' will be replaced later\n",
    "            max_length = max(max_length, len(flat_transformation))\n",
    "\n",
    "    \n",
    "    labelarrmap = {}\n",
    "    indexordermap = get_index_order_map(data, \"r\")\n",
    "    # Second pass to flatten and pad data\n",
    "    key_labels = []\n",
    "    for key, values in data.items():\n",
    "        i = 0\n",
    "\n",
    "        if key == \"alpha\":\n",
    "            continue\n",
    "        for value in values:\n",
    "            # Flatten the list and append\n",
    "            flattened = flatten_and_pad_list(value, max_length)\n",
    "          \n",
    "            processed_data.append(flattened)\n",
    "            if key in r_key_mapping:\n",
    "                task = r_key_mapping[key]\n",
    "                abreviation = r_value_abbreviation_mapping[task]\n",
    "                point_labels.append(\"r\" + str(i))\n",
    "                currentorder = indexordermap[i]\n",
    "                if abreviation in currentorder:\n",
    "                    key_labels.append(abreviation + \"_\" + str(currentorder.index(abreviation)))\n",
    "                    labelarrmap[abreviation] = flattened\n",
    "                else:\n",
    "                    key_labels.append(\"r\" + abreviation)\n",
    "         \n",
    "            else:\n",
    "                print(\"problem\" + key)\n",
    "\n",
    "\n",
    "            \n",
    "            i += 1\n",
    "\n",
    "    \n",
    "    # Generate labels for each point\n",
    "    # for i in range(len(processed_data)):\n",
    "    #     point_labels.append(f\"r{i+1}\")\n",
    "\n",
    "    return np.array(processed_data), point_labels, key_labels, labelarrmap, indexordermap\n",
    "\n",
    "\n",
    "\n",
    "\n",
    "\n",
    "\n",
    "X_pc, labels_pc, point_labels_pc, c_labelarrmap, c_indexordermap = process_pc_data(data_pc)\n",
    "X_pr, labels_pr, point_labels_pr, r_labelarrmap, r_indexordermap = process_pr_data(data_pr)\n",
    "print(r_labelarrmap)\n",
    "\n",
    "X_combined = np.vstack((X_pc, X_pr))\n",
    "labels_combined = labels_pc + labels_pr\n",
    "point_labels_combined = point_labels_pc + point_labels_pr  # Combine point labels\n",
    "\n",
    "\n",
    "# Combine both datasets\n",
    "X_combined = np.vstack((X_pc, X_pr))\n",
    "labels_combined = labels_pc + labels_pr\n",
    "point_labels_combined = point_labels_pc + point_labels_pr  # Combine point labels\n",
    "\n",
    "# Impute missing values if necessary\n",
    "imputer = SimpleImputer(missing_values=np.nan, strategy='mean')\n",
    "X_imputed = imputer.fit_transform(X_combined)\n",
    "\n",
    "# Perform PCA\n",
    "pca = PCA(n_components=2)\n",
    "pca_results = pca.fit_transform(X_imputed)\n",
    "\n",
    "\n",
    "# Create DataFrame including point labels\n",
    "df_combined = pd.DataFrame(pca_results, columns=['Dim1', 'Dim2'])\n",
    "df_combined['Label'] = labels_combined\n",
    "df_combined['PointLabel'] = point_labels_combined  # Add point labels to DataFrame\n",
    "\n",
    "# Visualize using Plotly with point labels\n",
    "fig = px.scatter(df_combined, x='Dim1', y='Dim2', color='Label', text='PointLabel', title='Combined PCA Visualization for the pbcseq Dataset')\n",
    "fig.update_traces(textposition='top center')\n",
    "fig.show()\n",
    "\n",
    "\n",
    "\n",
    "\n",
    "\n",
    "\n"
   ]
  },
  {
   "cell_type": "code",
   "execution_count": 2,
   "metadata": {},
   "outputs": [
    {
     "name": "stdout",
     "output_type": "stream",
     "text": [
      "bestpipelines_mozilla_c.json bestpipelines_mozilla_r.json\n",
      "[cosine_totaldist, euclid_totaldist, manhattan_totaldist, chebyshev_totaldist, canberra_totaldist]\n",
      "[9.23505213881556, 20.15351939909082, 27.541511108188562, 16.295606912306937, 16.650798918685876]\n",
      "normalized\n",
      "[0.0, 0.5964270467894434, 1.0, 0.38568653748405396, 0.40508908862587667]\n"
     ]
    }
   ],
   "source": [
    "\n",
    "array_of_arrays = df_combined.values.tolist()\n",
    "reversed_arrays = [row[::-1] for row in array_of_arrays]\n",
    "\n",
    "\n",
    "from sklearn.preprocessing import StandardScaler\n",
    "\n",
    "def get_dim_data(dim):\n",
    "    if dim == \"dim1\":\n",
    "        dimindex = 2\n",
    "    elif dim == \"dim2\":\n",
    "        dimindex = 3\n",
    "    \n",
    "    dimdata = []\n",
    "    for arr in reversed_arrays:\n",
    "        dimdata.append(arr[dimindex])\n",
    "\n",
    "\n",
    "    data = dimdata\n",
    "    # Reshaping the 1D array to 2D since StandardScaler expects 2D inputs\n",
    "    data_2d = np.array(data).reshape(-1, 1)\n",
    "\n",
    "    # Creating a StandardScaler object\n",
    "    scaler = StandardScaler()\n",
    "\n",
    "    # Fitting the scaler to the data and transforming it\n",
    "    normalized_data = scaler.fit_transform(data_2d)\n",
    "\n",
    "    # Flattening the 2D array back to 1D\n",
    "    normalized_data_1d = normalized_data.ravel()\n",
    "\n",
    "    normalized_data_1d.tolist() \n",
    "\n",
    "    return normalized_data_1d\n",
    "\n",
    "dim1data = get_dim_data(\"dim1\")\n",
    "dim2data = get_dim_data(\"dim2\")\n",
    "\n",
    "indexpipelinemap = {\n",
    "    \n",
    "    0 : \"pipeline.1.tf_prob_logits\" ,\n",
    "    1 : \"pipeline.2.tf_prob_logits\" ,\n",
    "    2 : \"pipeline.3.tf_prob_logits\" ,\n",
    "    \n",
    "}\n",
    "def get_featurepipelinemap(data, indexordermap):\n",
    "    featurepipelinemap = defaultdict(list)\n",
    "    for i in range(len(indexordermap)):\n",
    "        orderforcurrentfeature = indexordermap[i]\n",
    "        for index in orderforcurrentfeature:\n",
    "            index_ordermapindex = indexpipelinemap[index]\n",
    "            currentarray = data[index_ordermapindex][i]\n",
    "            featurepipelinemap[i].append(currentarray)\n",
    "    return featurepipelinemap\n",
    "\n",
    "c_featurepipelinemap = get_featurepipelinemap(data_pc, c_indexordermap)\n",
    "r_featurepipelinemap = get_featurepipelinemap(data_pr, r_indexordermap)\n",
    "\n",
    "\n",
    "\n",
    "label_pointlabel_dims_map = defaultdict(dict)\n",
    "curindex = 0\n",
    "for pointlabel, label, dim1, dim2 in reversed_arrays:\n",
    "    genericpointlabel = pointlabel[1:-1]\n",
    "    if \"imp\" in genericpointlabel:\n",
    "        continue\n",
    "    \n",
    "    label_pointlabel_dims_map[label][genericpointlabel] = [dim1data[curindex], dim2data[curindex]]\n",
    "    curindex += 1\n",
    "\n",
    "indextransformationmap = {\n",
    "    0: \"norm\",\n",
    "    1: \"co\",\n",
    "    2: \"dis\"\n",
    "}\n",
    "\n",
    "\n",
    "\n",
    "import numpy as np\n",
    "from numpy.linalg import norm\n",
    "\n",
    "def cosine_similarity(arr1, arr2):\n",
    "    # Pad the shorter array with zeros\n",
    "    if len(arr1) > len(arr2):\n",
    "        arr2 = np.pad(arr2, (0, len(arr1) - len(arr2)), 'constant')\n",
    "    elif len(arr2) > len(arr1):\n",
    "        arr1 = np.pad(arr1, (0, len(arr2) - len(arr1)), 'constant')\n",
    "\n",
    "    # Calculate cosine similarity\n",
    "    dot_product = np.dot(arr1, arr2)\n",
    "    norm_product = norm(arr1) * norm(arr2)\n",
    "    \n",
    "    if norm_product == 0:\n",
    "        # Avoid division by zero\n",
    "        return 0\n",
    "\n",
    "    similarity = dot_product / norm_product\n",
    "    return abs(similarity)\n",
    "\n",
    "\n",
    "cosine_totaldist = 0\n",
    "\n",
    "for i in range(len(c_indexordermap)):\n",
    "    clabel = \"c\" + str(i)\n",
    "    rlabel = \"r\" + str(i)\n",
    "\n",
    "    for j in range(3):\n",
    "        current_c_transform = indextransformationmap[c_indexordermap[i][j]]\n",
    "        current_r_transform = indextransformationmap[r_indexordermap[i][j]]\n",
    "\n",
    "        \n",
    "        current_c_array = label_pointlabel_dims_map[clabel][current_c_transform]\n",
    "        current_r_array = label_pointlabel_dims_map[rlabel][current_r_transform]\n",
    "\n",
    "        \n",
    "        currentdistance = (cosine_similarity(current_c_array, current_r_array)) #take abs value?\n",
    "\n",
    "        cosine_totaldist += currentdistance\n",
    "\n",
    "\n",
    "\n",
    "import numpy as np\n",
    "from scipy.interpolate import interp1d\n",
    "\n",
    "def euclidean_distance(arr1, arr2):\n",
    "    # Ensure both arrays are numpy arrays\n",
    "    arr1, arr2 = np.array(arr1), np.array(arr2)\n",
    "    \n",
    "    # If arrays are of equal length, calculate Euclidean distance directly\n",
    "    if len(arr1) == len(arr2):\n",
    "        return np.linalg.norm(arr1 - arr2)\n",
    "\n",
    "    # Interpolate the shorter array\n",
    "    if len(arr1) < len(arr2):\n",
    "        x = np.linspace(0, 1, len(arr1))\n",
    "        f = interp1d(x, arr1, kind='linear')\n",
    "        x_new = np.linspace(0, 1, len(arr2))\n",
    "        arr1 = f(x_new)\n",
    "    else:\n",
    "        x = np.linspace(0, 1, len(arr2))\n",
    "        f = interp1d(x, arr2, kind='linear')\n",
    "        x_new = np.linspace(0, 1, len(arr1))\n",
    "        arr2 = f(x_new)\n",
    "\n",
    "    # Calculate Euclidean distance\n",
    "    return np.linalg.norm(arr1 - arr2)\n",
    "\n",
    "euclid_totaldist = 0\n",
    "\n",
    "for i in range(len(c_indexordermap)):\n",
    "    clabel = \"c\" + str(i)\n",
    "    rlabel = \"r\" + str(i)\n",
    "\n",
    "    for j in range(3):\n",
    "        current_c_transform = indextransformationmap[c_indexordermap[i][j]]\n",
    "        current_r_transform = indextransformationmap[r_indexordermap[i][j]]\n",
    "\n",
    "        \n",
    "        current_c_array = label_pointlabel_dims_map[clabel][current_c_transform]\n",
    "        current_r_array = label_pointlabel_dims_map[rlabel][current_r_transform]\n",
    "\n",
    "        \n",
    "        currentdistance = (euclidean_distance(current_c_array, current_r_array)) #take abs value?\n",
    "\n",
    "        euclid_totaldist += currentdistance\n",
    "\n",
    "\n",
    "\n",
    "\n",
    "import numpy as np\n",
    "\n",
    "def manhattan_distance(arr1, arr2):\n",
    "    # Convert to numpy arrays for convenience\n",
    "    arr1, arr2 = np.array(arr1), np.array(arr2)\n",
    "\n",
    "    # Pad the shorter array with zeros\n",
    "    if len(arr1) > len(arr2):\n",
    "        arr2 = np.pad(arr2, (0, len(arr1) - len(arr2)), 'constant')\n",
    "    elif len(arr2) > len(arr1):\n",
    "        arr1 = np.pad(arr1, (0, len(arr2) - len(arr1)), 'constant')\n",
    "\n",
    "    # Calculate Manhattan distance\n",
    "    distance = np.sum(np.abs(arr1 - arr2))\n",
    "    return distance\n",
    "manhattan_totaldist = 0\n",
    "\n",
    "for i in range(len(c_indexordermap)):\n",
    "    clabel = \"c\" + str(i)\n",
    "    rlabel = \"r\" + str(i)\n",
    "\n",
    "    for j in range(3):\n",
    "        current_c_transform = indextransformationmap[c_indexordermap[i][j]]\n",
    "        current_r_transform = indextransformationmap[r_indexordermap[i][j]]\n",
    "\n",
    "        \n",
    "        current_c_array = label_pointlabel_dims_map[clabel][current_c_transform]\n",
    "        current_r_array = label_pointlabel_dims_map[rlabel][current_r_transform]\n",
    "\n",
    "        \n",
    "        currentdistance = (manhattan_distance(current_c_array, current_r_array)) #take abs value?\n",
    "\n",
    "        manhattan_totaldist += currentdistance\n",
    "\n",
    "\n",
    "\n",
    "\n",
    "import numpy as np\n",
    "\n",
    "def chebyshev_distance(arr1, arr2):\n",
    "    \"\"\"Compute the Chebyshev distance between two 1D numpy arrays.\"\"\"\n",
    "    return max(abs(a - b) for a, b in zip(arr1, arr2))\n",
    "\n",
    "\n",
    "chebyshev_totaldist = 0\n",
    "\n",
    "for i in range(len(c_indexordermap)):\n",
    "    clabel = \"c\" + str(i)\n",
    "    rlabel = \"r\" + str(i)\n",
    "\n",
    "    for j in range(3):\n",
    "        current_c_transform = indextransformationmap[c_indexordermap[i][j]]\n",
    "        current_r_transform = indextransformationmap[r_indexordermap[i][j]]\n",
    "\n",
    "        \n",
    "        current_c_array = label_pointlabel_dims_map[clabel][current_c_transform]\n",
    "        current_r_array = label_pointlabel_dims_map[rlabel][current_r_transform]\n",
    "\n",
    "        \n",
    "        currentdistance = (chebyshev_distance(current_c_array, current_r_array)) #take abs value?\n",
    "\n",
    "        chebyshev_totaldist += currentdistance\n",
    "\n",
    "\n",
    "\n",
    "\n",
    "import numpy as np\n",
    "\n",
    "def canberra_distance(arr1, arr2):\n",
    "    # Convert arrays to numpy arrays for easier manipulation\n",
    "    arr1 = np.array(arr1)\n",
    "    arr2 = np.array(arr2)\n",
    "\n",
    "    # Check if arrays are of the same length\n",
    "    if arr1.shape != arr2.shape:\n",
    "        raise ValueError(\"Arrays must be of the same length\")\n",
    "\n",
    "    # Compute the Canberra distance\n",
    "    return np.sum(np.abs(arr1 - arr2) / (np.abs(arr1) + np.abs(arr2) + np.finfo(float).eps))\n",
    "\n",
    "canberra_totaldist = 0\n",
    "\n",
    "for i in range(len(c_indexordermap)):\n",
    "    clabel = \"c\" + str(i)\n",
    "    rlabel = \"r\" + str(i)\n",
    "\n",
    "    for j in range(3):\n",
    "        current_c_transform = indextransformationmap[c_indexordermap[i][j]]\n",
    "        current_r_transform = indextransformationmap[r_indexordermap[i][j]]\n",
    "\n",
    "        \n",
    "        current_c_array = label_pointlabel_dims_map[clabel][current_c_transform]\n",
    "        current_r_array = label_pointlabel_dims_map[rlabel][current_r_transform]\n",
    "\n",
    "        \n",
    "        currentdistance = (canberra_distance(current_c_array, current_r_array)) #take abs value?\n",
    "\n",
    "        canberra_totaldist += currentdistance\n",
    "\n",
    "\n",
    "\n",
    "\n",
    "\n",
    "\n",
    "arr = [cosine_totaldist, euclid_totaldist, manhattan_totaldist, chebyshev_totaldist, canberra_totaldist]\n",
    "print(file_path_pc, file_path_pr)\n",
    "print(\"[cosine_totaldist, euclid_totaldist, manhattan_totaldist, chebyshev_totaldist, canberra_totaldist]\")\n",
    "print(arr)\n",
    "\n",
    "\n",
    "min_val = min(arr)\n",
    "max_val = max(arr)\n",
    "    \n",
    "    # Avoid division by zero if all values are the same\n",
    "if max_val == min_val:\n",
    "    normalized = [0.5, 0.5, 0.5]  # or return the original array, as preferred\n",
    "else:\n",
    "    normalized = [(x - min_val) / (max_val - min_val) for x in arr]\n",
    "print(\"normalized\")\n",
    "print(normalized)"
   ]
  }
 ],
 "metadata": {
  "kernelspec": {
   "display_name": "Python 3",
   "language": "python",
   "name": "python3"
  },
  "language_info": {
   "codemirror_mode": {
    "name": "ipython",
    "version": 3
   },
   "file_extension": ".py",
   "mimetype": "text/x-python",
   "name": "python",
   "nbconvert_exporter": "python",
   "pygments_lexer": "ipython3",
   "version": "3.11.5"
  }
 },
 "nbformat": 4,
 "nbformat_minor": 2
}
