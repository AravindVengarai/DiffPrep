{
 "cells": [
  {
   "cell_type": "code",
   "execution_count": 113,
   "metadata": {},
   "outputs": [],
   "source": [
    "\n",
    "import json\n",
    "import numpy as np\n",
    "from sklearn.manifold import TSNE\n",
    "import pandas as pd\n",
    "import plotly.express as px\n",
    "from sklearn.impute import SimpleImputer\n",
    "import numpy as np\n",
    "import pandas as pd\n",
    "import matplotlib.pyplot as plt\n",
    "from sklearn.decomposition import PCA\n",
    "import json\n",
    "from sklearn.impute import SimpleImputer\n",
    "from collections import defaultdict\n",
    "from collections import defaultdict\n",
    "\n",
    "# Load and process data for pc\n",
    "file_path_pc = 'bestpipelines_usc_c.json'\n",
    "with open(file_path_pc, 'r') as file:\n",
    "    data_pc = json.load(file)\n",
    "\n",
    "\n",
    "# Load and process data for pr\n",
    "file_path_pr = 'bestpipelines_usc_r.json'\n",
    "with open(file_path_pr, 'r') as file:\n",
    "    data_pr = json.load(file)\n",
    "\n",
    "\n",
    "\n",
    "def get_index_order_map(data, type):\n",
    "    def sort_indices_by_value_r(arr):\n",
    "        # Enumerate the array: [(index, value), ...]\n",
    "        \"\"\"\n",
    "        indexed_arr = enumerate(arr)\n",
    "\n",
    "        # Sort the enumerated array based on the value\n",
    "        sorted_arr = sorted(indexed_arr, key=lambda x: x[1], reverse=True)\n",
    "\n",
    "        r_abbr_index_mapping = {\n",
    "        \"normR\" : 0,\n",
    "        \"coR\" : 1,\n",
    "        \"disR\" : 2\n",
    "        }\n",
    "        index_r_abbr_mapping = {value: key for key, value in r_abbr_index_mapping.items()}\n",
    "\n",
    "\n",
    "    \n",
    "\n",
    "        # Extract the indices from the sorted array\n",
    "        indices = [index_r_abbr_mapping[index] for index, value in sorted_arr]\n",
    "\n",
    "        return indices\n",
    "        \n",
    "        \"\"\"\n",
    "\n",
    "        maxval = arr[0]\n",
    "        maxindex = 0\n",
    "\n",
    "        for i, val in enumerate(arr):\n",
    "            if val > maxval:\n",
    "                maxval = val\n",
    "                maxindex = i\n",
    "        return maxindex\n",
    "        \n",
    "\n",
    "    def sort_indices_by_value_c(arr):\n",
    "        # Enumerate the array: [(index, value), ...]\n",
    "        \"\"\"\n",
    "        indexed_arr = enumerate(arr)\n",
    "\n",
    "        # Sort the enumerated array based on the value\n",
    "        sorted_arr = sorted(indexed_arr, key=lambda x: x[1], reverse=True)\n",
    "\n",
    "        c_abbr_index_mapping = {\n",
    "        \"normC\" : 0,\n",
    "        \"coC\" : 1,\n",
    "        \"disC\" : 2\n",
    "        }\n",
    "        index_c_abbr_mapping = {value: key for key, value in c_abbr_index_mapping.items()}\n",
    "\n",
    "\n",
    "    \n",
    "\n",
    "        # Extract the indices from the sorted array\n",
    "        indices = [index_c_abbr_mapping[index] for index, value in sorted_arr]\n",
    "\n",
    "        return indices\n",
    "        \"\"\"\n",
    "        \n",
    "    \n",
    "        maxval = arr[0]\n",
    "        maxindex = 0\n",
    "\n",
    "        for i, val in enumerate(arr):\n",
    "            if val > maxval:\n",
    "                maxval = val\n",
    "                maxindex = i\n",
    "        return maxindex\n",
    "\n",
    "    indexordermap = defaultdict(list)\n",
    "    \n",
    "    for i, arr in enumerate(data[\"alpha\"]):\n",
    "        \n",
    "        for subarr in arr:\n",
    "            if type == \"r\":\n",
    "                indexordermap[i].append(sort_indices_by_value_r(subarr))\n",
    "            else:\n",
    "               \n",
    "                indexordermap[i].append(sort_indices_by_value_c(subarr))\n",
    "    return indexordermap\n",
    "\n",
    "\n",
    "\n",
    "\n",
    "import json\n",
    "import numpy as np\n",
    "from sklearn.manifold import TSNE\n",
    "import pandas as pd\n",
    "import plotly.express as px\n",
    "from sklearn.impute import SimpleImputer\n",
    "import numpy as np\n",
    "import pandas as pd\n",
    "import matplotlib.pyplot as plt\n",
    "from sklearn.decomposition import PCA\n",
    "import json\n",
    "from sklearn.impute import SimpleImputer\n",
    "from collections import defaultdict\n",
    "\n",
    "def flatten_list(nested_list):\n",
    "    flattened = []\n",
    "    for item in nested_list:\n",
    "        if isinstance(item, list):\n",
    "            flattened.extend(flatten_list(item))  # Recursively flatten the item if it is a list\n",
    "        else:\n",
    "            flattened.append(item)\n",
    "    return flattened\n",
    "\n",
    "\n",
    "\n",
    "def flatten_and_pad_list(nested_list, desired_length):\n",
    "    flattened = []\n",
    "    for item in nested_list:\n",
    "        if isinstance(item, list):\n",
    "            flattened.extend(item)\n",
    "        else:\n",
    "            flattened.append(item)\n",
    "    \n",
    "    # Pad the list if it's shorter than the desired length\n",
    "    while len(flattened) < desired_length:\n",
    "        flattened.append(0)\n",
    "    \n",
    "    return flattened\n",
    "\n",
    "c_key_mapping = {\n",
    "    \"imputation.num_pc\": \"numerical imputation - classification\",\n",
    "    \"imputation.cat_pc\": \"categorical imputation - classification\",\n",
    "    \"nomralization.pc\": \"normalization - classification\",  # Note: Check if 'nomralization.pc' is a typo. It might be 'normalization.pc'.\n",
    "    \"cleaning_outliers.pc\": \"cleaning outliers - classification\",\n",
    "    \"discretization.pc\": \"discretization - classification\",\n",
    "    \"pipeline.0.num_tf_prob_logits\": \"numerical imputation - classification\",\n",
    "    \"pipeline.0.cat_tf_prob_logits\": \"categorical imputation - classification\",\n",
    "    \"pipeline.1.tf_prob_logits\": \"normalization - classification\",\n",
    "    \"pipeline.2.tf_prob_logits\": \"cleaning outliers - classification\",\n",
    "    \"pipeline.3.tf_prob_logits\": \"discretization - classification\"\n",
    "   }\n",
    "\n",
    "c_value_abbreviation_mapping = {\n",
    "    \"numerical imputation - classification\": \"nimpC\",\n",
    "    \"categorical imputation - classification\": \"cimpC\",\n",
    "    \"normalization - classification\": \"normC\",\n",
    "    \"cleaning outliers - classification\": \"coC\",\n",
    "    \"discretization - classification\": \"disC\"\n",
    "}\n",
    "\n",
    "\n",
    "        \n",
    "r_key_mapping = {\n",
    "    \"imputation.num_pc\": \"numerical imputation - regression\",\n",
    "    \"imputation.cat_pc\": \"categorical imputation - regression\",\n",
    "    \"nomralization.pc\": \"normalization - regression\",  # Note: Check if 'nomralization.pc' is a typo. It might be 'normalization.pc'.\n",
    "    \"cleaning_outliers.pc\": \"cleaning outliers - regression\",\n",
    "    \"discretization.pc\": \"discretization - regression\",\n",
    "    \"pipeline.0.num_tf_prob_logits\": \"numerical imputation - regression\",\n",
    "    \"pipeline.0.cat_tf_prob_logits\": \"categorical imputation - regression\",\n",
    "    \"pipeline.1.tf_prob_logits\": \"normalization - regression\",\n",
    "    \"pipeline.2.tf_prob_logits\": \"cleaning outliers - regression\",\n",
    "    \"pipeline.3.tf_prob_logits\": \"discretization - regression\"\n",
    "}\n",
    "\n",
    "r_value_abbreviation_mapping = {\n",
    "    \"numerical imputation - regression\": \"nimpR\",\n",
    "    \"categorical imputation - regression\": \"cimpR\",\n",
    "    \"normalization - regression\": \"normR\",\n",
    "    \"cleaning outliers - regression\": \"coR\",\n",
    "    \"discretization - regression\": \"disR\"\n",
    "}\n",
    "\n",
    "\n",
    "\n",
    "def process_pc_data(data):\n",
    "    processed_data = []\n",
    "    labels = []\n",
    "    point_labels = []  # New list for individual point labels\n",
    "    max_length = 0\n",
    "    \n",
    "    # First pass to find the maximum length of sublist\n",
    "    for transformations in data.values():\n",
    "        for transformation in transformations:\n",
    "            flat_transformation = flatten_and_pad_list(transformation, 0)  # '0' will be replaced later\n",
    "            max_length = max(max_length, len(flat_transformation))\n",
    "    \n",
    "    # Second pass to flatten and pad data\n",
    "    for transformations in data.values():\n",
    "        for transformation in transformations:\n",
    "            flat_transformation = flatten_and_pad_list(transformation, 0)  # '0' will be replaced later\n",
    "            max_length = max(max_length, len(flat_transformation))\n",
    "\n",
    "    \n",
    "    labelarrmap = defaultdict(list)\n",
    "    indexordermap = get_index_order_map(data, \"c\")\n",
    "    # Second pass to flatten and pad data\n",
    "    key_labels = []\n",
    "    for key, values in data.items():\n",
    "        i = 0\n",
    "      \n",
    "        if key == \"alpha\":\n",
    "            continue\n",
    "        for value in values:\n",
    "            # Flatten the list and append\n",
    "            flattened = flatten_and_pad_list(value, max_length)\n",
    "            processed_data.append(flattened)\n",
    "  \n",
    "            if key in c_key_mapping:\n",
    "                task = c_key_mapping[key]\n",
    "                abreviation = c_value_abbreviation_mapping[task]\n",
    "                point_labels.append(\"c\" + str(i))\n",
    "                currentorder = indexordermap[i]\n",
    "                if abreviation in currentorder:\n",
    "                    key_labels.append(abreviation + \"_\" + str(currentorder.index(abreviation)))\n",
    "                    labelarrmap[str(i) + abreviation + \"_\" + str(currentorder.index(abreviation))].append(flattened)\n",
    "                else:\n",
    "                    key_labels.append(\"c\" + abreviation)\n",
    "         \n",
    "            else:\n",
    "                print(\"problem\" + key)\n",
    "\n",
    "\n",
    "            \n",
    "            i += 1\n",
    "\n",
    "    \n",
    "    # Generate labels for each point\n",
    "    # for i in range(len(processed_data)):\n",
    "    #     point_labels.append(f\"r{i+1}\")\n",
    "\n",
    "    return np.array(processed_data), point_labels, key_labels, labelarrmap, indexordermap\n",
    "\n",
    "\n",
    "def process_pr_data(data):\n",
    "    processed_data = []\n",
    "    labels = []\n",
    "    point_labels = []  # New list for individual point labels\n",
    "    max_length = 0\n",
    "    \n",
    "    # First pass to find the maximum length of sublist\n",
    "    for transformations in data.values():\n",
    "        for transformation in transformations:\n",
    "            flat_transformation = flatten_and_pad_list(transformation, 0)  # '0' will be replaced later\n",
    "            max_length = max(max_length, len(flat_transformation))\n",
    "    \n",
    "    # Second pass to flatten and pad data\n",
    "    for transformations in data.values():\n",
    "        for transformation in transformations:\n",
    "            flat_transformation = flatten_and_pad_list(transformation, 0)  # '0' will be replaced later\n",
    "            max_length = max(max_length, len(flat_transformation))\n",
    "\n",
    "    \n",
    "    labelarrmap = {}\n",
    "    indexordermap = get_index_order_map(data, \"r\")\n",
    "    # Second pass to flatten and pad data\n",
    "    key_labels = []\n",
    "    for key, values in data.items():\n",
    "        i = 0\n",
    "\n",
    "        if key == \"alpha\":\n",
    "            continue\n",
    "        for value in values:\n",
    "            # Flatten the list and append\n",
    "            flattened = flatten_and_pad_list(value, max_length)\n",
    "          \n",
    "            processed_data.append(flattened)\n",
    "            if key in r_key_mapping:\n",
    "                task = r_key_mapping[key]\n",
    "                abreviation = r_value_abbreviation_mapping[task]\n",
    "                point_labels.append(\"r\" + str(i))\n",
    "                currentorder = indexordermap[i]\n",
    "                if abreviation in currentorder:\n",
    "                    key_labels.append(abreviation + \"_\" + str(currentorder.index(abreviation)))\n",
    "                    labelarrmap[abreviation] = flattened\n",
    "                else:\n",
    "                    key_labels.append(\"r\" + abreviation)\n",
    "         \n",
    "            else:\n",
    "                print(\"problem\" + key)\n",
    "\n",
    "\n",
    "            \n",
    "            i += 1\n",
    "\n",
    "    \n",
    "    # Generate labels for each point\n",
    "    # for i in range(len(processed_data)):\n",
    "    #     point_labels.append(f\"r{i+1}\")\n",
    "\n",
    "    return np.array(processed_data), point_labels, key_labels, labelarrmap, indexordermap\n",
    "\n",
    "\n",
    "\n",
    "\n",
    "\n",
    "\n",
    "\n",
    "\n"
   ]
  },
  {
   "cell_type": "code",
   "execution_count": 114,
   "metadata": {},
   "outputs": [
    {
     "name": "stdout",
     "output_type": "stream",
     "text": [
      "{}\n"
     ]
    },
    {
     "data": {
      "application/vnd.plotly.v1+json": {
       "config": {
        "plotlyServerURL": "https://plot.ly"
       },
       "data": [
        {
         "hovertemplate": "Label=c0<br>Dim1=%{x}<br>Dim2=%{y}<br>PointLabel=%{text}<extra></extra>",
         "legendgroup": "c0",
         "marker": {
          "color": "#636efa",
          "symbol": "circle"
         },
         "mode": "markers+text",
         "name": "c0",
         "orientation": "v",
         "showlegend": true,
         "text": [
          "cnimpC",
          "ccimpC",
          "cnormC",
          "ccoC",
          "cdisC"
         ],
         "textposition": "top center",
         "type": "scatter",
         "x": [
          -15.967842102050781,
          -52.15093994140625,
          -38.03828430175781,
          41.825767517089844,
          -6.491447448730469
         ],
         "xaxis": "x",
         "y": [
          23.412582397460938,
          -24.0360050201416,
          17.7315731048584,
          -3.2375426292419434,
          49.63359832763672
         ],
         "yaxis": "y"
        },
        {
         "hovertemplate": "Label=c1<br>Dim1=%{x}<br>Dim2=%{y}<br>PointLabel=%{text}<extra></extra>",
         "legendgroup": "c1",
         "marker": {
          "color": "#EF553B",
          "symbol": "circle"
         },
         "mode": "markers+text",
         "name": "c1",
         "orientation": "v",
         "showlegend": true,
         "text": [
          "cnimpC",
          "ccimpC",
          "cnormC",
          "ccoC",
          "cdisC"
         ],
         "textposition": "top center",
         "type": "scatter",
         "x": [
          -15.972482681274414,
          -52.15093994140625,
          -32.113426208496094,
          42.58116149902344,
          -7.825434684753418
         ],
         "xaxis": "x",
         "y": [
          24.2003173828125,
          -24.0360050201416,
          14.28217887878418,
          -5.14225435256958,
          50.19046401977539
         ],
         "yaxis": "y"
        },
        {
         "hovertemplate": "Label=c2<br>Dim1=%{x}<br>Dim2=%{y}<br>PointLabel=%{text}<extra></extra>",
         "legendgroup": "c2",
         "marker": {
          "color": "#00cc96",
          "symbol": "circle"
         },
         "mode": "markers+text",
         "name": "c2",
         "orientation": "v",
         "showlegend": true,
         "text": [
          "cnimpC",
          "ccimpC",
          "cnormC",
          "ccoC",
          "cdisC"
         ],
         "textposition": "top center",
         "type": "scatter",
         "x": [
          -16.936859130859375,
          -52.15093994140625,
          -31.752132415771484,
          42.48990249633789,
          -7.197824478149414
         ],
         "xaxis": "x",
         "y": [
          23.64210319519043,
          -24.0360050201416,
          14.073945999145508,
          -2.2615580558776855,
          47.244441986083984
         ],
         "yaxis": "y"
        },
        {
         "hovertemplate": "Label=c3<br>Dim1=%{x}<br>Dim2=%{y}<br>PointLabel=%{text}<extra></extra>",
         "legendgroup": "c3",
         "marker": {
          "color": "#ab63fa",
          "symbol": "circle"
         },
         "mode": "markers+text",
         "name": "c3",
         "orientation": "v",
         "showlegend": true,
         "text": [
          "cnimpC",
          "ccimpC",
          "cnormC",
          "ccoC",
          "cdisC"
         ],
         "textposition": "top center",
         "type": "scatter",
         "x": [
          -16.465246200561523,
          -36.09466552734375,
          -40.9887580871582,
          46.317283630371094,
          -8.492974281311035
         ],
         "xaxis": "x",
         "y": [
          24.965511322021484,
          14.274785995483398,
          16.240922927856445,
          -3.0065953731536865,
          47.51316452026367
         ],
         "yaxis": "y"
        },
        {
         "hovertemplate": "Label=c4<br>Dim1=%{x}<br>Dim2=%{y}<br>PointLabel=%{text}<extra></extra>",
         "legendgroup": "c4",
         "marker": {
          "color": "#FFA15A",
          "symbol": "circle"
         },
         "mode": "markers+text",
         "name": "c4",
         "orientation": "v",
         "showlegend": true,
         "text": [
          "cnimpC",
          "ccimpC",
          "cnormC",
          "ccoC",
          "cdisC"
         ],
         "textposition": "top center",
         "type": "scatter",
         "x": [
          -15.410829544067383,
          -52.15093994140625,
          -40.2009391784668,
          47.19163131713867,
          -10.395724296569824
         ],
         "xaxis": "x",
         "y": [
          23.755340576171875,
          -24.0360050201416,
          16.377408981323242,
          -4.529748916625977,
          50.5259895324707
         ],
         "yaxis": "y"
        },
        {
         "hovertemplate": "Label=c5<br>Dim1=%{x}<br>Dim2=%{y}<br>PointLabel=%{text}<extra></extra>",
         "legendgroup": "c5",
         "marker": {
          "color": "#19d3f3",
          "symbol": "circle"
         },
         "mode": "markers+text",
         "name": "c5",
         "orientation": "v",
         "showlegend": true,
         "text": [
          "cnimpC",
          "ccimpC",
          "cnormC",
          "ccoC",
          "cdisC"
         ],
         "textposition": "top center",
         "type": "scatter",
         "x": [
          -16.500036239624023,
          -52.15093994140625,
          -38.25332260131836,
          42.97972106933594,
          -5.8654961585998535
         ],
         "xaxis": "x",
         "y": [
          23.348180770874023,
          -24.0360050201416,
          16.45717430114746,
          -3.2643847465515137,
          49.169769287109375
         ],
         "yaxis": "y"
        },
        {
         "hovertemplate": "Label=c6<br>Dim1=%{x}<br>Dim2=%{y}<br>PointLabel=%{text}<extra></extra>",
         "legendgroup": "c6",
         "marker": {
          "color": "#FF6692",
          "symbol": "circle"
         },
         "mode": "markers+text",
         "name": "c6",
         "orientation": "v",
         "showlegend": true,
         "text": [
          "ccimpC",
          "cnormC",
          "ccoC",
          "cdisC"
         ],
         "textposition": "top center",
         "type": "scatter",
         "x": [
          -52.15093994140625,
          -41.13832092285156,
          45.34532165527344,
          -4.48300313949585
         ],
         "xaxis": "x",
         "y": [
          -24.0360050201416,
          17.074975967407227,
          -6.8097991943359375,
          48.125858306884766
         ],
         "yaxis": "y"
        },
        {
         "hovertemplate": "Label=c7<br>Dim1=%{x}<br>Dim2=%{y}<br>PointLabel=%{text}<extra></extra>",
         "legendgroup": "c7",
         "marker": {
          "color": "#B6E880",
          "symbol": "circle"
         },
         "mode": "markers+text",
         "name": "c7",
         "orientation": "v",
         "showlegend": true,
         "text": [
          "ccimpC",
          "cnormC",
          "ccoC",
          "cdisC"
         ],
         "textposition": "top center",
         "type": "scatter",
         "x": [
          -52.15093994140625,
          -2.5647106170654297,
          -4.395220756530762,
          38.820655822753906
         ],
         "xaxis": "x",
         "y": [
          -24.0360050201416,
          -1.6078996658325195,
          -41.54832077026367,
          19.095169067382812
         ],
         "yaxis": "y"
        },
        {
         "hovertemplate": "Label=c8<br>Dim1=%{x}<br>Dim2=%{y}<br>PointLabel=%{text}<extra></extra>",
         "legendgroup": "c8",
         "marker": {
          "color": "#FF97FF",
          "symbol": "circle"
         },
         "mode": "markers+text",
         "name": "c8",
         "orientation": "v",
         "showlegend": true,
         "text": [
          "ccimpC",
          "cnormC",
          "ccoC",
          "cdisC"
         ],
         "textposition": "top center",
         "type": "scatter",
         "x": [
          -36.48530960083008,
          -33.24153137207031,
          25.799219131469727,
          -5.557743072509766
         ],
         "xaxis": "x",
         "y": [
          -25.87301254272461,
          16.90143394470215,
          -23.295942306518555,
          47.26277542114258
         ],
         "yaxis": "y"
        },
        {
         "hovertemplate": "Label=c9<br>Dim1=%{x}<br>Dim2=%{y}<br>PointLabel=%{text}<extra></extra>",
         "legendgroup": "c9",
         "marker": {
          "color": "#FECB52",
          "symbol": "circle"
         },
         "mode": "markers+text",
         "name": "c9",
         "orientation": "v",
         "showlegend": true,
         "text": [
          "ccimpC",
          "cnormC",
          "ccoC",
          "cdisC"
         ],
         "textposition": "top center",
         "type": "scatter",
         "x": [
          -52.15093994140625,
          7.906815052032471,
          43.39237594604492,
          37.94867706298828
         ],
         "xaxis": "x",
         "y": [
          -24.0360050201416,
          -0.10075529664754868,
          -2.6868789196014404,
          15.131623268127441
         ],
         "yaxis": "y"
        },
        {
         "hovertemplate": "Label=c10<br>Dim1=%{x}<br>Dim2=%{y}<br>PointLabel=%{text}<extra></extra>",
         "legendgroup": "c10",
         "marker": {
          "color": "#636efa",
          "symbol": "circle"
         },
         "mode": "markers+text",
         "name": "c10",
         "orientation": "v",
         "showlegend": true,
         "text": [
          "ccimpC",
          "cnormC",
          "ccoC",
          "cdisC"
         ],
         "textposition": "top center",
         "type": "scatter",
         "x": [
          -52.15093994140625,
          -36.263267517089844,
          44.70539474487305,
          -4.04149055480957
         ],
         "xaxis": "x",
         "y": [
          -24.0360050201416,
          17.03536605834961,
          -6.298047065734863,
          48.316341400146484
         ],
         "yaxis": "y"
        },
        {
         "hovertemplate": "Label=c11<br>Dim1=%{x}<br>Dim2=%{y}<br>PointLabel=%{text}<extra></extra>",
         "legendgroup": "c11",
         "marker": {
          "color": "#EF553B",
          "symbol": "circle"
         },
         "mode": "markers+text",
         "name": "c11",
         "orientation": "v",
         "showlegend": true,
         "text": [
          "ccimpC",
          "cnormC",
          "ccoC",
          "cdisC"
         ],
         "textposition": "top center",
         "type": "scatter",
         "x": [
          -52.15093994140625,
          -3.645005702972412,
          -4.286392688751221,
          41.19003677368164
         ],
         "xaxis": "x",
         "y": [
          -24.0360050201416,
          -0.5790015459060669,
          -42.46739959716797,
          19.28129005432129
         ],
         "yaxis": "y"
        },
        {
         "hovertemplate": "Label=c12<br>Dim1=%{x}<br>Dim2=%{y}<br>PointLabel=%{text}<extra></extra>",
         "legendgroup": "c12",
         "marker": {
          "color": "#00cc96",
          "symbol": "circle"
         },
         "mode": "markers+text",
         "name": "c12",
         "orientation": "v",
         "showlegend": true,
         "text": [
          "ccimpC",
          "cnormC",
          "ccoC",
          "cdisC"
         ],
         "textposition": "top center",
         "type": "scatter",
         "x": [
          -52.15093994140625,
          -1.771624207496643,
          -6.586645126342773,
          37.473907470703125
         ],
         "xaxis": "x",
         "y": [
          -24.0360050201416,
          1.4465371370315552,
          -41.9174690246582,
          19.346426010131836
         ],
         "yaxis": "y"
        },
        {
         "hovertemplate": "Label=c13<br>Dim1=%{x}<br>Dim2=%{y}<br>PointLabel=%{text}<extra></extra>",
         "legendgroup": "c13",
         "marker": {
          "color": "#ab63fa",
          "symbol": "circle"
         },
         "mode": "markers+text",
         "name": "c13",
         "orientation": "v",
         "showlegend": true,
         "text": [
          "ccimpC",
          "cnormC",
          "ccoC",
          "cdisC"
         ],
         "textposition": "top center",
         "type": "scatter",
         "x": [
          -52.15093994140625,
          1.5995888710021973,
          13.715872764587402,
          30.50755500793457
         ],
         "xaxis": "x",
         "y": [
          -24.0360050201416,
          0.12339857220649719,
          -29.330286026000977,
          20.73174285888672
         ],
         "yaxis": "y"
        },
        {
         "hovertemplate": "Label=c14<br>Dim1=%{x}<br>Dim2=%{y}<br>PointLabel=%{text}<extra></extra>",
         "legendgroup": "c14",
         "marker": {
          "color": "#FFA15A",
          "symbol": "circle"
         },
         "mode": "markers+text",
         "name": "c14",
         "orientation": "v",
         "showlegend": true,
         "text": [
          "ccimpC",
          "cnormC",
          "ccoC",
          "cdisC"
         ],
         "textposition": "top center",
         "type": "scatter",
         "x": [
          -52.15093994140625,
          7.566191673278809,
          -6.704278469085693,
          40.47429275512695
         ],
         "xaxis": "x",
         "y": [
          -24.0360050201416,
          -5.309739589691162,
          -43.31103515625,
          19.14756965637207
         ],
         "yaxis": "y"
        },
        {
         "hovertemplate": "Label=c15<br>Dim1=%{x}<br>Dim2=%{y}<br>PointLabel=%{text}<extra></extra>",
         "legendgroup": "c15",
         "marker": {
          "color": "#19d3f3",
          "symbol": "circle"
         },
         "mode": "markers+text",
         "name": "c15",
         "orientation": "v",
         "showlegend": true,
         "text": [
          "ccimpC",
          "cnormC",
          "ccoC",
          "cdisC"
         ],
         "textposition": "top center",
         "type": "scatter",
         "x": [
          -52.15093994140625,
          7.250838279724121,
          -4.876346588134766,
          33.17898178100586
         ],
         "xaxis": "x",
         "y": [
          -24.0360050201416,
          -6.935232162475586,
          -40.447654724121094,
          20.963075637817383
         ],
         "yaxis": "y"
        },
        {
         "hovertemplate": "Label=c16<br>Dim1=%{x}<br>Dim2=%{y}<br>PointLabel=%{text}<extra></extra>",
         "legendgroup": "c16",
         "marker": {
          "color": "#FF6692",
          "symbol": "circle"
         },
         "mode": "markers+text",
         "name": "c16",
         "orientation": "v",
         "showlegend": true,
         "text": [
          "ccimpC",
          "cnormC",
          "ccoC",
          "cdisC"
         ],
         "textposition": "top center",
         "type": "scatter",
         "x": [
          -52.15093994140625,
          8.569422721862793,
          -2.0799059867858887,
          29.560487747192383
         ],
         "xaxis": "x",
         "y": [
          -24.0360050201416,
          -9.566837310791016,
          -38.003868103027344,
          18.680734634399414
         ],
         "yaxis": "y"
        },
        {
         "hovertemplate": "Label=c17<br>Dim1=%{x}<br>Dim2=%{y}<br>PointLabel=%{text}<extra></extra>",
         "legendgroup": "c17",
         "marker": {
          "color": "#B6E880",
          "symbol": "circle"
         },
         "mode": "markers+text",
         "name": "c17",
         "orientation": "v",
         "showlegend": true,
         "text": [
          "ccimpC",
          "cnormC",
          "ccoC",
          "cdisC"
         ],
         "textposition": "top center",
         "type": "scatter",
         "x": [
          -52.15093994140625,
          8.704042434692383,
          -3.2861573696136475,
          30.351295471191406
         ],
         "xaxis": "x",
         "y": [
          -24.0360050201416,
          -7.542311668395996,
          -38.25200271606445,
          18.7226505279541
         ],
         "yaxis": "y"
        },
        {
         "hovertemplate": "Label=c18<br>Dim1=%{x}<br>Dim2=%{y}<br>PointLabel=%{text}<extra></extra>",
         "legendgroup": "c18",
         "marker": {
          "color": "#FF97FF",
          "symbol": "circle"
         },
         "mode": "markers+text",
         "name": "c18",
         "orientation": "v",
         "showlegend": true,
         "text": [
          "ccimpC",
          "cnormC",
          "ccoC",
          "cdisC"
         ],
         "textposition": "top center",
         "type": "scatter",
         "x": [
          -52.15093994140625,
          5.983734607696533,
          13.213300704956055,
          31.970211029052734
         ],
         "xaxis": "x",
         "y": [
          -24.0360050201416,
          -4.336581707000732,
          -29.3875789642334,
          22.751901626586914
         ],
         "yaxis": "y"
        },
        {
         "hovertemplate": "Label=c19<br>Dim1=%{x}<br>Dim2=%{y}<br>PointLabel=%{text}<extra></extra>",
         "legendgroup": "c19",
         "marker": {
          "color": "#FECB52",
          "symbol": "circle"
         },
         "mode": "markers+text",
         "name": "c19",
         "orientation": "v",
         "showlegend": true,
         "text": [
          "ccimpC",
          "cnormC",
          "ccoC",
          "cdisC"
         ],
         "textposition": "top center",
         "type": "scatter",
         "x": [
          -52.15093994140625,
          4.853392124176025,
          5.146678447723389,
          29.788818359375
         ],
         "xaxis": "x",
         "y": [
          -24.0360050201416,
          -3.95778751373291,
          -33.74656295776367,
          21.42022705078125
         ],
         "yaxis": "y"
        },
        {
         "hovertemplate": "Label=c20<br>Dim1=%{x}<br>Dim2=%{y}<br>PointLabel=%{text}<extra></extra>",
         "legendgroup": "c20",
         "marker": {
          "color": "#636efa",
          "symbol": "circle"
         },
         "mode": "markers+text",
         "name": "c20",
         "orientation": "v",
         "showlegend": true,
         "text": [
          "ccimpC",
          "cnormC",
          "ccoC",
          "cdisC"
         ],
         "textposition": "top center",
         "type": "scatter",
         "x": [
          -52.15093994140625,
          6.697505474090576,
          -6.670663833618164,
          31.402151107788086
         ],
         "xaxis": "x",
         "y": [
          -24.0360050201416,
          -7.4147114753723145,
          -40.970924377441406,
          19.049470901489258
         ],
         "yaxis": "y"
        },
        {
         "hovertemplate": "Label=c21<br>Dim1=%{x}<br>Dim2=%{y}<br>PointLabel=%{text}<extra></extra>",
         "legendgroup": "c21",
         "marker": {
          "color": "#EF553B",
          "symbol": "circle"
         },
         "mode": "markers+text",
         "name": "c21",
         "orientation": "v",
         "showlegend": true,
         "text": [
          "ccimpC",
          "cnormC",
          "ccoC",
          "cdisC"
         ],
         "textposition": "top center",
         "type": "scatter",
         "x": [
          -52.15093994140625,
          10.150714874267578,
          -4.133645057678223,
          32.684574127197266
         ],
         "xaxis": "x",
         "y": [
          -24.0360050201416,
          -8.859747886657715,
          -38.10174560546875,
          22.50197982788086
         ],
         "yaxis": "y"
        },
        {
         "hovertemplate": "Label=c22<br>Dim1=%{x}<br>Dim2=%{y}<br>PointLabel=%{text}<extra></extra>",
         "legendgroup": "c22",
         "marker": {
          "color": "#00cc96",
          "symbol": "circle"
         },
         "mode": "markers+text",
         "name": "c22",
         "orientation": "v",
         "showlegend": true,
         "text": [
          "ccimpC",
          "cnormC",
          "ccoC",
          "cdisC"
         ],
         "textposition": "top center",
         "type": "scatter",
         "x": [
          -52.15093994140625,
          6.375383377075195,
          -4.881016254425049,
          34.50382995605469
         ],
         "xaxis": "x",
         "y": [
          -24.0360050201416,
          -10.379858016967773,
          -39.74652862548828,
          19.209712982177734
         ],
         "yaxis": "y"
        },
        {
         "hovertemplate": "Label=c23<br>Dim1=%{x}<br>Dim2=%{y}<br>PointLabel=%{text}<extra></extra>",
         "legendgroup": "c23",
         "marker": {
          "color": "#ab63fa",
          "symbol": "circle"
         },
         "mode": "markers+text",
         "name": "c23",
         "orientation": "v",
         "showlegend": true,
         "text": [
          "ccimpC",
          "cnormC",
          "ccoC",
          "cdisC"
         ],
         "textposition": "top center",
         "type": "scatter",
         "x": [
          -52.15093994140625,
          -3.712639093399048,
          -7.399674892425537,
          40.494415283203125
         ],
         "xaxis": "x",
         "y": [
          -24.0360050201416,
          -0.5201590657234192,
          -43.35896682739258,
          19.813634872436523
         ],
         "yaxis": "y"
        },
        {
         "hovertemplate": "Label=c24<br>Dim1=%{x}<br>Dim2=%{y}<br>PointLabel=%{text}<extra></extra>",
         "legendgroup": "c24",
         "marker": {
          "color": "#FFA15A",
          "symbol": "circle"
         },
         "mode": "markers+text",
         "name": "c24",
         "orientation": "v",
         "showlegend": true,
         "text": [
          "ccimpC",
          "cnormC",
          "ccoC",
          "cdisC"
         ],
         "textposition": "top center",
         "type": "scatter",
         "x": [
          -52.15093994140625,
          -33.27372741699219,
          45.17251205444336,
          -3.1795997619628906
         ],
         "xaxis": "x",
         "y": [
          -24.0360050201416,
          17.390268325805664,
          -4.759793758392334,
          48.053924560546875
         ],
         "yaxis": "y"
        },
        {
         "hovertemplate": "Label=c25<br>Dim1=%{x}<br>Dim2=%{y}<br>PointLabel=%{text}<extra></extra>",
         "legendgroup": "c25",
         "marker": {
          "color": "#19d3f3",
          "symbol": "circle"
         },
         "mode": "markers+text",
         "name": "c25",
         "orientation": "v",
         "showlegend": true,
         "text": [
          "ccimpC",
          "cnormC",
          "ccoC",
          "cdisC"
         ],
         "textposition": "top center",
         "type": "scatter",
         "x": [
          -52.15093994140625,
          -39.52154541015625,
          47.03877639770508,
          -10.69202995300293
         ],
         "xaxis": "x",
         "y": [
          -24.0360050201416,
          15.943429946899414,
          -5.480823040008545,
          48.390323638916016
         ],
         "yaxis": "y"
        },
        {
         "hovertemplate": "Label=c26<br>Dim1=%{x}<br>Dim2=%{y}<br>PointLabel=%{text}<extra></extra>",
         "legendgroup": "c26",
         "marker": {
          "color": "#FF6692",
          "symbol": "circle"
         },
         "mode": "markers+text",
         "name": "c26",
         "orientation": "v",
         "showlegend": true,
         "text": [
          "ccimpC",
          "cnormC",
          "ccoC",
          "cdisC"
         ],
         "textposition": "top center",
         "type": "scatter",
         "x": [
          -52.15093994140625,
          4.181565761566162,
          15.09325122833252,
          39.2459831237793
         ],
         "xaxis": "x",
         "y": [
          -24.0360050201416,
          -2.8141722679138184,
          -25.20996856689453,
          17.202938079833984
         ],
         "yaxis": "y"
        },
        {
         "hovertemplate": "Label=c27<br>Dim1=%{x}<br>Dim2=%{y}<br>PointLabel=%{text}<extra></extra>",
         "legendgroup": "c27",
         "marker": {
          "color": "#B6E880",
          "symbol": "circle"
         },
         "mode": "markers+text",
         "name": "c27",
         "orientation": "v",
         "showlegend": true,
         "text": [
          "ccimpC",
          "cnormC",
          "ccoC",
          "cdisC"
         ],
         "textposition": "top center",
         "type": "scatter",
         "x": [
          -52.15093994140625,
          -8.076994895935059,
          46.090572357177734,
          -2.8361780643463135
         ],
         "xaxis": "x",
         "y": [
          -24.0360050201416,
          11.24260139465332,
          -5.619687557220459,
          47.470638275146484
         ],
         "yaxis": "y"
        },
        {
         "hovertemplate": "Label=c28<br>Dim1=%{x}<br>Dim2=%{y}<br>PointLabel=%{text}<extra></extra>",
         "legendgroup": "c28",
         "marker": {
          "color": "#FF97FF",
          "symbol": "circle"
         },
         "mode": "markers+text",
         "name": "c28",
         "orientation": "v",
         "showlegend": true,
         "text": [
          "ccimpC",
          "cnormC",
          "ccoC",
          "cdisC"
         ],
         "textposition": "top center",
         "type": "scatter",
         "x": [
          -52.15093994140625,
          2.513108730316162,
          16.327838897705078,
          28.081357955932617
         ],
         "xaxis": "x",
         "y": [
          -24.0360050201416,
          -2.4680144786834717,
          -28.69788932800293,
          23.126201629638672
         ],
         "yaxis": "y"
        },
        {
         "hovertemplate": "Label=c29<br>Dim1=%{x}<br>Dim2=%{y}<br>PointLabel=%{text}<extra></extra>",
         "legendgroup": "c29",
         "marker": {
          "color": "#FECB52",
          "symbol": "circle"
         },
         "mode": "markers+text",
         "name": "c29",
         "orientation": "v",
         "showlegend": true,
         "text": [
          "ccimpC",
          "cnormC",
          "ccoC",
          "cdisC"
         ],
         "textposition": "top center",
         "type": "scatter",
         "x": [
          -52.15093994140625,
          -39.03087615966797,
          48.63137435913086,
          -10.591740608215332
         ],
         "xaxis": "x",
         "y": [
          -24.0360050201416,
          17.929248809814453,
          -4.648294925689697,
          49.712493896484375
         ],
         "yaxis": "y"
        },
        {
         "hovertemplate": "Label=c30<br>Dim1=%{x}<br>Dim2=%{y}<br>PointLabel=%{text}<extra></extra>",
         "legendgroup": "c30",
         "marker": {
          "color": "#636efa",
          "symbol": "circle"
         },
         "mode": "markers+text",
         "name": "c30",
         "orientation": "v",
         "showlegend": true,
         "text": [
          "ccimpC",
          "cnormC",
          "ccoC",
          "cdisC"
         ],
         "textposition": "top center",
         "type": "scatter",
         "x": [
          -52.15093994140625,
          7.033224105834961,
          -0.5740212202072144,
          39.64350891113281
         ],
         "xaxis": "x",
         "y": [
          -24.0360050201416,
          -4.848440647125244,
          -41.540557861328125,
          18.094619750976562
         ],
         "yaxis": "y"
        },
        {
         "hovertemplate": "Label=c31<br>Dim1=%{x}<br>Dim2=%{y}<br>PointLabel=%{text}<extra></extra>",
         "legendgroup": "c31",
         "marker": {
          "color": "#EF553B",
          "symbol": "circle"
         },
         "mode": "markers+text",
         "name": "c31",
         "orientation": "v",
         "showlegend": true,
         "text": [
          "ccimpC",
          "cnormC",
          "ccoC",
          "cdisC"
         ],
         "textposition": "top center",
         "type": "scatter",
         "x": [
          -52.15093994140625,
          7.2076802253723145,
          -1.1698473691940308,
          41.891902923583984
         ],
         "xaxis": "x",
         "y": [
          -24.0360050201416,
          -10.758879661560059,
          -41.668212890625,
          18.625864028930664
         ],
         "yaxis": "y"
        },
        {
         "hovertemplate": "Label=c32<br>Dim1=%{x}<br>Dim2=%{y}<br>PointLabel=%{text}<extra></extra>",
         "legendgroup": "c32",
         "marker": {
          "color": "#00cc96",
          "symbol": "circle"
         },
         "mode": "markers+text",
         "name": "c32",
         "orientation": "v",
         "showlegend": true,
         "text": [
          "ccimpC",
          "cnormC",
          "ccoC",
          "cdisC"
         ],
         "textposition": "top center",
         "type": "scatter",
         "x": [
          -52.15093994140625,
          -34.80441665649414,
          40.61255645751953,
          -3.911081552505493
         ],
         "xaxis": "x",
         "y": [
          -24.0360050201416,
          16.52009391784668,
          -8.15805435180664,
          47.42823791503906
         ],
         "yaxis": "y"
        },
        {
         "hovertemplate": "Label=c33<br>Dim1=%{x}<br>Dim2=%{y}<br>PointLabel=%{text}<extra></extra>",
         "legendgroup": "c33",
         "marker": {
          "color": "#ab63fa",
          "symbol": "circle"
         },
         "mode": "markers+text",
         "name": "c33",
         "orientation": "v",
         "showlegend": true,
         "text": [
          "ccimpC",
          "cnormC",
          "ccoC",
          "cdisC"
         ],
         "textposition": "top center",
         "type": "scatter",
         "x": [
          -52.15093994140625,
          -38.713768005371094,
          43.066925048828125,
          -6.578296661376953
         ],
         "xaxis": "x",
         "y": [
          -24.0360050201416,
          17.064529418945312,
          -2.2085177898406982,
          46.7602424621582
         ],
         "yaxis": "y"
        },
        {
         "hovertemplate": "Label=c34<br>Dim1=%{x}<br>Dim2=%{y}<br>PointLabel=%{text}<extra></extra>",
         "legendgroup": "c34",
         "marker": {
          "color": "#FFA15A",
          "symbol": "circle"
         },
         "mode": "markers+text",
         "name": "c34",
         "orientation": "v",
         "showlegend": true,
         "text": [
          "ccimpC",
          "cnormC",
          "ccoC",
          "cdisC"
         ],
         "textposition": "top center",
         "type": "scatter",
         "x": [
          -52.15093994140625,
          8.966229438781738,
          -5.979734897613525,
          35.388572692871094
         ],
         "xaxis": "x",
         "y": [
          -24.0360050201416,
          -8.630935668945312,
          -39.925140380859375,
          19.64020538330078
         ],
         "yaxis": "y"
        },
        {
         "hovertemplate": "Label=c35<br>Dim1=%{x}<br>Dim2=%{y}<br>PointLabel=%{text}<extra></extra>",
         "legendgroup": "c35",
         "marker": {
          "color": "#19d3f3",
          "symbol": "circle"
         },
         "mode": "markers+text",
         "name": "c35",
         "orientation": "v",
         "showlegend": true,
         "text": [
          "ccimpC",
          "cnormC",
          "ccoC",
          "cdisC"
         ],
         "textposition": "top center",
         "type": "scatter",
         "x": [
          -52.15093994140625,
          8.998019218444824,
          15.447234153747559,
          41.84882354736328
         ],
         "xaxis": "x",
         "y": [
          -24.0360050201416,
          -6.849553108215332,
          -25.084413528442383,
          17.642414093017578
         ],
         "yaxis": "y"
        },
        {
         "hovertemplate": "Label=c36<br>Dim1=%{x}<br>Dim2=%{y}<br>PointLabel=%{text}<extra></extra>",
         "legendgroup": "c36",
         "marker": {
          "color": "#FF6692",
          "symbol": "circle"
         },
         "mode": "markers+text",
         "name": "c36",
         "orientation": "v",
         "showlegend": true,
         "text": [
          "ccimpC",
          "cnormC",
          "ccoC",
          "cdisC"
         ],
         "textposition": "top center",
         "type": "scatter",
         "x": [
          -52.15093994140625,
          9.61672592163086,
          -3.9058635234832764,
          33.90644836425781
         ],
         "xaxis": "x",
         "y": [
          -24.0360050201416,
          -10.505189895629883,
          -39.915069580078125,
          19.950481414794922
         ],
         "yaxis": "y"
        },
        {
         "hovertemplate": "Label=c37<br>Dim1=%{x}<br>Dim2=%{y}<br>PointLabel=%{text}<extra></extra>",
         "legendgroup": "c37",
         "marker": {
          "color": "#B6E880",
          "symbol": "circle"
         },
         "mode": "markers+text",
         "name": "c37",
         "orientation": "v",
         "showlegend": true,
         "text": [
          "ccimpC",
          "cnormC",
          "ccoC",
          "cdisC"
         ],
         "textposition": "top center",
         "type": "scatter",
         "x": [
          -52.15093994140625,
          9.387889862060547,
          -3.4674274921417236,
          29.22116470336914
         ],
         "xaxis": "x",
         "y": [
          -24.0360050201416,
          -9.666952133178711,
          -39.16719055175781,
          19.562786102294922
         ],
         "yaxis": "y"
        },
        {
         "hovertemplate": "Label=c38<br>Dim1=%{x}<br>Dim2=%{y}<br>PointLabel=%{text}<extra></extra>",
         "legendgroup": "c38",
         "marker": {
          "color": "#FF97FF",
          "symbol": "circle"
         },
         "mode": "markers+text",
         "name": "c38",
         "orientation": "v",
         "showlegend": true,
         "text": [
          "ccimpC",
          "cnormC",
          "ccoC",
          "cdisC"
         ],
         "textposition": "top center",
         "type": "scatter",
         "x": [
          -52.15093994140625,
          5.0196380615234375,
          -2.897926092147827,
          37.368560791015625
         ],
         "xaxis": "x",
         "y": [
          -24.0360050201416,
          -7.17185115814209,
          -42.5681037902832,
          18.487581253051758
         ],
         "yaxis": "y"
        },
        {
         "hovertemplate": "Label=c39<br>Dim1=%{x}<br>Dim2=%{y}<br>PointLabel=%{text}<extra></extra>",
         "legendgroup": "c39",
         "marker": {
          "color": "#FECB52",
          "symbol": "circle"
         },
         "mode": "markers+text",
         "name": "c39",
         "orientation": "v",
         "showlegend": true,
         "text": [
          "ccimpC",
          "cnormC",
          "ccoC",
          "cdisC"
         ],
         "textposition": "top center",
         "type": "scatter",
         "x": [
          -52.15093994140625,
          -30.421371459960938,
          42.590213775634766,
          -1.9232534170150757
         ],
         "xaxis": "x",
         "y": [
          -24.0360050201416,
          17.98689842224121,
          -7.441310882568359,
          47.59442901611328
         ],
         "yaxis": "y"
        },
        {
         "hovertemplate": "Label=c40<br>Dim1=%{x}<br>Dim2=%{y}<br>PointLabel=%{text}<extra></extra>",
         "legendgroup": "c40",
         "marker": {
          "color": "#636efa",
          "symbol": "circle"
         },
         "mode": "markers+text",
         "name": "c40",
         "orientation": "v",
         "showlegend": true,
         "text": [
          "ccimpC",
          "cnormC",
          "ccoC",
          "cdisC"
         ],
         "textposition": "top center",
         "type": "scatter",
         "x": [
          -48.9286003112793,
          -2.677804946899414,
          -0.14089615643024445,
          40.22804260253906
         ],
         "xaxis": "x",
         "y": [
          -21.60862159729004,
          -1.6257983446121216,
          -40.77610778808594,
          18.4639892578125
         ],
         "yaxis": "y"
        },
        {
         "hovertemplate": "Label=c41<br>Dim1=%{x}<br>Dim2=%{y}<br>PointLabel=%{text}<extra></extra>",
         "legendgroup": "c41",
         "marker": {
          "color": "#EF553B",
          "symbol": "circle"
         },
         "mode": "markers+text",
         "name": "c41",
         "orientation": "v",
         "showlegend": true,
         "text": [
          "ccimpC",
          "cnormC",
          "ccoC",
          "cdisC"
         ],
         "textposition": "top center",
         "type": "scatter",
         "x": [
          -36.64408874511719,
          -7.564340114593506,
          47.34775924682617,
          -7.943824291229248
         ],
         "xaxis": "x",
         "y": [
          -26.100997924804688,
          10.244576454162598,
          -3.094585657119751,
          49.242916107177734
         ],
         "yaxis": "y"
        },
        {
         "hovertemplate": "Label=c42<br>Dim1=%{x}<br>Dim2=%{y}<br>PointLabel=%{text}<extra></extra>",
         "legendgroup": "c42",
         "marker": {
          "color": "#00cc96",
          "symbol": "circle"
         },
         "mode": "markers+text",
         "name": "c42",
         "orientation": "v",
         "showlegend": true,
         "text": [
          "ccimpC",
          "cnormC",
          "ccoC",
          "cdisC"
         ],
         "textposition": "top center",
         "type": "scatter",
         "x": [
          -48.9286003112793,
          8.368825912475586,
          -0.33555036783218384,
          28.10554313659668
         ],
         "xaxis": "x",
         "y": [
          -21.60862159729004,
          -8.322784423828125,
          -37.295555114746094,
          19.27734375
         ],
         "yaxis": "y"
        },
        {
         "hovertemplate": "Label=c43<br>Dim1=%{x}<br>Dim2=%{y}<br>PointLabel=%{text}<extra></extra>",
         "legendgroup": "c43",
         "marker": {
          "color": "#ab63fa",
          "symbol": "circle"
         },
         "mode": "markers+text",
         "name": "c43",
         "orientation": "v",
         "showlegend": true,
         "text": [
          "ccimpC",
          "cnormC",
          "ccoC",
          "cdisC"
         ],
         "textposition": "top center",
         "type": "scatter",
         "x": [
          -48.9286003112793,
          6.603564262390137,
          -5.862198352813721,
          36.84467315673828
         ],
         "xaxis": "x",
         "y": [
          -21.60862159729004,
          -10.889572143554688,
          -41.30274963378906,
          20.00143814086914
         ],
         "yaxis": "y"
        },
        {
         "hovertemplate": "Label=c44<br>Dim1=%{x}<br>Dim2=%{y}<br>PointLabel=%{text}<extra></extra>",
         "legendgroup": "c44",
         "marker": {
          "color": "#FFA15A",
          "symbol": "circle"
         },
         "mode": "markers+text",
         "name": "c44",
         "orientation": "v",
         "showlegend": true,
         "text": [
          "ccimpC",
          "cnormC",
          "ccoC",
          "cdisC"
         ],
         "textposition": "top center",
         "type": "scatter",
         "x": [
          -53.28630447387695,
          4.1496052742004395,
          -4.9755940437316895,
          36.61543655395508
         ],
         "xaxis": "x",
         "y": [
          -20.109771728515625,
          -6.665111541748047,
          -41.30438232421875,
          19.330751419067383
         ],
         "yaxis": "y"
        },
        {
         "hovertemplate": "Label=c45<br>Dim1=%{x}<br>Dim2=%{y}<br>PointLabel=%{text}<extra></extra>",
         "legendgroup": "c45",
         "marker": {
          "color": "#19d3f3",
          "symbol": "circle"
         },
         "mode": "markers+text",
         "name": "c45",
         "orientation": "v",
         "showlegend": true,
         "text": [
          "ccimpC",
          "cnormC",
          "ccoC",
          "cdisC"
         ],
         "textposition": "top center",
         "type": "scatter",
         "x": [
          -50.84823989868164,
          4.567638874053955,
          -4.414507865905762,
          40.9793701171875
         ],
         "xaxis": "x",
         "y": [
          -20.446203231811523,
          -5.865054130554199,
          -43.13616943359375,
          18.354230880737305
         ],
         "yaxis": "y"
        },
        {
         "hovertemplate": "Label=c46<br>Dim1=%{x}<br>Dim2=%{y}<br>PointLabel=%{text}<extra></extra>",
         "legendgroup": "c46",
         "marker": {
          "color": "#FF6692",
          "symbol": "circle"
         },
         "mode": "markers+text",
         "name": "c46",
         "orientation": "v",
         "showlegend": true,
         "text": [
          "ccimpC",
          "cnormC",
          "ccoC",
          "cdisC"
         ],
         "textposition": "top center",
         "type": "scatter",
         "x": [
          -36.5278434753418,
          10.289281845092773,
          -2.5087671279907227,
          33.110145568847656
         ],
         "xaxis": "x",
         "y": [
          -26.328767776489258,
          -9.703836441040039,
          -37.33580780029297,
          21.499263763427734
         ],
         "yaxis": "y"
        },
        {
         "hovertemplate": "Label=c47<br>Dim1=%{x}<br>Dim2=%{y}<br>PointLabel=%{text}<extra></extra>",
         "legendgroup": "c47",
         "marker": {
          "color": "#B6E880",
          "symbol": "circle"
         },
         "mode": "markers+text",
         "name": "c47",
         "orientation": "v",
         "showlegend": true,
         "text": [
          "ccimpC",
          "cnormC",
          "ccoC",
          "cdisC"
         ],
         "textposition": "top center",
         "type": "scatter",
         "x": [
          -50.84823989868164,
          -33.70298385620117,
          46.0917854309082,
          -6.578049659729004
         ],
         "xaxis": "x",
         "y": [
          -20.446203231811523,
          17.577970504760742,
          -3.847262382507324,
          48.677616119384766
         ],
         "yaxis": "y"
        },
        {
         "hovertemplate": "Label=c48<br>Dim1=%{x}<br>Dim2=%{y}<br>PointLabel=%{text}<extra></extra>",
         "legendgroup": "c48",
         "marker": {
          "color": "#FF97FF",
          "symbol": "circle"
         },
         "mode": "markers+text",
         "name": "c48",
         "orientation": "v",
         "showlegend": true,
         "text": [
          "ccimpC",
          "cnormC",
          "ccoC",
          "cdisC"
         ],
         "textposition": "top center",
         "type": "scatter",
         "x": [
          -50.84823989868164,
          -40.47865295410156,
          48.11868667602539,
          -11.570155143737793
         ],
         "xaxis": "x",
         "y": [
          -20.446203231811523,
          15.544004440307617,
          -5.746334552764893,
          49.36433792114258
         ],
         "yaxis": "y"
        },
        {
         "hovertemplate": "Label=c49<br>Dim1=%{x}<br>Dim2=%{y}<br>PointLabel=%{text}<extra></extra>",
         "legendgroup": "c49",
         "marker": {
          "color": "#FECB52",
          "symbol": "circle"
         },
         "mode": "markers+text",
         "name": "c49",
         "orientation": "v",
         "showlegend": true,
         "text": [
          "ccimpC",
          "cnormC",
          "ccoC",
          "cdisC"
         ],
         "textposition": "top center",
         "type": "scatter",
         "x": [
          -50.84823989868164,
          -8.540128707885742,
          14.218900680541992,
          27.37236976623535
         ],
         "xaxis": "x",
         "y": [
          -20.446203231811523,
          10.896585464477539,
          -33.36967468261719,
          18.617595672607422
         ],
         "yaxis": "y"
        },
        {
         "hovertemplate": "Label=c50<br>Dim1=%{x}<br>Dim2=%{y}<br>PointLabel=%{text}<extra></extra>",
         "legendgroup": "c50",
         "marker": {
          "color": "#636efa",
          "symbol": "circle"
         },
         "mode": "markers+text",
         "name": "c50",
         "orientation": "v",
         "showlegend": true,
         "text": [
          "ccimpC",
          "cnormC",
          "ccoC",
          "cdisC"
         ],
         "textposition": "top center",
         "type": "scatter",
         "x": [
          -50.84823989868164,
          -39.278564453125,
          45.27486801147461,
          -2.358093023300171
         ],
         "xaxis": "x",
         "y": [
          -20.446203231811523,
          16.49297332763672,
          -7.432295799255371,
          47.80440139770508
         ],
         "yaxis": "y"
        },
        {
         "hovertemplate": "Label=c51<br>Dim1=%{x}<br>Dim2=%{y}<br>PointLabel=%{text}<extra></extra>",
         "legendgroup": "c51",
         "marker": {
          "color": "#EF553B",
          "symbol": "circle"
         },
         "mode": "markers+text",
         "name": "c51",
         "orientation": "v",
         "showlegend": true,
         "text": [
          "ccimpC",
          "cnormC",
          "ccoC",
          "cdisC"
         ],
         "textposition": "top center",
         "type": "scatter",
         "x": [
          -52.15093994140625,
          -11.371194839477539,
          -7.45402717590332,
          39.204200744628906
         ],
         "xaxis": "x",
         "y": [
          -24.0360050201416,
          13.64799690246582,
          -42.596900939941406,
          19.87435531616211
         ],
         "yaxis": "y"
        },
        {
         "hovertemplate": "Label=c52<br>Dim1=%{x}<br>Dim2=%{y}<br>PointLabel=%{text}<extra></extra>",
         "legendgroup": "c52",
         "marker": {
          "color": "#00cc96",
          "symbol": "circle"
         },
         "mode": "markers+text",
         "name": "c52",
         "orientation": "v",
         "showlegend": true,
         "text": [
          "ccimpC",
          "cnormC",
          "ccoC",
          "cdisC"
         ],
         "textposition": "top center",
         "type": "scatter",
         "x": [
          -52.15093994140625,
          3.2714154720306396,
          -5.6924848556518555,
          37.914154052734375
         ],
         "xaxis": "x",
         "y": [
          -24.0360050201416,
          -2.9621753692626953,
          -42.12199401855469,
          19.872039794921875
         ],
         "yaxis": "y"
        },
        {
         "hovertemplate": "Label=c53<br>Dim1=%{x}<br>Dim2=%{y}<br>PointLabel=%{text}<extra></extra>",
         "legendgroup": "c53",
         "marker": {
          "color": "#ab63fa",
          "symbol": "circle"
         },
         "mode": "markers+text",
         "name": "c53",
         "orientation": "v",
         "showlegend": true,
         "text": [
          "ccimpC",
          "cnormC",
          "ccoC",
          "cdisC"
         ],
         "textposition": "top center",
         "type": "scatter",
         "x": [
          -52.15093994140625,
          5.943297863006592,
          15.007250785827637,
          40.72795486450195
         ],
         "xaxis": "x",
         "y": [
          -24.0360050201416,
          -3.6723856925964355,
          -25.152912139892578,
          17.047618865966797
         ],
         "yaxis": "y"
        },
        {
         "hovertemplate": "Label=c54<br>Dim1=%{x}<br>Dim2=%{y}<br>PointLabel=%{text}<extra></extra>",
         "legendgroup": "c54",
         "marker": {
          "color": "#FFA15A",
          "symbol": "circle"
         },
         "mode": "markers+text",
         "name": "c54",
         "orientation": "v",
         "showlegend": true,
         "text": [
          "ccimpC",
          "cnormC",
          "ccoC",
          "cdisC"
         ],
         "textposition": "top center",
         "type": "scatter",
         "x": [
          -52.15093994140625,
          3.596457004547119,
          12.32455825805664,
          38.96996307373047
         ],
         "xaxis": "x",
         "y": [
          -24.0360050201416,
          -5.150524139404297,
          -34.87084197998047,
          17.904808044433594
         ],
         "yaxis": "y"
        },
        {
         "hovertemplate": "Label=c55<br>Dim1=%{x}<br>Dim2=%{y}<br>PointLabel=%{text}<extra></extra>",
         "legendgroup": "c55",
         "marker": {
          "color": "#19d3f3",
          "symbol": "circle"
         },
         "mode": "markers+text",
         "name": "c55",
         "orientation": "v",
         "showlegend": true,
         "text": [
          "ccimpC",
          "cnormC",
          "ccoC",
          "cdisC"
         ],
         "textposition": "top center",
         "type": "scatter",
         "x": [
          -52.15093994140625,
          7.918823719024658,
          -2.89274525642395,
          28.706682205200195
         ],
         "xaxis": "x",
         "y": [
          -24.0360050201416,
          -9.1622896194458,
          -39.468048095703125,
          18.7864990234375
         ],
         "yaxis": "y"
        },
        {
         "hovertemplate": "Label=c56<br>Dim1=%{x}<br>Dim2=%{y}<br>PointLabel=%{text}<extra></extra>",
         "legendgroup": "c56",
         "marker": {
          "color": "#FF6692",
          "symbol": "circle"
         },
         "mode": "markers+text",
         "name": "c56",
         "orientation": "v",
         "showlegend": true,
         "text": [
          "ccimpC",
          "cnormC",
          "ccoC",
          "cdisC"
         ],
         "textposition": "top center",
         "type": "scatter",
         "x": [
          -52.15093994140625,
          7.2246904373168945,
          0.45329031348228455,
          36.07670974731445
         ],
         "xaxis": "x",
         "y": [
          -24.0360050201416,
          -8.197108268737793,
          -40.40821075439453,
          18.82672691345215
         ],
         "yaxis": "y"
        },
        {
         "hovertemplate": "Label=c57<br>Dim1=%{x}<br>Dim2=%{y}<br>PointLabel=%{text}<extra></extra>",
         "legendgroup": "c57",
         "marker": {
          "color": "#B6E880",
          "symbol": "circle"
         },
         "mode": "markers+text",
         "name": "c57",
         "orientation": "v",
         "showlegend": true,
         "text": [
          "ccimpC",
          "cnormC",
          "ccoC",
          "cdisC"
         ],
         "textposition": "top center",
         "type": "scatter",
         "x": [
          -52.15093994140625,
          4.353231906890869,
          -1.4717856645584106,
          38.03717041015625
         ],
         "xaxis": "x",
         "y": [
          -24.0360050201416,
          -4.697226047515869,
          -40.42420959472656,
          18.70785140991211
         ],
         "yaxis": "y"
        },
        {
         "hovertemplate": "Label=c58<br>Dim1=%{x}<br>Dim2=%{y}<br>PointLabel=%{text}<extra></extra>",
         "legendgroup": "c58",
         "marker": {
          "color": "#FF97FF",
          "symbol": "circle"
         },
         "mode": "markers+text",
         "name": "c58",
         "orientation": "v",
         "showlegend": true,
         "text": [
          "ccimpC",
          "cnormC",
          "ccoC",
          "cdisC"
         ],
         "textposition": "top center",
         "type": "scatter",
         "x": [
          -52.15093994140625,
          -4.794948101043701,
          47.80236053466797,
          -5.74165153503418
         ],
         "xaxis": "x",
         "y": [
          -24.0360050201416,
          10.747200012207031,
          -4.345211029052734,
          48.512027740478516
         ],
         "yaxis": "y"
        },
        {
         "hovertemplate": "Label=c59<br>Dim1=%{x}<br>Dim2=%{y}<br>PointLabel=%{text}<extra></extra>",
         "legendgroup": "c59",
         "marker": {
          "color": "#FECB52",
          "symbol": "circle"
         },
         "mode": "markers+text",
         "name": "c59",
         "orientation": "v",
         "showlegend": true,
         "text": [
          "ccimpC",
          "cnormC",
          "ccoC",
          "cdisC"
         ],
         "textposition": "top center",
         "type": "scatter",
         "x": [
          -52.15093994140625,
          6.378602504730225,
          -4.979537010192871,
          33.09700012207031
         ],
         "xaxis": "x",
         "y": [
          -24.0360050201416,
          -6.477313041687012,
          -38.944252014160156,
          20.057435989379883
         ],
         "yaxis": "y"
        },
        {
         "hovertemplate": "Label=c60<br>Dim1=%{x}<br>Dim2=%{y}<br>PointLabel=%{text}<extra></extra>",
         "legendgroup": "c60",
         "marker": {
          "color": "#636efa",
          "symbol": "circle"
         },
         "mode": "markers+text",
         "name": "c60",
         "orientation": "v",
         "showlegend": true,
         "text": [
          "ccimpC",
          "cnormC",
          "ccoC",
          "cdisC"
         ],
         "textposition": "top center",
         "type": "scatter",
         "x": [
          -52.15093994140625,
          3.2372543811798096,
          3.8350772857666016,
          27.114151000976562
         ],
         "xaxis": "x",
         "y": [
          -24.0360050201416,
          -4.408830165863037,
          -34.14237594604492,
          18.880578994750977
         ],
         "yaxis": "y"
        },
        {
         "hovertemplate": "Label=c61<br>Dim1=%{x}<br>Dim2=%{y}<br>PointLabel=%{text}<extra></extra>",
         "legendgroup": "c61",
         "marker": {
          "color": "#EF553B",
          "symbol": "circle"
         },
         "mode": "markers+text",
         "name": "c61",
         "orientation": "v",
         "showlegend": true,
         "text": [
          "ccimpC",
          "cnormC",
          "ccoC",
          "cdisC"
         ],
         "textposition": "top center",
         "type": "scatter",
         "x": [
          -52.15093994140625,
          0.9711763858795166,
          -2.9357547760009766,
          39.44173049926758
         ],
         "xaxis": "x",
         "y": [
          -24.0360050201416,
          -0.4966670572757721,
          -41.5496711730957,
          19.143762588500977
         ],
         "yaxis": "y"
        },
        {
         "hovertemplate": "Label=c62<br>Dim1=%{x}<br>Dim2=%{y}<br>PointLabel=%{text}<extra></extra>",
         "legendgroup": "c62",
         "marker": {
          "color": "#00cc96",
          "symbol": "circle"
         },
         "mode": "markers+text",
         "name": "c62",
         "orientation": "v",
         "showlegend": true,
         "text": [
          "ccimpC",
          "cnormC",
          "ccoC",
          "cdisC"
         ],
         "textposition": "top center",
         "type": "scatter",
         "x": [
          -52.15093994140625,
          4.2068400382995605,
          -0.651943564414978,
          31.33489990234375
         ],
         "xaxis": "x",
         "y": [
          -24.0360050201416,
          -3.8072423934936523,
          -36.61308288574219,
          22.019617080688477
         ],
         "yaxis": "y"
        },
        {
         "hovertemplate": "Label=c63<br>Dim1=%{x}<br>Dim2=%{y}<br>PointLabel=%{text}<extra></extra>",
         "legendgroup": "c63",
         "marker": {
          "color": "#ab63fa",
          "symbol": "circle"
         },
         "mode": "markers+text",
         "name": "c63",
         "orientation": "v",
         "showlegend": true,
         "text": [
          "ccimpC",
          "cnormC",
          "ccoC",
          "cdisC"
         ],
         "textposition": "top center",
         "type": "scatter",
         "x": [
          -52.15093994140625,
          7.9235100746154785,
          46.61767578125,
          37.89314270019531
         ],
         "xaxis": "x",
         "y": [
          -24.0360050201416,
          -0.12555067241191864,
          -3.6796162128448486,
          14.940048217773438
         ],
         "yaxis": "y"
        },
        {
         "hovertemplate": "Label=c64<br>Dim1=%{x}<br>Dim2=%{y}<br>PointLabel=%{text}<extra></extra>",
         "legendgroup": "c64",
         "marker": {
          "color": "#FFA15A",
          "symbol": "circle"
         },
         "mode": "markers+text",
         "name": "c64",
         "orientation": "v",
         "showlegend": true,
         "text": [
          "ccimpC",
          "cnormC",
          "ccoC",
          "cdisC"
         ],
         "textposition": "top center",
         "type": "scatter",
         "x": [
          -52.15093994140625,
          9.544025421142578,
          15.705756187438965,
          40.131072998046875
         ],
         "xaxis": "x",
         "y": [
          -24.0360050201416,
          -8.163284301757812,
          -25.2193603515625,
          17.390745162963867
         ],
         "yaxis": "y"
        },
        {
         "hovertemplate": "Label=c65<br>Dim1=%{x}<br>Dim2=%{y}<br>PointLabel=%{text}<extra></extra>",
         "legendgroup": "c65",
         "marker": {
          "color": "#19d3f3",
          "symbol": "circle"
         },
         "mode": "markers+text",
         "name": "c65",
         "orientation": "v",
         "showlegend": true,
         "text": [
          "ccimpC",
          "cnormC",
          "ccoC",
          "cdisC"
         ],
         "textposition": "top center",
         "type": "scatter",
         "x": [
          -52.15093994140625,
          7.913914203643799,
          42.22883605957031,
          38.04099655151367
         ],
         "xaxis": "x",
         "y": [
          -24.0360050201416,
          -0.11036350578069687,
          -3.9841911792755127,
          15.141169548034668
         ],
         "yaxis": "y"
        },
        {
         "hovertemplate": "Label=c66<br>Dim1=%{x}<br>Dim2=%{y}<br>PointLabel=%{text}<extra></extra>",
         "legendgroup": "c66",
         "marker": {
          "color": "#FF6692",
          "symbol": "circle"
         },
         "mode": "markers+text",
         "name": "c66",
         "orientation": "v",
         "showlegend": true,
         "text": [
          "ccimpC",
          "cnormC",
          "ccoC",
          "cdisC"
         ],
         "textposition": "top center",
         "type": "scatter",
         "x": [
          -52.15093994140625,
          -37.60395050048828,
          21.462966918945312,
          -9.610596656799316
         ],
         "xaxis": "x",
         "y": [
          -24.0360050201416,
          16.94853401184082,
          -26.802663803100586,
          48.073001861572266
         ],
         "yaxis": "y"
        },
        {
         "hovertemplate": "Label=c67<br>Dim1=%{x}<br>Dim2=%{y}<br>PointLabel=%{text}<extra></extra>",
         "legendgroup": "c67",
         "marker": {
          "color": "#B6E880",
          "symbol": "circle"
         },
         "mode": "markers+text",
         "name": "c67",
         "orientation": "v",
         "showlegend": true,
         "text": [
          "ccimpC",
          "cnormC",
          "ccoC",
          "cdisC"
         ],
         "textposition": "top center",
         "type": "scatter",
         "x": [
          -52.15093994140625,
          -40.57209777832031,
          46.47665786743164,
          -9.582246780395508
         ],
         "xaxis": "x",
         "y": [
          -24.0360050201416,
          17.725955963134766,
          -6.4034013748168945,
          48.80988693237305
         ],
         "yaxis": "y"
        },
        {
         "hovertemplate": "Label=c68<br>Dim1=%{x}<br>Dim2=%{y}<br>PointLabel=%{text}<extra></extra>",
         "legendgroup": "c68",
         "marker": {
          "color": "#FF97FF",
          "symbol": "circle"
         },
         "mode": "markers+text",
         "name": "c68",
         "orientation": "v",
         "showlegend": true,
         "text": [
          "ccimpC",
          "cnormC",
          "ccoC",
          "cdisC"
         ],
         "textposition": "top center",
         "type": "scatter",
         "x": [
          -52.15093994140625,
          2.0915756225585938,
          4.713531970977783,
          25.917884826660156
         ],
         "xaxis": "x",
         "y": [
          -24.0360050201416,
          -0.7534613013267517,
          -32.016273498535156,
          21.57477378845215
         ],
         "yaxis": "y"
        },
        {
         "hovertemplate": "Label=c69<br>Dim1=%{x}<br>Dim2=%{y}<br>PointLabel=%{text}<extra></extra>",
         "legendgroup": "c69",
         "marker": {
          "color": "#FECB52",
          "symbol": "circle"
         },
         "mode": "markers+text",
         "name": "c69",
         "orientation": "v",
         "showlegend": true,
         "text": [
          "ccimpC",
          "cnormC",
          "ccoC",
          "cdisC"
         ],
         "textposition": "top center",
         "type": "scatter",
         "x": [
          -52.15093994140625,
          8.616219520568848,
          -2.2252678871154785,
          33.97291564941406
         ],
         "xaxis": "x",
         "y": [
          -24.0360050201416,
          -6.1928324699401855,
          -38.990440368652344,
          21.87226104736328
         ],
         "yaxis": "y"
        },
        {
         "hovertemplate": "Label=c70<br>Dim1=%{x}<br>Dim2=%{y}<br>PointLabel=%{text}<extra></extra>",
         "legendgroup": "c70",
         "marker": {
          "color": "#636efa",
          "symbol": "circle"
         },
         "mode": "markers+text",
         "name": "c70",
         "orientation": "v",
         "showlegend": true,
         "text": [
          "ccimpC",
          "cnormC",
          "ccoC",
          "cdisC"
         ],
         "textposition": "top center",
         "type": "scatter",
         "x": [
          -52.15093994140625,
          -39.809547424316406,
          47.952903747558594,
          -11.224508285522461
         ],
         "xaxis": "x",
         "y": [
          -24.0360050201416,
          18.057605743408203,
          -5.182309627532959,
          50.265316009521484
         ],
         "yaxis": "y"
        },
        {
         "hovertemplate": "Label=c71<br>Dim1=%{x}<br>Dim2=%{y}<br>PointLabel=%{text}<extra></extra>",
         "legendgroup": "c71",
         "marker": {
          "color": "#EF553B",
          "symbol": "circle"
         },
         "mode": "markers+text",
         "name": "c71",
         "orientation": "v",
         "showlegend": true,
         "text": [
          "ccimpC",
          "cnormC",
          "ccoC",
          "cdisC"
         ],
         "textposition": "top center",
         "type": "scatter",
         "x": [
          -52.15093994140625,
          7.8641037940979,
          0.12591494619846344,
          33.393218994140625
         ],
         "xaxis": "x",
         "y": [
          -24.0360050201416,
          -6.296250820159912,
          -36.393497467041016,
          22.728069305419922
         ],
         "yaxis": "y"
        },
        {
         "hovertemplate": "Label=c72<br>Dim1=%{x}<br>Dim2=%{y}<br>PointLabel=%{text}<extra></extra>",
         "legendgroup": "c72",
         "marker": {
          "color": "#00cc96",
          "symbol": "circle"
         },
         "mode": "markers+text",
         "name": "c72",
         "orientation": "v",
         "showlegend": true,
         "text": [
          "ccimpC",
          "cnormC",
          "ccoC",
          "cdisC"
         ],
         "textposition": "top center",
         "type": "scatter",
         "x": [
          -52.15093994140625,
          -37.606014251708984,
          40.63946533203125,
          -9.817659378051758
         ],
         "xaxis": "x",
         "y": [
          -24.0360050201416,
          15.995827674865723,
          -9.102837562561035,
          49.4539680480957
         ],
         "yaxis": "y"
        },
        {
         "hovertemplate": "Label=c73<br>Dim1=%{x}<br>Dim2=%{y}<br>PointLabel=%{text}<extra></extra>",
         "legendgroup": "c73",
         "marker": {
          "color": "#ab63fa",
          "symbol": "circle"
         },
         "mode": "markers+text",
         "name": "c73",
         "orientation": "v",
         "showlegend": true,
         "text": [
          "ccimpC",
          "cnormC",
          "ccoC",
          "cdisC"
         ],
         "textposition": "top center",
         "type": "scatter",
         "x": [
          -52.15093994140625,
          2.8194706439971924,
          0.12979647517204285,
          30.138057708740234
         ],
         "xaxis": "x",
         "y": [
          -24.0360050201416,
          -1.1854679584503174,
          -36.977386474609375,
          19.709928512573242
         ],
         "yaxis": "y"
        },
        {
         "hovertemplate": "Label=c74<br>Dim1=%{x}<br>Dim2=%{y}<br>PointLabel=%{text}<extra></extra>",
         "legendgroup": "c74",
         "marker": {
          "color": "#FFA15A",
          "symbol": "circle"
         },
         "mode": "markers+text",
         "name": "c74",
         "orientation": "v",
         "showlegend": true,
         "text": [
          "ccimpC",
          "cnormC",
          "ccoC",
          "cdisC"
         ],
         "textposition": "top center",
         "type": "scatter",
         "x": [
          -52.15093994140625,
          -40.135398864746094,
          44.412532806396484,
          -9.698487281799316
         ],
         "xaxis": "x",
         "y": [
          -24.0360050201416,
          17.040355682373047,
          -6.6976752281188965,
          50.44621276855469
         ],
         "yaxis": "y"
        },
        {
         "hovertemplate": "Label=c75<br>Dim1=%{x}<br>Dim2=%{y}<br>PointLabel=%{text}<extra></extra>",
         "legendgroup": "c75",
         "marker": {
          "color": "#19d3f3",
          "symbol": "circle"
         },
         "mode": "markers+text",
         "name": "c75",
         "orientation": "v",
         "showlegend": true,
         "text": [
          "ccimpC",
          "cnormC",
          "ccoC",
          "cdisC"
         ],
         "textposition": "top center",
         "type": "scatter",
         "x": [
          -52.15093994140625,
          -21.834293365478516,
          29.501266479492188,
          4.5498175621032715
         ],
         "xaxis": "x",
         "y": [
          -24.0360050201416,
          18.42543601989746,
          -18.910547256469727,
          44.13793182373047
         ],
         "yaxis": "y"
        },
        {
         "hovertemplate": "Label=c76<br>Dim1=%{x}<br>Dim2=%{y}<br>PointLabel=%{text}<extra></extra>",
         "legendgroup": "c76",
         "marker": {
          "color": "#FF6692",
          "symbol": "circle"
         },
         "mode": "markers+text",
         "name": "c76",
         "orientation": "v",
         "showlegend": true,
         "text": [
          "ccimpC",
          "cnormC",
          "ccoC",
          "cdisC"
         ],
         "textposition": "top center",
         "type": "scatter",
         "x": [
          -52.15093994140625,
          -38.53275680541992,
          47.25682067871094,
          -8.976874351501465
         ],
         "xaxis": "x",
         "y": [
          -24.0360050201416,
          15.637025833129883,
          -6.218239784240723,
          49.72514724731445
         ],
         "yaxis": "y"
        },
        {
         "hovertemplate": "Label=c77<br>Dim1=%{x}<br>Dim2=%{y}<br>PointLabel=%{text}<extra></extra>",
         "legendgroup": "c77",
         "marker": {
          "color": "#B6E880",
          "symbol": "circle"
         },
         "mode": "markers+text",
         "name": "c77",
         "orientation": "v",
         "showlegend": true,
         "text": [
          "ccimpC",
          "cnormC",
          "ccoC",
          "cdisC"
         ],
         "textposition": "top center",
         "type": "scatter",
         "x": [
          -52.15093994140625,
          3.511565685272217,
          -4.114629745483398,
          32.30793762207031
         ],
         "xaxis": "x",
         "y": [
          -24.0360050201416,
          -1.8801871538162231,
          -38.931785583496094,
          19.8133602142334
         ],
         "yaxis": "y"
        },
        {
         "hovertemplate": "Label=c78<br>Dim1=%{x}<br>Dim2=%{y}<br>PointLabel=%{text}<extra></extra>",
         "legendgroup": "c78",
         "marker": {
          "color": "#FF97FF",
          "symbol": "circle"
         },
         "mode": "markers+text",
         "name": "c78",
         "orientation": "v",
         "showlegend": true,
         "text": [
          "ccimpC",
          "cnormC",
          "ccoC",
          "cdisC"
         ],
         "textposition": "top center",
         "type": "scatter",
         "x": [
          -52.15093994140625,
          -9.568833351135254,
          26.694766998291016,
          10.810972213745117
         ],
         "xaxis": "x",
         "y": [
          -24.0360050201416,
          12.589309692382812,
          -23.1822509765625,
          31.172752380371094
         ],
         "yaxis": "y"
        },
        {
         "hovertemplate": "Label=c79<br>Dim1=%{x}<br>Dim2=%{y}<br>PointLabel=%{text}<extra></extra>",
         "legendgroup": "c79",
         "marker": {
          "color": "#FECB52",
          "symbol": "circle"
         },
         "mode": "markers+text",
         "name": "c79",
         "orientation": "v",
         "showlegend": true,
         "text": [
          "ccimpC",
          "cnormC",
          "ccoC",
          "cdisC"
         ],
         "textposition": "top center",
         "type": "scatter",
         "x": [
          -52.15093994140625,
          0.9272387623786926,
          15.322519302368164,
          28.58169174194336
         ],
         "xaxis": "x",
         "y": [
          -24.0360050201416,
          0.869067370891571,
          -29.137849807739258,
          22.68929100036621
         ],
         "yaxis": "y"
        },
        {
         "hovertemplate": "Label=c80<br>Dim1=%{x}<br>Dim2=%{y}<br>PointLabel=%{text}<extra></extra>",
         "legendgroup": "c80",
         "marker": {
          "color": "#636efa",
          "symbol": "circle"
         },
         "mode": "markers+text",
         "name": "c80",
         "orientation": "v",
         "showlegend": true,
         "text": [
          "ccimpC",
          "cnormC",
          "ccoC",
          "cdisC"
         ],
         "textposition": "top center",
         "type": "scatter",
         "x": [
          -52.15093994140625,
          0.5320607423782349,
          -2.741910219192505,
          31.03325080871582
         ],
         "xaxis": "x",
         "y": [
          -24.0360050201416,
          0.48594924807548523,
          -38.476593017578125,
          19.601253509521484
         ],
         "yaxis": "y"
        },
        {
         "hovertemplate": "Label=c81<br>Dim1=%{x}<br>Dim2=%{y}<br>PointLabel=%{text}<extra></extra>",
         "legendgroup": "c81",
         "marker": {
          "color": "#EF553B",
          "symbol": "circle"
         },
         "mode": "markers+text",
         "name": "c81",
         "orientation": "v",
         "showlegend": true,
         "text": [
          "ccimpC",
          "cnormC",
          "ccoC",
          "cdisC"
         ],
         "textposition": "top center",
         "type": "scatter",
         "x": [
          -52.15093994140625,
          -8.848411560058594,
          25.790983200073242,
          11.760721206665039
         ],
         "xaxis": "x",
         "y": [
          -24.0360050201416,
          11.533203125,
          -22.450565338134766,
          31.374910354614258
         ],
         "yaxis": "y"
        },
        {
         "hovertemplate": "Label=c82<br>Dim1=%{x}<br>Dim2=%{y}<br>PointLabel=%{text}<extra></extra>",
         "legendgroup": "c82",
         "marker": {
          "color": "#00cc96",
          "symbol": "circle"
         },
         "mode": "markers+text",
         "name": "c82",
         "orientation": "v",
         "showlegend": true,
         "text": [
          "ccimpC",
          "cnormC",
          "ccoC",
          "cdisC"
         ],
         "textposition": "top center",
         "type": "scatter",
         "x": [
          -52.15093994140625,
          -5.372465133666992,
          16.131946563720703,
          25.6856689453125
         ],
         "xaxis": "x",
         "y": [
          -24.0360050201416,
          2.9328548908233643,
          -29.209054946899414,
          22.79485321044922
         ],
         "yaxis": "y"
        },
        {
         "hovertemplate": "Label=c83<br>Dim1=%{x}<br>Dim2=%{y}<br>PointLabel=%{text}<extra></extra>",
         "legendgroup": "c83",
         "marker": {
          "color": "#ab63fa",
          "symbol": "circle"
         },
         "mode": "markers+text",
         "name": "c83",
         "orientation": "v",
         "showlegend": true,
         "text": [
          "ccimpC",
          "cnormC",
          "ccoC",
          "cdisC"
         ],
         "textposition": "top center",
         "type": "scatter",
         "x": [
          -52.15093994140625,
          6.3056111335754395,
          -1.7767597436904907,
          33.85326385498047
         ],
         "xaxis": "x",
         "y": [
          -24.0360050201416,
          -5.5153117179870605,
          -37.11024475097656,
          20.69465446472168
         ],
         "yaxis": "y"
        },
        {
         "hovertemplate": "Label=c84<br>Dim1=%{x}<br>Dim2=%{y}<br>PointLabel=%{text}<extra></extra>",
         "legendgroup": "c84",
         "marker": {
          "color": "#FFA15A",
          "symbol": "circle"
         },
         "mode": "markers+text",
         "name": "c84",
         "orientation": "v",
         "showlegend": true,
         "text": [
          "ccimpC",
          "cnormC",
          "ccoC",
          "cdisC"
         ],
         "textposition": "top center",
         "type": "scatter",
         "x": [
          -52.15093994140625,
          -34.38353729248047,
          43.02229309082031,
          -5.840904235839844
         ],
         "xaxis": "x",
         "y": [
          -24.0360050201416,
          17.277679443359375,
          -7.809420108795166,
          47.84748458862305
         ],
         "yaxis": "y"
        },
        {
         "hovertemplate": "Label=c85<br>Dim1=%{x}<br>Dim2=%{y}<br>PointLabel=%{text}<extra></extra>",
         "legendgroup": "c85",
         "marker": {
          "color": "#19d3f3",
          "symbol": "circle"
         },
         "mode": "markers+text",
         "name": "c85",
         "orientation": "v",
         "showlegend": true,
         "text": [
          "ccimpC",
          "cnormC",
          "ccoC",
          "cdisC"
         ],
         "textposition": "top center",
         "type": "scatter",
         "x": [
          -52.15093994140625,
          -36.36256790161133,
          20.883533477783203,
          -8.497118949890137
         ],
         "xaxis": "x",
         "y": [
          -24.0360050201416,
          16.299644470214844,
          -26.816280364990234,
          48.23228073120117
         ],
         "yaxis": "y"
        },
        {
         "hovertemplate": "Label=c86<br>Dim1=%{x}<br>Dim2=%{y}<br>PointLabel=%{text}<extra></extra>",
         "legendgroup": "c86",
         "marker": {
          "color": "#FF6692",
          "symbol": "circle"
         },
         "mode": "markers+text",
         "name": "c86",
         "orientation": "v",
         "showlegend": true,
         "text": [
          "ccimpC",
          "cnormC",
          "ccoC",
          "cdisC"
         ],
         "textposition": "top center",
         "type": "scatter",
         "x": [
          -52.15093994140625,
          -39.5311393737793,
          46.20634460449219,
          -8.618202209472656
         ],
         "xaxis": "x",
         "y": [
          -24.0360050201416,
          15.260674476623535,
          -7.008724689483643,
          48.946346282958984
         ],
         "yaxis": "y"
        },
        {
         "hovertemplate": "Label=c87<br>Dim1=%{x}<br>Dim2=%{y}<br>PointLabel=%{text}<extra></extra>",
         "legendgroup": "c87",
         "marker": {
          "color": "#B6E880",
          "symbol": "circle"
         },
         "mode": "markers+text",
         "name": "c87",
         "orientation": "v",
         "showlegend": true,
         "text": [
          "ccimpC",
          "cnormC",
          "ccoC",
          "cdisC"
         ],
         "textposition": "top center",
         "type": "scatter",
         "x": [
          -52.15093994140625,
          5.436711311340332,
          5.5143303871154785,
          30.703157424926758
         ],
         "xaxis": "x",
         "y": [
          -24.0360050201416,
          -4.554047107696533,
          -31.262529373168945,
          22.59503173828125
         ],
         "yaxis": "y"
        },
        {
         "hovertemplate": "Label=c88<br>Dim1=%{x}<br>Dim2=%{y}<br>PointLabel=%{text}<extra></extra>",
         "legendgroup": "c88",
         "marker": {
          "color": "#FF97FF",
          "symbol": "circle"
         },
         "mode": "markers+text",
         "name": "c88",
         "orientation": "v",
         "showlegend": true,
         "text": [
          "ccimpC",
          "cnormC",
          "ccoC",
          "cdisC"
         ],
         "textposition": "top center",
         "type": "scatter",
         "x": [
          -52.15093994140625,
          -14.66455364227295,
          22.01374053955078,
          9.894956588745117
         ],
         "xaxis": "x",
         "y": [
          -24.0360050201416,
          15.624114990234375,
          -26.35012435913086,
          31.495769500732422
         ],
         "yaxis": "y"
        },
        {
         "hovertemplate": "Label=c89<br>Dim1=%{x}<br>Dim2=%{y}<br>PointLabel=%{text}<extra></extra>",
         "legendgroup": "c89",
         "marker": {
          "color": "#FECB52",
          "symbol": "circle"
         },
         "mode": "markers+text",
         "name": "c89",
         "orientation": "v",
         "showlegend": true,
         "text": [
          "ccimpC",
          "cnormC",
          "ccoC",
          "cdisC"
         ],
         "textposition": "top center",
         "type": "scatter",
         "x": [
          -52.15093994140625,
          5.0525617599487305,
          17.529008865356445,
          26.276796340942383
         ],
         "xaxis": "x",
         "y": [
          -24.0360050201416,
          -5.128212928771973,
          -28.634830474853516,
          21.68501853942871
         ],
         "yaxis": "y"
        },
        {
         "hovertemplate": "Label=c90<br>Dim1=%{x}<br>Dim2=%{y}<br>PointLabel=%{text}<extra></extra>",
         "legendgroup": "c90",
         "marker": {
          "color": "#636efa",
          "symbol": "circle"
         },
         "mode": "markers+text",
         "name": "c90",
         "orientation": "v",
         "showlegend": true,
         "text": [
          "ccimpC",
          "cnormC",
          "ccoC",
          "cdisC"
         ],
         "textposition": "top center",
         "type": "scatter",
         "x": [
          -52.15093994140625,
          5.160415172576904,
          -3.3560407161712646,
          33.12683868408203
         ],
         "xaxis": "x",
         "y": [
          -24.0360050201416,
          -3.282717227935791,
          -37.51224899291992,
          19.081560134887695
         ],
         "yaxis": "y"
        },
        {
         "hovertemplate": "Label=c91<br>Dim1=%{x}<br>Dim2=%{y}<br>PointLabel=%{text}<extra></extra>",
         "legendgroup": "c91",
         "marker": {
          "color": "#EF553B",
          "symbol": "circle"
         },
         "mode": "markers+text",
         "name": "c91",
         "orientation": "v",
         "showlegend": true,
         "text": [
          "ccimpC",
          "cnormC",
          "ccoC",
          "cdisC"
         ],
         "textposition": "top center",
         "type": "scatter",
         "x": [
          -52.15093994140625,
          -22.300325393676758,
          29.80331039428711,
          6.023631572723389
         ],
         "xaxis": "x",
         "y": [
          -24.0360050201416,
          18.459617614746094,
          -18.51021957397461,
          43.08393096923828
         ],
         "yaxis": "y"
        },
        {
         "hovertemplate": "Label=c92<br>Dim1=%{x}<br>Dim2=%{y}<br>PointLabel=%{text}<extra></extra>",
         "legendgroup": "c92",
         "marker": {
          "color": "#00cc96",
          "symbol": "circle"
         },
         "mode": "markers+text",
         "name": "c92",
         "orientation": "v",
         "showlegend": true,
         "text": [
          "ccimpC",
          "cnormC",
          "ccoC",
          "cdisC"
         ],
         "textposition": "top center",
         "type": "scatter",
         "x": [
          -52.15093994140625,
          -0.03892625495791435,
          10.839699745178223,
          29.497817993164062
         ],
         "xaxis": "x",
         "y": [
          -24.0360050201416,
          1.4062753915786743,
          -29.261287689208984,
          22.894071578979492
         ],
         "yaxis": "y"
        },
        {
         "hovertemplate": "Label=c93<br>Dim1=%{x}<br>Dim2=%{y}<br>PointLabel=%{text}<extra></extra>",
         "legendgroup": "c93",
         "marker": {
          "color": "#ab63fa",
          "symbol": "circle"
         },
         "mode": "markers+text",
         "name": "c93",
         "orientation": "v",
         "showlegend": true,
         "text": [
          "ccimpC",
          "cnormC",
          "ccoC",
          "cdisC"
         ],
         "textposition": "top center",
         "type": "scatter",
         "x": [
          -52.15093994140625,
          6.831735134124756,
          -1.2321184873580933,
          34.525634765625
         ],
         "xaxis": "x",
         "y": [
          -24.0360050201416,
          -5.8173394203186035,
          -37.71742630004883,
          21.64339256286621
         ],
         "yaxis": "y"
        },
        {
         "hovertemplate": "Label=c94<br>Dim1=%{x}<br>Dim2=%{y}<br>PointLabel=%{text}<extra></extra>",
         "legendgroup": "c94",
         "marker": {
          "color": "#FFA15A",
          "symbol": "circle"
         },
         "mode": "markers+text",
         "name": "c94",
         "orientation": "v",
         "showlegend": true,
         "text": [
          "ccimpC",
          "cnormC",
          "ccoC",
          "cdisC"
         ],
         "textposition": "top center",
         "type": "scatter",
         "x": [
          -52.15093994140625,
          -39.50574493408203,
          44.56773376464844,
          -10.759123802185059
         ],
         "xaxis": "x",
         "y": [
          -24.0360050201416,
          17.222373962402344,
          -7.3674516677856445,
          49.042781829833984
         ],
         "yaxis": "y"
        },
        {
         "hovertemplate": "Label=c95<br>Dim1=%{x}<br>Dim2=%{y}<br>PointLabel=%{text}<extra></extra>",
         "legendgroup": "c95",
         "marker": {
          "color": "#19d3f3",
          "symbol": "circle"
         },
         "mode": "markers+text",
         "name": "c95",
         "orientation": "v",
         "showlegend": true,
         "text": [
          "ccimpC",
          "cnormC",
          "ccoC",
          "cdisC"
         ],
         "textposition": "top center",
         "type": "scatter",
         "x": [
          -52.15093994140625,
          -33.9173698425293,
          41.24532699584961,
          -4.62724494934082
         ],
         "xaxis": "x",
         "y": [
          -24.0360050201416,
          16.65005111694336,
          -8.446507453918457,
          47.251991271972656
         ],
         "yaxis": "y"
        },
        {
         "hovertemplate": "Label=c96<br>Dim1=%{x}<br>Dim2=%{y}<br>PointLabel=%{text}<extra></extra>",
         "legendgroup": "c96",
         "marker": {
          "color": "#FF6692",
          "symbol": "circle"
         },
         "mode": "markers+text",
         "name": "c96",
         "orientation": "v",
         "showlegend": true,
         "text": [
          "ccimpC",
          "cnormC",
          "ccoC",
          "cdisC"
         ],
         "textposition": "top center",
         "type": "scatter",
         "x": [
          -46.781394958496094,
          -35.41100311279297,
          40.16468811035156,
          -6.80303955078125
         ],
         "xaxis": "x",
         "y": [
          -25.955184936523438,
          17.144943237304688,
          -8.55693244934082,
          47.94498825073242
         ],
         "yaxis": "y"
        },
        {
         "hovertemplate": "Label=c97<br>Dim1=%{x}<br>Dim2=%{y}<br>PointLabel=%{text}<extra></extra>",
         "legendgroup": "c97",
         "marker": {
          "color": "#B6E880",
          "symbol": "circle"
         },
         "mode": "markers+text",
         "name": "c97",
         "orientation": "v",
         "showlegend": true,
         "text": [
          "ccimpC",
          "cnormC",
          "ccoC",
          "cdisC"
         ],
         "textposition": "top center",
         "type": "scatter",
         "x": [
          -36.7232780456543,
          7.8967766761779785,
          4.799752235412598,
          28.807418823242188
         ],
         "xaxis": "x",
         "y": [
          -26.47107696533203,
          -7.003327369689941,
          -33.09039306640625,
          20.90430450439453
         ],
         "yaxis": "y"
        },
        {
         "hovertemplate": "Label=c98<br>Dim1=%{x}<br>Dim2=%{y}<br>PointLabel=%{text}<extra></extra>",
         "legendgroup": "c98",
         "marker": {
          "color": "#FF97FF",
          "symbol": "circle"
         },
         "mode": "markers+text",
         "name": "c98",
         "orientation": "v",
         "showlegend": true,
         "text": [
          "ccimpC",
          "cnormC",
          "ccoC",
          "cdisC"
         ],
         "textposition": "top center",
         "type": "scatter",
         "x": [
          -46.781394958496094,
          -15.564431190490723,
          26.701101303100586,
          6.11436653137207
         ],
         "xaxis": "x",
         "y": [
          -25.955184936523438,
          16.53985595703125,
          -24.285505294799805,
          42.52571487426758
         ],
         "yaxis": "y"
        },
        {
         "hovertemplate": "Label=c99<br>Dim1=%{x}<br>Dim2=%{y}<br>PointLabel=%{text}<extra></extra>",
         "legendgroup": "c99",
         "marker": {
          "color": "#FECB52",
          "symbol": "circle"
         },
         "mode": "markers+text",
         "name": "c99",
         "orientation": "v",
         "showlegend": true,
         "text": [
          "ccimpC",
          "cnormC",
          "ccoC",
          "cdisC"
         ],
         "textposition": "top center",
         "type": "scatter",
         "x": [
          -46.781394958496094,
          9.897686958312988,
          19.01066017150879,
          13.943557739257812
         ],
         "xaxis": "x",
         "y": [
          -25.955184936523438,
          -7.520066738128662,
          -27.88408851623535,
          28.70618438720703
         ],
         "yaxis": "y"
        },
        {
         "hovertemplate": "Label=c100<br>Dim1=%{x}<br>Dim2=%{y}<br>PointLabel=%{text}<extra></extra>",
         "legendgroup": "c100",
         "marker": {
          "color": "#636efa",
          "symbol": "circle"
         },
         "mode": "markers+text",
         "name": "c100",
         "orientation": "v",
         "showlegend": true,
         "text": [
          "ccimpC",
          "cnormC",
          "ccoC",
          "cdisC"
         ],
         "textposition": "top center",
         "type": "scatter",
         "x": [
          -41.846126556396484,
          1.9914672374725342,
          22.77094268798828,
          28.662109375
         ],
         "xaxis": "x",
         "y": [
          -29.301513671875,
          -1.6766817569732666,
          -25.83868980407715,
          23.616174697875977
         ],
         "yaxis": "y"
        },
        {
         "hovertemplate": "Label=c101<br>Dim1=%{x}<br>Dim2=%{y}<br>PointLabel=%{text}<extra></extra>",
         "legendgroup": "c101",
         "marker": {
          "color": "#EF553B",
          "symbol": "circle"
         },
         "mode": "markers+text",
         "name": "c101",
         "orientation": "v",
         "showlegend": true,
         "text": [
          "cnormC",
          "ccoC",
          "cdisC"
         ],
         "textposition": "top center",
         "type": "scatter",
         "x": [
          -35.529441833496094,
          43.285587310791016,
          -7.640727519989014
         ],
         "xaxis": "x",
         "y": [
          16.310022354125977,
          -7.218709468841553,
          48.36034393310547
         ],
         "yaxis": "y"
        },
        {
         "hovertemplate": "Label=c102<br>Dim1=%{x}<br>Dim2=%{y}<br>PointLabel=%{text}<extra></extra>",
         "legendgroup": "c102",
         "marker": {
          "color": "#00cc96",
          "symbol": "circle"
         },
         "mode": "markers+text",
         "name": "c102",
         "orientation": "v",
         "showlegend": true,
         "text": [
          "cnormC",
          "ccoC",
          "cdisC"
         ],
         "textposition": "top center",
         "type": "scatter",
         "x": [
          -0.36237385869026184,
          16.68796157836914,
          27.508317947387695
         ],
         "xaxis": "x",
         "y": [
          1.9083682298660278,
          -29.093082427978516,
          23.139802932739258
         ],
         "yaxis": "y"
        },
        {
         "hovertemplate": "Label=c103<br>Dim1=%{x}<br>Dim2=%{y}<br>PointLabel=%{text}<extra></extra>",
         "legendgroup": "c103",
         "marker": {
          "color": "#ab63fa",
          "symbol": "circle"
         },
         "mode": "markers+text",
         "name": "c103",
         "orientation": "v",
         "showlegend": true,
         "text": [
          "cnormC",
          "ccoC",
          "cdisC"
         ],
         "textposition": "top center",
         "type": "scatter",
         "x": [
          -31.512516021728516,
          -3.3429067134857178,
          0.6965076327323914
         ],
         "xaxis": "x",
         "y": [
          13.955628395080566,
          -41.88298797607422,
          43.848812103271484
         ],
         "yaxis": "y"
        },
        {
         "hovertemplate": "Label=c104<br>Dim1=%{x}<br>Dim2=%{y}<br>PointLabel=%{text}<extra></extra>",
         "legendgroup": "c104",
         "marker": {
          "color": "#FFA15A",
          "symbol": "circle"
         },
         "mode": "markers+text",
         "name": "c104",
         "orientation": "v",
         "showlegend": true,
         "text": [
          "cnormC",
          "ccoC",
          "cdisC"
         ],
         "textposition": "top center",
         "type": "scatter",
         "x": [
          5.554627418518066,
          -1.3630261421203613,
          28.229928970336914
         ],
         "xaxis": "x",
         "y": [
          -5.815118312835693,
          -38.40665817260742,
          18.44691276550293
         ],
         "yaxis": "y"
        },
        {
         "hovertemplate": "Label=c105<br>Dim1=%{x}<br>Dim2=%{y}<br>PointLabel=%{text}<extra></extra>",
         "legendgroup": "c105",
         "marker": {
          "color": "#19d3f3",
          "symbol": "circle"
         },
         "mode": "markers+text",
         "name": "c105",
         "orientation": "v",
         "showlegend": true,
         "text": [
          "cnormC",
          "ccoC",
          "cdisC"
         ],
         "textposition": "top center",
         "type": "scatter",
         "x": [
          2.168057441711426,
          45.626922607421875,
          6.24879789352417
         ],
         "xaxis": "x",
         "y": [
          -3.621690273284912,
          -6.174989700317383,
          52.176631927490234
         ],
         "yaxis": "y"
        },
        {
         "hovertemplate": "Label=c106<br>Dim1=%{x}<br>Dim2=%{y}<br>PointLabel=%{text}<extra></extra>",
         "legendgroup": "c106",
         "marker": {
          "color": "#FF6692",
          "symbol": "circle"
         },
         "mode": "markers+text",
         "name": "c106",
         "orientation": "v",
         "showlegend": true,
         "text": [
          "cnormC",
          "ccoC",
          "cdisC"
         ],
         "textposition": "top center",
         "type": "scatter",
         "x": [
          7.861178874969482,
          -5.739649772644043,
          13.768732070922852
         ],
         "xaxis": "x",
         "y": [
          -7.834522724151611,
          -40.56909942626953,
          28.799667358398438
         ],
         "yaxis": "y"
        },
        {
         "hovertemplate": "Label=r0<br>Dim1=%{x}<br>Dim2=%{y}<br>PointLabel=%{text}<extra></extra>",
         "legendgroup": "r0",
         "marker": {
          "color": "#B6E880",
          "symbol": "circle"
         },
         "mode": "markers+text",
         "name": "r0",
         "orientation": "v",
         "showlegend": true,
         "text": [
          "rnimpR",
          "rcimpR",
          "rnormR",
          "rcoR",
          "rdisR"
         ],
         "textposition": "top center",
         "type": "scatter",
         "x": [
          -16.408245086669922,
          -46.781394958496094,
          -6.198812484741211,
          30.308067321777344,
          3.512251377105713
         ],
         "xaxis": "x",
         "y": [
          24.18330192565918,
          -25.955184936523438,
          7.636418342590332,
          -19.55393409729004,
          45.05335235595703
         ],
         "yaxis": "y"
        },
        {
         "hovertemplate": "Label=r1<br>Dim1=%{x}<br>Dim2=%{y}<br>PointLabel=%{text}<extra></extra>",
         "legendgroup": "r1",
         "marker": {
          "color": "#FF97FF",
          "symbol": "circle"
         },
         "mode": "markers+text",
         "name": "r1",
         "orientation": "v",
         "showlegend": true,
         "text": [
          "rnimpR",
          "rcimpR",
          "rnormR",
          "rcoR",
          "rdisR"
         ],
         "textposition": "top center",
         "type": "scatter",
         "x": [
          -15.9050874710083,
          -46.781394958496094,
          -21.376073837280273,
          22.797969818115234,
          6.505398273468018
         ],
         "xaxis": "x",
         "y": [
          24.885406494140625,
          -25.955184936523438,
          15.694522857666016,
          -24.316635131835938,
          41.67840576171875
         ],
         "yaxis": "y"
        },
        {
         "hovertemplate": "Label=r2<br>Dim1=%{x}<br>Dim2=%{y}<br>PointLabel=%{text}<extra></extra>",
         "legendgroup": "r2",
         "marker": {
          "color": "#FECB52",
          "symbol": "circle"
         },
         "mode": "markers+text",
         "name": "r2",
         "orientation": "v",
         "showlegend": true,
         "text": [
          "rnimpR",
          "rcimpR",
          "rnormR",
          "rcoR",
          "rdisR"
         ],
         "textposition": "top center",
         "type": "scatter",
         "x": [
          -17.273887634277344,
          -46.781394958496094,
          -27.355920791625977,
          20.439847946166992,
          20.227983474731445
         ],
         "xaxis": "x",
         "y": [
          24.118486404418945,
          -25.955184936523438,
          18.234079360961914,
          -25.217647552490234,
          20.73444366455078
         ],
         "yaxis": "y"
        },
        {
         "hovertemplate": "Label=r3<br>Dim1=%{x}<br>Dim2=%{y}<br>PointLabel=%{text}<extra></extra>",
         "legendgroup": "r3",
         "marker": {
          "color": "#636efa",
          "symbol": "circle"
         },
         "mode": "markers+text",
         "name": "r3",
         "orientation": "v",
         "showlegend": true,
         "text": [
          "rnimpR",
          "rcimpR",
          "rnormR",
          "rcoR",
          "rdisR"
         ],
         "textposition": "top center",
         "type": "scatter",
         "x": [
          -16.989776611328125,
          -52.3585090637207,
          -27.355920791625977,
          6.827478408813477,
          7.127871513366699
         ],
         "xaxis": "x",
         "y": [
          24.66312599182129,
          -13.5407075881958,
          18.234079360961914,
          -30.276823043823242,
          42.14717483520508
         ],
         "yaxis": "y"
        },
        {
         "hovertemplate": "Label=r4<br>Dim1=%{x}<br>Dim2=%{y}<br>PointLabel=%{text}<extra></extra>",
         "legendgroup": "r4",
         "marker": {
          "color": "#EF553B",
          "symbol": "circle"
         },
         "mode": "markers+text",
         "name": "r4",
         "orientation": "v",
         "showlegend": true,
         "text": [
          "rnimpR",
          "rcimpR",
          "rnormR",
          "rcoR",
          "rdisR"
         ],
         "textposition": "top center",
         "type": "scatter",
         "x": [
          -15.201268196105957,
          -46.781394958496094,
          -5.461867809295654,
          9.60080623626709,
          21.475894927978516
         ],
         "xaxis": "x",
         "y": [
          24.465360641479492,
          -25.955184936523438,
          6.116831302642822,
          -32.185115814208984,
          21.487146377563477
         ],
         "yaxis": "y"
        },
        {
         "hovertemplate": "Label=r5<br>Dim1=%{x}<br>Dim2=%{y}<br>PointLabel=%{text}<extra></extra>",
         "legendgroup": "r5",
         "marker": {
          "color": "#00cc96",
          "symbol": "circle"
         },
         "mode": "markers+text",
         "name": "r5",
         "orientation": "v",
         "showlegend": true,
         "text": [
          "rcimpR",
          "rnormR",
          "rcoR",
          "rdisR"
         ],
         "textposition": "top center",
         "type": "scatter",
         "x": [
          -46.781394958496094,
          -27.355920791625977,
          35.36186599731445,
          1.0160725116729736
         ],
         "xaxis": "x",
         "y": [
          -25.955184936523438,
          18.234079360961914,
          -10.72120189666748,
          45.7299690246582
         ],
         "yaxis": "y"
        },
        {
         "hovertemplate": "Label=r6<br>Dim1=%{x}<br>Dim2=%{y}<br>PointLabel=%{text}<extra></extra>",
         "legendgroup": "r6",
         "marker": {
          "color": "#ab63fa",
          "symbol": "circle"
         },
         "mode": "markers+text",
         "name": "r6",
         "orientation": "v",
         "showlegend": true,
         "text": [
          "rcimpR",
          "rnormR",
          "rcoR",
          "rdisR"
         ],
         "textposition": "top center",
         "type": "scatter",
         "x": [
          -46.781394958496094,
          -27.355920791625977,
          13.162642478942871,
          20.227983474731445
         ],
         "xaxis": "x",
         "y": [
          -25.955184936523438,
          18.234079360961914,
          -32.53346633911133,
          20.73444366455078
         ],
         "yaxis": "y"
        },
        {
         "hovertemplate": "Label=r7<br>Dim1=%{x}<br>Dim2=%{y}<br>PointLabel=%{text}<extra></extra>",
         "legendgroup": "r7",
         "marker": {
          "color": "#FFA15A",
          "symbol": "circle"
         },
         "mode": "markers+text",
         "name": "r7",
         "orientation": "v",
         "showlegend": true,
         "text": [
          "rcimpR",
          "rnormR",
          "rcoR",
          "rdisR"
         ],
         "textposition": "top center",
         "type": "scatter",
         "x": [
          -46.781394958496094,
          -13.965126037597656,
          24.81015968322754,
          8.853351593017578
         ],
         "xaxis": "x",
         "y": [
          -25.955184936523438,
          16.430086135864258,
          -24.037307739257812,
          33.241851806640625
         ],
         "yaxis": "y"
        },
        {
         "hovertemplate": "Label=r8<br>Dim1=%{x}<br>Dim2=%{y}<br>PointLabel=%{text}<extra></extra>",
         "legendgroup": "r8",
         "marker": {
          "color": "#19d3f3",
          "symbol": "circle"
         },
         "mode": "markers+text",
         "name": "r8",
         "orientation": "v",
         "showlegend": true,
         "text": [
          "rcimpR",
          "rnormR",
          "rcoR",
          "rdisR"
         ],
         "textposition": "top center",
         "type": "scatter",
         "x": [
          -38.38130187988281,
          -11.229278564453125,
          29.072500228881836,
          2.3721578121185303
         ],
         "xaxis": "x",
         "y": [
          -28.0502986907959,
          12.268373489379883,
          -20.996490478515625,
          42.74654006958008
         ],
         "yaxis": "y"
        },
        {
         "hovertemplate": "Label=r9<br>Dim1=%{x}<br>Dim2=%{y}<br>PointLabel=%{text}<extra></extra>",
         "legendgroup": "r9",
         "marker": {
          "color": "#FF6692",
          "symbol": "circle"
         },
         "mode": "markers+text",
         "name": "r9",
         "orientation": "v",
         "showlegend": true,
         "text": [
          "rcimpR",
          "rnormR",
          "rcoR",
          "rdisR"
         ],
         "textposition": "top center",
         "type": "scatter",
         "x": [
          -46.781394958496094,
          -3.434264659881592,
          38.590091705322266,
          6.023345947265625
         ],
         "xaxis": "x",
         "y": [
          -25.955184936523438,
          5.011081695556641,
          -10.389328956604004,
          46.75816345214844
         ],
         "yaxis": "y"
        },
        {
         "hovertemplate": "Label=r10<br>Dim1=%{x}<br>Dim2=%{y}<br>PointLabel=%{text}<extra></extra>",
         "legendgroup": "r10",
         "marker": {
          "color": "#B6E880",
          "symbol": "circle"
         },
         "mode": "markers+text",
         "name": "r10",
         "orientation": "v",
         "showlegend": true,
         "text": [
          "rcimpR",
          "rnormR",
          "rcoR",
          "rdisR"
         ],
         "textposition": "top center",
         "type": "scatter",
         "x": [
          -46.781394958496094,
          -27.355920791625977,
          13.39558219909668,
          18.678136825561523
         ],
         "xaxis": "x",
         "y": [
          -25.955184936523438,
          18.234079360961914,
          -32.85321807861328,
          19.836498260498047
         ],
         "yaxis": "y"
        },
        {
         "hovertemplate": "Label=r11<br>Dim1=%{x}<br>Dim2=%{y}<br>PointLabel=%{text}<extra></extra>",
         "legendgroup": "r11",
         "marker": {
          "color": "#FF97FF",
          "symbol": "circle"
         },
         "mode": "markers+text",
         "name": "r11",
         "orientation": "v",
         "showlegend": true,
         "text": [
          "rcimpR",
          "rnormR",
          "rcoR",
          "rdisR"
         ],
         "textposition": "top center",
         "type": "scatter",
         "x": [
          -46.781394958496094,
          -27.355920791625977,
          9.075603485107422,
          18.678136825561523
         ],
         "xaxis": "x",
         "y": [
          -25.955184936523438,
          18.234079360961914,
          -31.1390380859375,
          19.836498260498047
         ],
         "yaxis": "y"
        },
        {
         "hovertemplate": "Label=r12<br>Dim1=%{x}<br>Dim2=%{y}<br>PointLabel=%{text}<extra></extra>",
         "legendgroup": "r12",
         "marker": {
          "color": "#FECB52",
          "symbol": "circle"
         },
         "mode": "markers+text",
         "name": "r12",
         "orientation": "v",
         "showlegend": true,
         "text": [
          "rcimpR",
          "rnormR",
          "rcoR",
          "rdisR"
         ],
         "textposition": "top center",
         "type": "scatter",
         "x": [
          -46.781394958496094,
          -13.783564567565918,
          23.60566520690918,
          10.431901931762695
         ],
         "xaxis": "x",
         "y": [
          -25.955184936523438,
          15.739896774291992,
          -23.192197799682617,
          32.897987365722656
         ],
         "yaxis": "y"
        },
        {
         "hovertemplate": "Label=r13<br>Dim1=%{x}<br>Dim2=%{y}<br>PointLabel=%{text}<extra></extra>",
         "legendgroup": "r13",
         "marker": {
          "color": "#636efa",
          "symbol": "circle"
         },
         "mode": "markers+text",
         "name": "r13",
         "orientation": "v",
         "showlegend": true,
         "text": [
          "rcimpR",
          "rnormR",
          "rcoR",
          "rdisR"
         ],
         "textposition": "top center",
         "type": "scatter",
         "x": [
          -46.781394958496094,
          -26.87879180908203,
          7.745732307434082,
          20.227983474731445
         ],
         "xaxis": "x",
         "y": [
          -25.955184936523438,
          16.338794708251953,
          -30.343551635742188,
          20.73444366455078
         ],
         "yaxis": "y"
        },
        {
         "hovertemplate": "Label=r14<br>Dim1=%{x}<br>Dim2=%{y}<br>PointLabel=%{text}<extra></extra>",
         "legendgroup": "r14",
         "marker": {
          "color": "#EF553B",
          "symbol": "circle"
         },
         "mode": "markers+text",
         "name": "r14",
         "orientation": "v",
         "showlegend": true,
         "text": [
          "rcimpR",
          "rnormR",
          "rcoR",
          "rdisR"
         ],
         "textposition": "top center",
         "type": "scatter",
         "x": [
          -46.781394958496094,
          -2.7086598873138428,
          7.8132805824279785,
          20.24374771118164
         ],
         "xaxis": "x",
         "y": [
          -25.955184936523438,
          5.637567520141602,
          -31.364402770996094,
          23.962841033935547
         ],
         "yaxis": "y"
        },
        {
         "hovertemplate": "Label=r15<br>Dim1=%{x}<br>Dim2=%{y}<br>PointLabel=%{text}<extra></extra>",
         "legendgroup": "r15",
         "marker": {
          "color": "#00cc96",
          "symbol": "circle"
         },
         "mode": "markers+text",
         "name": "r15",
         "orientation": "v",
         "showlegend": true,
         "text": [
          "rcimpR",
          "rnormR",
          "rcoR",
          "rdisR"
         ],
         "textposition": "top center",
         "type": "scatter",
         "x": [
          -46.781394958496094,
          -2.9193613529205322,
          8.16845417022705,
          20.705528259277344
         ],
         "xaxis": "x",
         "y": [
          -25.955184936523438,
          6.32282018661499,
          -32.15455627441406,
          22.236377716064453
         ],
         "yaxis": "y"
        },
        {
         "hovertemplate": "Label=r16<br>Dim1=%{x}<br>Dim2=%{y}<br>PointLabel=%{text}<extra></extra>",
         "legendgroup": "r16",
         "marker": {
          "color": "#ab63fa",
          "symbol": "circle"
         },
         "mode": "markers+text",
         "name": "r16",
         "orientation": "v",
         "showlegend": true,
         "text": [
          "rcimpR",
          "rnormR",
          "rcoR",
          "rdisR"
         ],
         "textposition": "top center",
         "type": "scatter",
         "x": [
          -46.781394958496094,
          -5.008148670196533,
          38.1144905090332,
          4.389777183532715
         ],
         "xaxis": "x",
         "y": [
          -25.955184936523438,
          11.015405654907227,
          -9.575641632080078,
          50.14728546142578
         ],
         "yaxis": "y"
        },
        {
         "hovertemplate": "Label=r17<br>Dim1=%{x}<br>Dim2=%{y}<br>PointLabel=%{text}<extra></extra>",
         "legendgroup": "r17",
         "marker": {
          "color": "#FFA15A",
          "symbol": "circle"
         },
         "mode": "markers+text",
         "name": "r17",
         "orientation": "v",
         "showlegend": true,
         "text": [
          "rcimpR",
          "rnormR",
          "rcoR",
          "rdisR"
         ],
         "textposition": "top center",
         "type": "scatter",
         "x": [
          -46.781394958496094,
          -27.50040626525879,
          8.960192680358887,
          18.90468978881836
         ],
         "xaxis": "x",
         "y": [
          -25.955184936523438,
          22.181163787841797,
          -32.7863883972168,
          23.011629104614258
         ],
         "yaxis": "y"
        },
        {
         "hovertemplate": "Label=r18<br>Dim1=%{x}<br>Dim2=%{y}<br>PointLabel=%{text}<extra></extra>",
         "legendgroup": "r18",
         "marker": {
          "color": "#19d3f3",
          "symbol": "circle"
         },
         "mode": "markers+text",
         "name": "r18",
         "orientation": "v",
         "showlegend": true,
         "text": [
          "rcimpR",
          "rnormR",
          "rcoR",
          "rdisR"
         ],
         "textposition": "top center",
         "type": "scatter",
         "x": [
          -46.781394958496094,
          -25.48033905029297,
          8.095419883728027,
          17.305253982543945
         ],
         "xaxis": "x",
         "y": [
          -25.955184936523438,
          17.742748260498047,
          -33.0432243347168,
          20.65956687927246
         ],
         "yaxis": "y"
        },
        {
         "hovertemplate": "Label=r19<br>Dim1=%{x}<br>Dim2=%{y}<br>PointLabel=%{text}<extra></extra>",
         "legendgroup": "r19",
         "marker": {
          "color": "#FF6692",
          "symbol": "circle"
         },
         "mode": "markers+text",
         "name": "r19",
         "orientation": "v",
         "showlegend": true,
         "text": [
          "rcimpR",
          "rnormR",
          "rcoR",
          "rdisR"
         ],
         "textposition": "top center",
         "type": "scatter",
         "x": [
          -46.781394958496094,
          -28.76826286315918,
          37.57400894165039,
          5.0961689949035645
         ],
         "xaxis": "x",
         "y": [
          -25.955184936523438,
          19.72046661376953,
          -8.93895149230957,
          50.40076446533203
         ],
         "yaxis": "y"
        },
        {
         "hovertemplate": "Label=r20<br>Dim1=%{x}<br>Dim2=%{y}<br>PointLabel=%{text}<extra></extra>",
         "legendgroup": "r20",
         "marker": {
          "color": "#B6E880",
          "symbol": "circle"
         },
         "mode": "markers+text",
         "name": "r20",
         "orientation": "v",
         "showlegend": true,
         "text": [
          "rcimpR",
          "rnormR",
          "rcoR",
          "rdisR"
         ],
         "textposition": "top center",
         "type": "scatter",
         "x": [
          -46.781394958496094,
          -4.162904262542725,
          6.085885524749756,
          21.39971923828125
         ],
         "xaxis": "x",
         "y": [
          -25.955184936523438,
          6.3958420753479,
          -30.285625457763672,
          24.219867706298828
         ],
         "yaxis": "y"
        },
        {
         "hovertemplate": "Label=r21<br>Dim1=%{x}<br>Dim2=%{y}<br>PointLabel=%{text}<extra></extra>",
         "legendgroup": "r21",
         "marker": {
          "color": "#FF97FF",
          "symbol": "circle"
         },
         "mode": "markers+text",
         "name": "r21",
         "orientation": "v",
         "showlegend": true,
         "text": [
          "rcimpR",
          "rnormR",
          "rcoR",
          "rdisR"
         ],
         "textposition": "top center",
         "type": "scatter",
         "x": [
          -46.781394958496094,
          -1.1258732080459595,
          7.430657386779785,
          18.739253997802734
         ],
         "xaxis": "x",
         "y": [
          -25.955184936523438,
          6.634749889373779,
          -31.952219009399414,
          22.153696060180664
         ],
         "yaxis": "y"
        },
        {
         "hovertemplate": "Label=r22<br>Dim1=%{x}<br>Dim2=%{y}<br>PointLabel=%{text}<extra></extra>",
         "legendgroup": "r22",
         "marker": {
          "color": "#FECB52",
          "symbol": "circle"
         },
         "mode": "markers+text",
         "name": "r22",
         "orientation": "v",
         "showlegend": true,
         "text": [
          "rcimpR",
          "rnormR",
          "rcoR",
          "rdisR"
         ],
         "textposition": "top center",
         "type": "scatter",
         "x": [
          -46.781394958496094,
          -5.471756458282471,
          38.69373321533203,
          5.283603668212891
         ],
         "xaxis": "x",
         "y": [
          -25.955184936523438,
          6.639222145080566,
          -11.46933364868164,
          48.56413650512695
         ],
         "yaxis": "y"
        },
        {
         "hovertemplate": "Label=r23<br>Dim1=%{x}<br>Dim2=%{y}<br>PointLabel=%{text}<extra></extra>",
         "legendgroup": "r23",
         "marker": {
          "color": "#636efa",
          "symbol": "circle"
         },
         "mode": "markers+text",
         "name": "r23",
         "orientation": "v",
         "showlegend": true,
         "text": [
          "rcimpR",
          "rnormR",
          "rcoR",
          "rdisR"
         ],
         "textposition": "top center",
         "type": "scatter",
         "x": [
          -46.781394958496094,
          -27.355920791625977,
          16.53653335571289,
          18.678136825561523
         ],
         "xaxis": "x",
         "y": [
          -25.955184936523438,
          18.234079360961914,
          -32.32958984375,
          19.836498260498047
         ],
         "yaxis": "y"
        },
        {
         "hovertemplate": "Label=r24<br>Dim1=%{x}<br>Dim2=%{y}<br>PointLabel=%{text}<extra></extra>",
         "legendgroup": "r24",
         "marker": {
          "color": "#EF553B",
          "symbol": "circle"
         },
         "mode": "markers+text",
         "name": "r24",
         "orientation": "v",
         "showlegend": true,
         "text": [
          "rcimpR",
          "rnormR",
          "rcoR",
          "rdisR"
         ],
         "textposition": "top center",
         "type": "scatter",
         "x": [
          -46.781394958496094,
          -2.8652331829071045,
          7.222480773925781,
          19.901552200317383
         ],
         "xaxis": "x",
         "y": [
          -25.955184936523438,
          7.450976371765137,
          -32.75544738769531,
          22.3526554107666
         ],
         "yaxis": "y"
        },
        {
         "hovertemplate": "Label=r25<br>Dim1=%{x}<br>Dim2=%{y}<br>PointLabel=%{text}<extra></extra>",
         "legendgroup": "r25",
         "marker": {
          "color": "#00cc96",
          "symbol": "circle"
         },
         "mode": "markers+text",
         "name": "r25",
         "orientation": "v",
         "showlegend": true,
         "text": [
          "rcimpR",
          "rnormR",
          "rcoR",
          "rdisR"
         ],
         "textposition": "top center",
         "type": "scatter",
         "x": [
          -46.781394958496094,
          -27.355920791625977,
          21.04578971862793,
          18.678136825561523
         ],
         "xaxis": "x",
         "y": [
          -25.955184936523438,
          18.234079360961914,
          -25.37458610534668,
          19.836498260498047
         ],
         "yaxis": "y"
        },
        {
         "hovertemplate": "Label=r26<br>Dim1=%{x}<br>Dim2=%{y}<br>PointLabel=%{text}<extra></extra>",
         "legendgroup": "r26",
         "marker": {
          "color": "#ab63fa",
          "symbol": "circle"
         },
         "mode": "markers+text",
         "name": "r26",
         "orientation": "v",
         "showlegend": true,
         "text": [
          "rcimpR",
          "rnormR",
          "rcoR",
          "rdisR"
         ],
         "textposition": "top center",
         "type": "scatter",
         "x": [
          -46.781394958496094,
          -4.888579368591309,
          32.63178253173828,
          5.283603668212891
         ],
         "xaxis": "x",
         "y": [
          -25.955184936523438,
          4.937060356140137,
          -12.485928535461426,
          48.56413650512695
         ],
         "yaxis": "y"
        },
        {
         "hovertemplate": "Label=r27<br>Dim1=%{x}<br>Dim2=%{y}<br>PointLabel=%{text}<extra></extra>",
         "legendgroup": "r27",
         "marker": {
          "color": "#FFA15A",
          "symbol": "circle"
         },
         "mode": "markers+text",
         "name": "r27",
         "orientation": "v",
         "showlegend": true,
         "text": [
          "rcimpR",
          "rnormR",
          "rcoR",
          "rdisR"
         ],
         "textposition": "top center",
         "type": "scatter",
         "x": [
          -46.781394958496094,
          -8.267875671386719,
          36.97840881347656,
          8.60718059539795
         ],
         "xaxis": "x",
         "y": [
          -25.955184936523438,
          15.974854469299316,
          -11.994879722595215,
          48.946353912353516
         ],
         "yaxis": "y"
        },
        {
         "hovertemplate": "Label=r28<br>Dim1=%{x}<br>Dim2=%{y}<br>PointLabel=%{text}<extra></extra>",
         "legendgroup": "r28",
         "marker": {
          "color": "#19d3f3",
          "symbol": "circle"
         },
         "mode": "markers+text",
         "name": "r28",
         "orientation": "v",
         "showlegend": true,
         "text": [
          "rcimpR",
          "rnormR",
          "rcoR",
          "rdisR"
         ],
         "textposition": "top center",
         "type": "scatter",
         "x": [
          -46.781394958496094,
          -3.434264659881592,
          36.85254669189453,
          3.490396738052368
         ],
         "xaxis": "x",
         "y": [
          -25.955184936523438,
          5.011081695556641,
          -8.583678245544434,
          48.942474365234375
         ],
         "yaxis": "y"
        },
        {
         "hovertemplate": "Label=r29<br>Dim1=%{x}<br>Dim2=%{y}<br>PointLabel=%{text}<extra></extra>",
         "legendgroup": "r29",
         "marker": {
          "color": "#FF6692",
          "symbol": "circle"
         },
         "mode": "markers+text",
         "name": "r29",
         "orientation": "v",
         "showlegend": true,
         "text": [
          "rcimpR",
          "rnormR",
          "rcoR",
          "rdisR"
         ],
         "textposition": "top center",
         "type": "scatter",
         "x": [
          -46.781394958496094,
          -6.3096232414245605,
          32.21855163574219,
          5.283603668212891
         ],
         "xaxis": "x",
         "y": [
          -25.955184936523438,
          5.164844989776611,
          -15.933460235595703,
          48.56413650512695
         ],
         "yaxis": "y"
        },
        {
         "hovertemplate": "Label=r30<br>Dim1=%{x}<br>Dim2=%{y}<br>PointLabel=%{text}<extra></extra>",
         "legendgroup": "r30",
         "marker": {
          "color": "#B6E880",
          "symbol": "circle"
         },
         "mode": "markers+text",
         "name": "r30",
         "orientation": "v",
         "showlegend": true,
         "text": [
          "rcimpR",
          "rnormR",
          "rcoR",
          "rdisR"
         ],
         "textposition": "top center",
         "type": "scatter",
         "x": [
          -46.781394958496094,
          -5.026916980743408,
          32.395790100097656,
          5.283603668212891
         ],
         "xaxis": "x",
         "y": [
          -25.955184936523438,
          7.630295276641846,
          -14.870628356933594,
          48.56413650512695
         ],
         "yaxis": "y"
        },
        {
         "hovertemplate": "Label=r31<br>Dim1=%{x}<br>Dim2=%{y}<br>PointLabel=%{text}<extra></extra>",
         "legendgroup": "r31",
         "marker": {
          "color": "#FF97FF",
          "symbol": "circle"
         },
         "mode": "markers+text",
         "name": "r31",
         "orientation": "v",
         "showlegend": true,
         "text": [
          "rcimpR",
          "rnormR",
          "rcoR",
          "rdisR"
         ],
         "textposition": "top center",
         "type": "scatter",
         "x": [
          -46.781394958496094,
          -14.060173988342285,
          24.648218154907227,
          10.928034782409668
         ],
         "xaxis": "x",
         "y": [
          -25.955184936523438,
          14.02802562713623,
          -25.74152946472168,
          32.30300521850586
         ],
         "yaxis": "y"
        },
        {
         "hovertemplate": "Label=r32<br>Dim1=%{x}<br>Dim2=%{y}<br>PointLabel=%{text}<extra></extra>",
         "legendgroup": "r32",
         "marker": {
          "color": "#FECB52",
          "symbol": "circle"
         },
         "mode": "markers+text",
         "name": "r32",
         "orientation": "v",
         "showlegend": true,
         "text": [
          "rcimpR",
          "rnormR",
          "rcoR",
          "rdisR"
         ],
         "textposition": "top center",
         "type": "scatter",
         "x": [
          -46.781394958496094,
          -26.87879180908203,
          20.986528396606445,
          20.227983474731445
         ],
         "xaxis": "x",
         "y": [
          -25.955184936523438,
          16.338794708251953,
          -24.75172233581543,
          20.73444366455078
         ],
         "yaxis": "y"
        },
        {
         "hovertemplate": "Label=r33<br>Dim1=%{x}<br>Dim2=%{y}<br>PointLabel=%{text}<extra></extra>",
         "legendgroup": "r33",
         "marker": {
          "color": "#636efa",
          "symbol": "circle"
         },
         "mode": "markers+text",
         "name": "r33",
         "orientation": "v",
         "showlegend": true,
         "text": [
          "rcimpR",
          "rnormR",
          "rcoR",
          "rdisR"
         ],
         "textposition": "top center",
         "type": "scatter",
         "x": [
          -46.781394958496094,
          -27.39130401611328,
          7.159505367279053,
          19.31700325012207
         ],
         "xaxis": "x",
         "y": [
          -25.955184936523438,
          20.154808044433594,
          -31.08609390258789,
          22.013282775878906
         ],
         "yaxis": "y"
        },
        {
         "hovertemplate": "Label=r34<br>Dim1=%{x}<br>Dim2=%{y}<br>PointLabel=%{text}<extra></extra>",
         "legendgroup": "r34",
         "marker": {
          "color": "#EF553B",
          "symbol": "circle"
         },
         "mode": "markers+text",
         "name": "r34",
         "orientation": "v",
         "showlegend": true,
         "text": [
          "rcimpR",
          "rnormR",
          "rcoR",
          "rdisR"
         ],
         "textposition": "top center",
         "type": "scatter",
         "x": [
          -46.781394958496094,
          -26.87879180908203,
          20.986528396606445,
          20.227983474731445
         ],
         "xaxis": "x",
         "y": [
          -25.955184936523438,
          16.338794708251953,
          -24.75172233581543,
          20.73444366455078
         ],
         "yaxis": "y"
        },
        {
         "hovertemplate": "Label=r35<br>Dim1=%{x}<br>Dim2=%{y}<br>PointLabel=%{text}<extra></extra>",
         "legendgroup": "r35",
         "marker": {
          "color": "#00cc96",
          "symbol": "circle"
         },
         "mode": "markers+text",
         "name": "r35",
         "orientation": "v",
         "showlegend": true,
         "text": [
          "rcimpR",
          "rnormR",
          "rcoR",
          "rdisR"
         ],
         "textposition": "top center",
         "type": "scatter",
         "x": [
          -46.781394958496094,
          -4.162904262542725,
          37.36655807495117,
          3.800281047821045
         ],
         "xaxis": "x",
         "y": [
          -25.955184936523438,
          6.3958420753479,
          -9.926470756530762,
          49.64876174926758
         ],
         "yaxis": "y"
        },
        {
         "hovertemplate": "Label=r36<br>Dim1=%{x}<br>Dim2=%{y}<br>PointLabel=%{text}<extra></extra>",
         "legendgroup": "r36",
         "marker": {
          "color": "#ab63fa",
          "symbol": "circle"
         },
         "mode": "markers+text",
         "name": "r36",
         "orientation": "v",
         "showlegend": true,
         "text": [
          "rcimpR",
          "rnormR",
          "rcoR",
          "rdisR"
         ],
         "textposition": "top center",
         "type": "scatter",
         "x": [
          -46.781394958496094,
          -27.355920791625977,
          36.63475036621094,
          7.158773422241211
         ],
         "xaxis": "x",
         "y": [
          -25.955184936523438,
          18.234079360961914,
          -10.884570121765137,
          49.70592498779297
         ],
         "yaxis": "y"
        },
        {
         "hovertemplate": "Label=r37<br>Dim1=%{x}<br>Dim2=%{y}<br>PointLabel=%{text}<extra></extra>",
         "legendgroup": "r37",
         "marker": {
          "color": "#FFA15A",
          "symbol": "circle"
         },
         "mode": "markers+text",
         "name": "r37",
         "orientation": "v",
         "showlegend": true,
         "text": [
          "rcimpR",
          "rnormR",
          "rcoR",
          "rdisR"
         ],
         "textposition": "top center",
         "type": "scatter",
         "x": [
          -46.781394958496094,
          -27.355920791625977,
          16.07953643798828,
          20.824949264526367
         ],
         "xaxis": "x",
         "y": [
          -25.955184936523438,
          18.234079360961914,
          -31.52751922607422,
          19.38129997253418
         ],
         "yaxis": "y"
        },
        {
         "hovertemplate": "Label=r38<br>Dim1=%{x}<br>Dim2=%{y}<br>PointLabel=%{text}<extra></extra>",
         "legendgroup": "r38",
         "marker": {
          "color": "#19d3f3",
          "symbol": "circle"
         },
         "mode": "markers+text",
         "name": "r38",
         "orientation": "v",
         "showlegend": true,
         "text": [
          "rcimpR",
          "rnormR",
          "rcoR",
          "rdisR"
         ],
         "textposition": "top center",
         "type": "scatter",
         "x": [
          -46.781394958496094,
          -12.262499809265137,
          24.648218154907227,
          10.942402839660645
         ],
         "xaxis": "x",
         "y": [
          -25.955184936523438,
          14.72083568572998,
          -25.74152946472168,
          34.173973083496094
         ],
         "yaxis": "y"
        },
        {
         "hovertemplate": "Label=r39<br>Dim1=%{x}<br>Dim2=%{y}<br>PointLabel=%{text}<extra></extra>",
         "legendgroup": "r39",
         "marker": {
          "color": "#FF6692",
          "symbol": "circle"
         },
         "mode": "markers+text",
         "name": "r39",
         "orientation": "v",
         "showlegend": true,
         "text": [
          "rcimpR",
          "rnormR",
          "rcoR",
          "rdisR"
         ],
         "textposition": "top center",
         "type": "scatter",
         "x": [
          -46.781394958496094,
          -20.87955665588379,
          15.665090560913086,
          20.227983474731445
         ],
         "xaxis": "x",
         "y": [
          -25.955184936523438,
          15.625588417053223,
          -32.01205062866211,
          20.73444366455078
         ],
         "yaxis": "y"
        },
        {
         "hovertemplate": "Label=r40<br>Dim1=%{x}<br>Dim2=%{y}<br>PointLabel=%{text}<extra></extra>",
         "legendgroup": "r40",
         "marker": {
          "color": "#B6E880",
          "symbol": "circle"
         },
         "mode": "markers+text",
         "name": "r40",
         "orientation": "v",
         "showlegend": true,
         "text": [
          "rcimpR",
          "rnormR",
          "rcoR",
          "rdisR"
         ],
         "textposition": "top center",
         "type": "scatter",
         "x": [
          -46.781394958496094,
          -5.026916980743408,
          33.3480224609375,
          5.283603668212891
         ],
         "xaxis": "x",
         "y": [
          -25.955184936523438,
          7.630295276641846,
          -14.893579483032227,
          48.56413650512695
         ],
         "yaxis": "y"
        },
        {
         "hovertemplate": "Label=r41<br>Dim1=%{x}<br>Dim2=%{y}<br>PointLabel=%{text}<extra></extra>",
         "legendgroup": "r41",
         "marker": {
          "color": "#FF97FF",
          "symbol": "circle"
         },
         "mode": "markers+text",
         "name": "r41",
         "orientation": "v",
         "showlegend": true,
         "text": [
          "rcimpR",
          "rnormR",
          "rcoR",
          "rdisR"
         ],
         "textposition": "top center",
         "type": "scatter",
         "x": [
          -38.381282806396484,
          -25.48482894897461,
          8.048744201660156,
          14.123366355895996
         ],
         "xaxis": "x",
         "y": [
          -28.050283432006836,
          18.7542724609375,
          -28.603290557861328,
          26.752975463867188
         ],
         "yaxis": "y"
        },
        {
         "hovertemplate": "Label=r42<br>Dim1=%{x}<br>Dim2=%{y}<br>PointLabel=%{text}<extra></extra>",
         "legendgroup": "r42",
         "marker": {
          "color": "#FECB52",
          "symbol": "circle"
         },
         "mode": "markers+text",
         "name": "r42",
         "orientation": "v",
         "showlegend": true,
         "text": [
          "rcimpR",
          "rnormR",
          "rcoR",
          "rdisR"
         ],
         "textposition": "top center",
         "type": "scatter",
         "x": [
          -46.781394958496094,
          -4.162904262542725,
          32.97142791748047,
          5.283603668212891
         ],
         "xaxis": "x",
         "y": [
          -25.955184936523438,
          6.3958420753479,
          -12.904794692993164,
          48.56413650512695
         ],
         "yaxis": "y"
        },
        {
         "hovertemplate": "Label=r43<br>Dim1=%{x}<br>Dim2=%{y}<br>PointLabel=%{text}<extra></extra>",
         "legendgroup": "r43",
         "marker": {
          "color": "#636efa",
          "symbol": "circle"
         },
         "mode": "markers+text",
         "name": "r43",
         "orientation": "v",
         "showlegend": true,
         "text": [
          "rcimpR",
          "rnormR",
          "rcoR",
          "rdisR"
         ],
         "textposition": "top center",
         "type": "scatter",
         "x": [
          -46.781394958496094,
          -27.355920791625977,
          7.745732307434082,
          20.227983474731445
         ],
         "xaxis": "x",
         "y": [
          -25.955184936523438,
          18.234079360961914,
          -30.343551635742188,
          20.73444366455078
         ],
         "yaxis": "y"
        },
        {
         "hovertemplate": "Label=r44<br>Dim1=%{x}<br>Dim2=%{y}<br>PointLabel=%{text}<extra></extra>",
         "legendgroup": "r44",
         "marker": {
          "color": "#EF553B",
          "symbol": "circle"
         },
         "mode": "markers+text",
         "name": "r44",
         "orientation": "v",
         "showlegend": true,
         "text": [
          "rcimpR",
          "rnormR",
          "rcoR",
          "rdisR"
         ],
         "textposition": "top center",
         "type": "scatter",
         "x": [
          -46.781394958496094,
          -6.442071437835693,
          32.436859130859375,
          5.283603668212891
         ],
         "xaxis": "x",
         "y": [
          -25.955184936523438,
          6.547600269317627,
          -12.862418174743652,
          48.56413650512695
         ],
         "yaxis": "y"
        },
        {
         "hovertemplate": "Label=r45<br>Dim1=%{x}<br>Dim2=%{y}<br>PointLabel=%{text}<extra></extra>",
         "legendgroup": "r45",
         "marker": {
          "color": "#00cc96",
          "symbol": "circle"
         },
         "mode": "markers+text",
         "name": "r45",
         "orientation": "v",
         "showlegend": true,
         "text": [
          "rcimpR",
          "rnormR",
          "rcoR",
          "rdisR"
         ],
         "textposition": "top center",
         "type": "scatter",
         "x": [
          -46.781394958496094,
          -27.355920791625977,
          8.590880393981934,
          17.595298767089844
         ],
         "xaxis": "x",
         "y": [
          -25.955184936523438,
          18.234079360961914,
          -30.343297958374023,
          21.30714988708496
         ],
         "yaxis": "y"
        },
        {
         "hovertemplate": "Label=r46<br>Dim1=%{x}<br>Dim2=%{y}<br>PointLabel=%{text}<extra></extra>",
         "legendgroup": "r46",
         "marker": {
          "color": "#ab63fa",
          "symbol": "circle"
         },
         "mode": "markers+text",
         "name": "r46",
         "orientation": "v",
         "showlegend": true,
         "text": [
          "rcimpR",
          "rnormR",
          "rcoR",
          "rdisR"
         ],
         "textposition": "top center",
         "type": "scatter",
         "x": [
          -52.358524322509766,
          -3.9633142948150635,
          33.09683609008789,
          5.283603668212891
         ],
         "xaxis": "x",
         "y": [
          -13.540705680847168,
          4.030245780944824,
          -15.343490600585938,
          48.56413650512695
         ],
         "yaxis": "y"
        },
        {
         "hovertemplate": "Label=r47<br>Dim1=%{x}<br>Dim2=%{y}<br>PointLabel=%{text}<extra></extra>",
         "legendgroup": "r47",
         "marker": {
          "color": "#FFA15A",
          "symbol": "circle"
         },
         "mode": "markers+text",
         "name": "r47",
         "orientation": "v",
         "showlegend": true,
         "text": [
          "rcimpR",
          "rnormR",
          "rcoR",
          "rdisR"
         ],
         "textposition": "top center",
         "type": "scatter",
         "x": [
          -46.781394958496094,
          -27.355920791625977,
          36.348270416259766,
          3.7360124588012695
         ],
         "xaxis": "x",
         "y": [
          -25.955184936523438,
          18.234079360961914,
          -10.071107864379883,
          47.5719108581543
         ],
         "yaxis": "y"
        },
        {
         "hovertemplate": "Label=r48<br>Dim1=%{x}<br>Dim2=%{y}<br>PointLabel=%{text}<extra></extra>",
         "legendgroup": "r48",
         "marker": {
          "color": "#19d3f3",
          "symbol": "circle"
         },
         "mode": "markers+text",
         "name": "r48",
         "orientation": "v",
         "showlegend": true,
         "text": [
          "rcimpR",
          "rnormR",
          "rcoR",
          "rdisR"
         ],
         "textposition": "top center",
         "type": "scatter",
         "x": [
          -46.781394958496094,
          -26.87879180908203,
          16.53653335571289,
          18.678136825561523
         ],
         "xaxis": "x",
         "y": [
          -25.955184936523438,
          16.338794708251953,
          -32.32958984375,
          19.836498260498047
         ],
         "yaxis": "y"
        },
        {
         "hovertemplate": "Label=r49<br>Dim1=%{x}<br>Dim2=%{y}<br>PointLabel=%{text}<extra></extra>",
         "legendgroup": "r49",
         "marker": {
          "color": "#FF6692",
          "symbol": "circle"
         },
         "mode": "markers+text",
         "name": "r49",
         "orientation": "v",
         "showlegend": true,
         "text": [
          "rcimpR",
          "rnormR",
          "rcoR",
          "rdisR"
         ],
         "textposition": "top center",
         "type": "scatter",
         "x": [
          -46.781394958496094,
          -4.162904262542725,
          36.77762985229492,
          24.176483154296875
         ],
         "xaxis": "x",
         "y": [
          -25.955184936523438,
          6.3958420753479,
          -9.501336097717285,
          24.080860137939453
         ],
         "yaxis": "y"
        },
        {
         "hovertemplate": "Label=r50<br>Dim1=%{x}<br>Dim2=%{y}<br>PointLabel=%{text}<extra></extra>",
         "legendgroup": "r50",
         "marker": {
          "color": "#B6E880",
          "symbol": "circle"
         },
         "mode": "markers+text",
         "name": "r50",
         "orientation": "v",
         "showlegend": true,
         "text": [
          "rcimpR",
          "rnormR",
          "rcoR",
          "rdisR"
         ],
         "textposition": "top center",
         "type": "scatter",
         "x": [
          -46.781394958496094,
          -4.888579368591309,
          37.952178955078125,
          5.283603668212891
         ],
         "xaxis": "x",
         "y": [
          -25.955184936523438,
          4.937060356140137,
          -10.692112922668457,
          48.56413650512695
         ],
         "yaxis": "y"
        },
        {
         "hovertemplate": "Label=r51<br>Dim1=%{x}<br>Dim2=%{y}<br>PointLabel=%{text}<extra></extra>",
         "legendgroup": "r51",
         "marker": {
          "color": "#FF97FF",
          "symbol": "circle"
         },
         "mode": "markers+text",
         "name": "r51",
         "orientation": "v",
         "showlegend": true,
         "text": [
          "rcimpR",
          "rnormR",
          "rcoR",
          "rdisR"
         ],
         "textposition": "top center",
         "type": "scatter",
         "x": [
          -46.781394958496094,
          -6.3096232414245605,
          38.10537338256836,
          6.122025012969971
         ],
         "xaxis": "x",
         "y": [
          -25.955184936523438,
          5.164844989776611,
          -12.344707489013672,
          50.099708557128906
         ],
         "yaxis": "y"
        },
        {
         "hovertemplate": "Label=r52<br>Dim1=%{x}<br>Dim2=%{y}<br>PointLabel=%{text}<extra></extra>",
         "legendgroup": "r52",
         "marker": {
          "color": "#FECB52",
          "symbol": "circle"
         },
         "mode": "markers+text",
         "name": "r52",
         "orientation": "v",
         "showlegend": true,
         "text": [
          "rcimpR",
          "rnormR",
          "rcoR",
          "rdisR"
         ],
         "textposition": "top center",
         "type": "scatter",
         "x": [
          -46.781394958496094,
          -4.888579368591309,
          28.73403549194336,
          5.283603668212891
         ],
         "xaxis": "x",
         "y": [
          -25.955184936523438,
          4.937060356140137,
          -20.38980484008789,
          48.56413650512695
         ],
         "yaxis": "y"
        },
        {
         "hovertemplate": "Label=r53<br>Dim1=%{x}<br>Dim2=%{y}<br>PointLabel=%{text}<extra></extra>",
         "legendgroup": "r53",
         "marker": {
          "color": "#636efa",
          "symbol": "circle"
         },
         "mode": "markers+text",
         "name": "r53",
         "orientation": "v",
         "showlegend": true,
         "text": [
          "rcimpR",
          "rnormR",
          "rcoR",
          "rdisR"
         ],
         "textposition": "top center",
         "type": "scatter",
         "x": [
          -46.781394958496094,
          -4.888579368591309,
          29.072500228881836,
          5.283603668212891
         ],
         "xaxis": "x",
         "y": [
          -25.955184936523438,
          4.937060356140137,
          -20.996490478515625,
          48.56413650512695
         ],
         "yaxis": "y"
        },
        {
         "hovertemplate": "Label=r54<br>Dim1=%{x}<br>Dim2=%{y}<br>PointLabel=%{text}<extra></extra>",
         "legendgroup": "r54",
         "marker": {
          "color": "#EF553B",
          "symbol": "circle"
         },
         "mode": "markers+text",
         "name": "r54",
         "orientation": "v",
         "showlegend": true,
         "text": [
          "rcimpR",
          "rnormR",
          "rcoR",
          "rdisR"
         ],
         "textposition": "top center",
         "type": "scatter",
         "x": [
          -46.781394958496094,
          -25.63582420349121,
          8.819798469543457,
          4.7054123878479
         ],
         "xaxis": "x",
         "y": [
          -25.955184936523438,
          16.973957061767578,
          -29.686203002929688,
          43.00613784790039
         ],
         "yaxis": "y"
        },
        {
         "hovertemplate": "Label=r55<br>Dim1=%{x}<br>Dim2=%{y}<br>PointLabel=%{text}<extra></extra>",
         "legendgroup": "r55",
         "marker": {
          "color": "#00cc96",
          "symbol": "circle"
         },
         "mode": "markers+text",
         "name": "r55",
         "orientation": "v",
         "showlegend": true,
         "text": [
          "rcimpR",
          "rnormR",
          "rcoR",
          "rdisR"
         ],
         "textposition": "top center",
         "type": "scatter",
         "x": [
          -46.781394958496094,
          -27.355920791625977,
          32.80348587036133,
          5.283603668212891
         ],
         "xaxis": "x",
         "y": [
          -25.955184936523438,
          18.234079360961914,
          -14.645160675048828,
          48.56413650512695
         ],
         "yaxis": "y"
        },
        {
         "hovertemplate": "Label=r56<br>Dim1=%{x}<br>Dim2=%{y}<br>PointLabel=%{text}<extra></extra>",
         "legendgroup": "r56",
         "marker": {
          "color": "#ab63fa",
          "symbol": "circle"
         },
         "mode": "markers+text",
         "name": "r56",
         "orientation": "v",
         "showlegend": true,
         "text": [
          "rcimpR",
          "rnormR",
          "rcoR",
          "rdisR"
         ],
         "textposition": "top center",
         "type": "scatter",
         "x": [
          -56.090213775634766,
          -27.355920791625977,
          13.696544647216797,
          18.678136825561523
         ],
         "xaxis": "x",
         "y": [
          -28.99193572998047,
          18.234079360961914,
          -32.46403121948242,
          19.836498260498047
         ],
         "yaxis": "y"
        },
        {
         "hovertemplate": "Label=r57<br>Dim1=%{x}<br>Dim2=%{y}<br>PointLabel=%{text}<extra></extra>",
         "legendgroup": "r57",
         "marker": {
          "color": "#FFA15A",
          "symbol": "circle"
         },
         "mode": "markers+text",
         "name": "r57",
         "orientation": "v",
         "showlegend": true,
         "text": [
          "rcimpR",
          "rnormR",
          "rcoR",
          "rdisR"
         ],
         "textposition": "top center",
         "type": "scatter",
         "x": [
          -56.732887268066406,
          -4.888579368591309,
          37.84370422363281,
          5.283603668212891
         ],
         "xaxis": "x",
         "y": [
          -19.84392547607422,
          4.937060356140137,
          -11.529438972473145,
          48.56413650512695
         ],
         "yaxis": "y"
        },
        {
         "hovertemplate": "Label=r58<br>Dim1=%{x}<br>Dim2=%{y}<br>PointLabel=%{text}<extra></extra>",
         "legendgroup": "r58",
         "marker": {
          "color": "#19d3f3",
          "symbol": "circle"
         },
         "mode": "markers+text",
         "name": "r58",
         "orientation": "v",
         "showlegend": true,
         "text": [
          "rcimpR",
          "rnormR",
          "rcoR",
          "rdisR"
         ],
         "textposition": "top center",
         "type": "scatter",
         "x": [
          -56.732887268066406,
          -28.130754470825195,
          6.301970958709717,
          18.05671501159668
         ],
         "xaxis": "x",
         "y": [
          -19.84392547607422,
          20.50470542907715,
          -29.40969467163086,
          23.001602172851562
         ],
         "yaxis": "y"
        },
        {
         "hovertemplate": "Label=r59<br>Dim1=%{x}<br>Dim2=%{y}<br>PointLabel=%{text}<extra></extra>",
         "legendgroup": "r59",
         "marker": {
          "color": "#FF6692",
          "symbol": "circle"
         },
         "mode": "markers+text",
         "name": "r59",
         "orientation": "v",
         "showlegend": true,
         "text": [
          "rcimpR",
          "rnormR",
          "rcoR",
          "rdisR"
         ],
         "textposition": "top center",
         "type": "scatter",
         "x": [
          -56.732887268066406,
          -1.486258625984192,
          6.551486968994141,
          17.374879837036133
         ],
         "xaxis": "x",
         "y": [
          -19.84392547607422,
          7.375743389129639,
          -31.176937103271484,
          22.04149055480957
         ],
         "yaxis": "y"
        },
        {
         "hovertemplate": "Label=r60<br>Dim1=%{x}<br>Dim2=%{y}<br>PointLabel=%{text}<extra></extra>",
         "legendgroup": "r60",
         "marker": {
          "color": "#B6E880",
          "symbol": "circle"
         },
         "mode": "markers+text",
         "name": "r60",
         "orientation": "v",
         "showlegend": true,
         "text": [
          "rcimpR",
          "rnormR",
          "rcoR",
          "rdisR"
         ],
         "textposition": "top center",
         "type": "scatter",
         "x": [
          -56.732887268066406,
          -5.026916980743408,
          15.93884563446045,
          19.86897087097168
         ],
         "xaxis": "x",
         "y": [
          -19.84392547607422,
          7.630295276641846,
          -32.807369232177734,
          19.006515502929688
         ],
         "yaxis": "y"
        },
        {
         "hovertemplate": "Label=r61<br>Dim1=%{x}<br>Dim2=%{y}<br>PointLabel=%{text}<extra></extra>",
         "legendgroup": "r61",
         "marker": {
          "color": "#FF97FF",
          "symbol": "circle"
         },
         "mode": "markers+text",
         "name": "r61",
         "orientation": "v",
         "showlegend": true,
         "text": [
          "rcimpR",
          "rnormR",
          "rcoR",
          "rdisR"
         ],
         "textposition": "top center",
         "type": "scatter",
         "x": [
          -56.732887268066406,
          -27.355920791625977,
          9.859298706054688,
          16.856910705566406
         ],
         "xaxis": "x",
         "y": [
          -19.84392547607422,
          18.234079360961914,
          -31.426067352294922,
          23.389057159423828
         ],
         "yaxis": "y"
        },
        {
         "hovertemplate": "Label=r62<br>Dim1=%{x}<br>Dim2=%{y}<br>PointLabel=%{text}<extra></extra>",
         "legendgroup": "r62",
         "marker": {
          "color": "#FECB52",
          "symbol": "circle"
         },
         "mode": "markers+text",
         "name": "r62",
         "orientation": "v",
         "showlegend": true,
         "text": [
          "rcimpR",
          "rnormR",
          "rcoR",
          "rdisR"
         ],
         "textposition": "top center",
         "type": "scatter",
         "x": [
          -56.732887268066406,
          -21.5878849029541,
          15.665090560913086,
          3.3090178966522217
         ],
         "xaxis": "x",
         "y": [
          -19.84392547607422,
          14.846152305603027,
          -32.01205062866211,
          41.52761459350586
         ],
         "yaxis": "y"
        },
        {
         "hovertemplate": "Label=r63<br>Dim1=%{x}<br>Dim2=%{y}<br>PointLabel=%{text}<extra></extra>",
         "legendgroup": "r63",
         "marker": {
          "color": "#636efa",
          "symbol": "circle"
         },
         "mode": "markers+text",
         "name": "r63",
         "orientation": "v",
         "showlegend": true,
         "text": [
          "rcimpR",
          "rnormR",
          "rcoR",
          "rdisR"
         ],
         "textposition": "top center",
         "type": "scatter",
         "x": [
          -46.781394958496094,
          -6.3096232414245605,
          28.425724029541016,
          6.122025012969971
         ],
         "xaxis": "x",
         "y": [
          -25.955184936523438,
          5.164844989776611,
          -21.137496948242188,
          50.099708557128906
         ],
         "yaxis": "y"
        },
        {
         "hovertemplate": "Label=r64<br>Dim1=%{x}<br>Dim2=%{y}<br>PointLabel=%{text}<extra></extra>",
         "legendgroup": "r64",
         "marker": {
          "color": "#EF553B",
          "symbol": "circle"
         },
         "mode": "markers+text",
         "name": "r64",
         "orientation": "v",
         "showlegend": true,
         "text": [
          "rcimpR",
          "rnormR",
          "rcoR",
          "rdisR"
         ],
         "textposition": "top center",
         "type": "scatter",
         "x": [
          -46.781394958496094,
          -6.442071437835693,
          28.288516998291016,
          6.490353584289551
         ],
         "xaxis": "x",
         "y": [
          -25.955184936523438,
          6.547600269317627,
          -20.567115783691406,
          44.183719635009766
         ],
         "yaxis": "y"
        },
        {
         "hovertemplate": "Label=r65<br>Dim1=%{x}<br>Dim2=%{y}<br>PointLabel=%{text}<extra></extra>",
         "legendgroup": "r65",
         "marker": {
          "color": "#00cc96",
          "symbol": "circle"
         },
         "mode": "markers+text",
         "name": "r65",
         "orientation": "v",
         "showlegend": true,
         "text": [
          "rcimpR",
          "rnormR",
          "rcoR",
          "rdisR"
         ],
         "textposition": "top center",
         "type": "scatter",
         "x": [
          -46.781394958496094,
          -13.148239135742188,
          23.972013473510742,
          10.780653953552246
         ],
         "xaxis": "x",
         "y": [
          -25.955184936523438,
          15.918025016784668,
          -24.908105850219727,
          33.358795166015625
         ],
         "yaxis": "y"
        },
        {
         "hovertemplate": "Label=r66<br>Dim1=%{x}<br>Dim2=%{y}<br>PointLabel=%{text}<extra></extra>",
         "legendgroup": "r66",
         "marker": {
          "color": "#ab63fa",
          "symbol": "circle"
         },
         "mode": "markers+text",
         "name": "r66",
         "orientation": "v",
         "showlegend": true,
         "text": [
          "rcimpR",
          "rnormR",
          "rcoR",
          "rdisR"
         ],
         "textposition": "top center",
         "type": "scatter",
         "x": [
          -46.781394958496094,
          -25.48482894897461,
          36.362709045410156,
          1.016136646270752
         ],
         "xaxis": "x",
         "y": [
          -25.955184936523438,
          18.7542724609375,
          -11.602931022644043,
          45.729942321777344
         ],
         "yaxis": "y"
        },
        {
         "hovertemplate": "Label=r67<br>Dim1=%{x}<br>Dim2=%{y}<br>PointLabel=%{text}<extra></extra>",
         "legendgroup": "r67",
         "marker": {
          "color": "#FFA15A",
          "symbol": "circle"
         },
         "mode": "markers+text",
         "name": "r67",
         "orientation": "v",
         "showlegend": true,
         "text": [
          "rcimpR",
          "rnormR",
          "rcoR",
          "rdisR"
         ],
         "textposition": "top center",
         "type": "scatter",
         "x": [
          -46.781394958496094,
          -26.633113861083984,
          6.646356582641602,
          18.892423629760742
         ],
         "xaxis": "x",
         "y": [
          -25.955184936523438,
          20.13998031616211,
          -32.031280517578125,
          21.315210342407227
         ],
         "yaxis": "y"
        },
        {
         "hovertemplate": "Label=r68<br>Dim1=%{x}<br>Dim2=%{y}<br>PointLabel=%{text}<extra></extra>",
         "legendgroup": "r68",
         "marker": {
          "color": "#19d3f3",
          "symbol": "circle"
         },
         "mode": "markers+text",
         "name": "r68",
         "orientation": "v",
         "showlegend": true,
         "text": [
          "rcimpR",
          "rnormR",
          "rcoR",
          "rdisR"
         ],
         "textposition": "top center",
         "type": "scatter",
         "x": [
          -46.781394958496094,
          -4.010265350341797,
          37.17608642578125,
          3.480956792831421
         ],
         "xaxis": "x",
         "y": [
          -25.955184936523438,
          7.8220930099487305,
          -10.503715515136719,
          48.2364387512207
         ],
         "yaxis": "y"
        },
        {
         "hovertemplate": "Label=r69<br>Dim1=%{x}<br>Dim2=%{y}<br>PointLabel=%{text}<extra></extra>",
         "legendgroup": "r69",
         "marker": {
          "color": "#FF6692",
          "symbol": "circle"
         },
         "mode": "markers+text",
         "name": "r69",
         "orientation": "v",
         "showlegend": true,
         "text": [
          "rcimpR",
          "rnormR",
          "rcoR",
          "rdisR"
         ],
         "textposition": "top center",
         "type": "scatter",
         "x": [
          -46.781394958496094,
          -8.277079582214355,
          36.00149917602539,
          7.280102252960205
         ],
         "xaxis": "x",
         "y": [
          -25.955184936523438,
          16.513694763183594,
          -10.584866523742676,
          48.20722961425781
         ],
         "yaxis": "y"
        },
        {
         "hovertemplate": "Label=r70<br>Dim1=%{x}<br>Dim2=%{y}<br>PointLabel=%{text}<extra></extra>",
         "legendgroup": "r70",
         "marker": {
          "color": "#B6E880",
          "symbol": "circle"
         },
         "mode": "markers+text",
         "name": "r70",
         "orientation": "v",
         "showlegend": true,
         "text": [
          "rcimpR",
          "rnormR",
          "rcoR",
          "rdisR"
         ],
         "textposition": "top center",
         "type": "scatter",
         "x": [
          -46.781394958496094,
          -7.538780689239502,
          34.45501708984375,
          9.300355911254883
         ],
         "xaxis": "x",
         "y": [
          -25.955184936523438,
          16.0277099609375,
          -10.598506927490234,
          48.635311126708984
         ],
         "yaxis": "y"
        },
        {
         "hovertemplate": "Label=r71<br>Dim1=%{x}<br>Dim2=%{y}<br>PointLabel=%{text}<extra></extra>",
         "legendgroup": "r71",
         "marker": {
          "color": "#FF97FF",
          "symbol": "circle"
         },
         "mode": "markers+text",
         "name": "r71",
         "orientation": "v",
         "showlegend": true,
         "text": [
          "rcimpR",
          "rnormR",
          "rcoR",
          "rdisR"
         ],
         "textposition": "top center",
         "type": "scatter",
         "x": [
          -46.781394958496094,
          -8.189776420593262,
          36.44268035888672,
          8.732847213745117
         ],
         "xaxis": "x",
         "y": [
          -25.955184936523438,
          15.418533325195312,
          -12.815470695495605,
          45.77279281616211
         ],
         "yaxis": "y"
        },
        {
         "hovertemplate": "Label=r72<br>Dim1=%{x}<br>Dim2=%{y}<br>PointLabel=%{text}<extra></extra>",
         "legendgroup": "r72",
         "marker": {
          "color": "#FECB52",
          "symbol": "circle"
         },
         "mode": "markers+text",
         "name": "r72",
         "orientation": "v",
         "showlegend": true,
         "text": [
          "rcimpR",
          "rnormR",
          "rcoR",
          "rdisR"
         ],
         "textposition": "top center",
         "type": "scatter",
         "x": [
          -46.781394958496094,
          -26.026443481445312,
          8.367318153381348,
          14.123044967651367
         ],
         "xaxis": "x",
         "y": [
          -25.955184936523438,
          19.70537757873535,
          -31.10300064086914,
          26.753192901611328
         ],
         "yaxis": "y"
        },
        {
         "hovertemplate": "Label=r73<br>Dim1=%{x}<br>Dim2=%{y}<br>PointLabel=%{text}<extra></extra>",
         "legendgroup": "r73",
         "marker": {
          "color": "#636efa",
          "symbol": "circle"
         },
         "mode": "markers+text",
         "name": "r73",
         "orientation": "v",
         "showlegend": true,
         "text": [
          "rcimpR",
          "rnormR",
          "rcoR",
          "rdisR"
         ],
         "textposition": "top center",
         "type": "scatter",
         "x": [
          -46.781394958496094,
          -21.079370498657227,
          35.36969757080078,
          5.42768669128418
         ],
         "xaxis": "x",
         "y": [
          -25.955184936523438,
          19.20370864868164,
          -9.940340995788574,
          46.73373031616211
         ],
         "yaxis": "y"
        },
        {
         "hovertemplate": "Label=r74<br>Dim1=%{x}<br>Dim2=%{y}<br>PointLabel=%{text}<extra></extra>",
         "legendgroup": "r74",
         "marker": {
          "color": "#EF553B",
          "symbol": "circle"
         },
         "mode": "markers+text",
         "name": "r74",
         "orientation": "v",
         "showlegend": true,
         "text": [
          "rcimpR",
          "rnormR",
          "rcoR",
          "rdisR"
         ],
         "textposition": "top center",
         "type": "scatter",
         "x": [
          -46.781394958496094,
          -16.692283630371094,
          10.069920539855957,
          18.7268123626709
         ],
         "xaxis": "x",
         "y": [
          -25.955184936523438,
          15.300797462463379,
          -30.583580017089844,
          25.988536834716797
         ],
         "yaxis": "y"
        },
        {
         "hovertemplate": "Label=r75<br>Dim1=%{x}<br>Dim2=%{y}<br>PointLabel=%{text}<extra></extra>",
         "legendgroup": "r75",
         "marker": {
          "color": "#00cc96",
          "symbol": "circle"
         },
         "mode": "markers+text",
         "name": "r75",
         "orientation": "v",
         "showlegend": true,
         "text": [
          "rcimpR",
          "rnormR",
          "rcoR",
          "rdisR"
         ],
         "textposition": "top center",
         "type": "scatter",
         "x": [
          -46.781394958496094,
          -26.503435134887695,
          7.112308979034424,
          17.604862213134766
         ],
         "xaxis": "x",
         "y": [
          -25.955184936523438,
          22.444942474365234,
          -28.76779556274414,
          25.292057037353516
         ],
         "yaxis": "y"
        },
        {
         "hovertemplate": "Label=r76<br>Dim1=%{x}<br>Dim2=%{y}<br>PointLabel=%{text}<extra></extra>",
         "legendgroup": "r76",
         "marker": {
          "color": "#ab63fa",
          "symbol": "circle"
         },
         "mode": "markers+text",
         "name": "r76",
         "orientation": "v",
         "showlegend": true,
         "text": [
          "rcimpR",
          "rnormR",
          "rcoR",
          "rdisR"
         ],
         "textposition": "top center",
         "type": "scatter",
         "x": [
          -46.781394958496094,
          -13.427921295166016,
          24.217052459716797,
          8.76158332824707
         ],
         "xaxis": "x",
         "y": [
          -25.955184936523438,
          14.578544616699219,
          -22.74109649658203,
          32.28986358642578
         ],
         "yaxis": "y"
        },
        {
         "hovertemplate": "Label=r77<br>Dim1=%{x}<br>Dim2=%{y}<br>PointLabel=%{text}<extra></extra>",
         "legendgroup": "r77",
         "marker": {
          "color": "#FFA15A",
          "symbol": "circle"
         },
         "mode": "markers+text",
         "name": "r77",
         "orientation": "v",
         "showlegend": true,
         "text": [
          "rcimpR",
          "rnormR",
          "rcoR",
          "rdisR"
         ],
         "textposition": "top center",
         "type": "scatter",
         "x": [
          -46.781394958496094,
          -6.809235095977783,
          37.214874267578125,
          7.045745849609375
         ],
         "xaxis": "x",
         "y": [
          -25.955184936523438,
          16.38536834716797,
          -11.310969352722168,
          48.91025161743164
         ],
         "yaxis": "y"
        },
        {
         "hovertemplate": "Label=r78<br>Dim1=%{x}<br>Dim2=%{y}<br>PointLabel=%{text}<extra></extra>",
         "legendgroup": "r78",
         "marker": {
          "color": "#19d3f3",
          "symbol": "circle"
         },
         "mode": "markers+text",
         "name": "r78",
         "orientation": "v",
         "showlegend": true,
         "text": [
          "rcimpR",
          "rnormR",
          "rcoR",
          "rdisR"
         ],
         "textposition": "top center",
         "type": "scatter",
         "x": [
          -46.781394958496094,
          -1.2898918390274048,
          35.51670455932617,
          25.43489646911621
         ],
         "xaxis": "x",
         "y": [
          -25.955184936523438,
          8.285852432250977,
          -13.758545875549316,
          23.3103084564209
         ],
         "yaxis": "y"
        },
        {
         "hovertemplate": "Label=r79<br>Dim1=%{x}<br>Dim2=%{y}<br>PointLabel=%{text}<extra></extra>",
         "legendgroup": "r79",
         "marker": {
          "color": "#FF6692",
          "symbol": "circle"
         },
         "mode": "markers+text",
         "name": "r79",
         "orientation": "v",
         "showlegend": true,
         "text": [
          "rcimpR",
          "rnormR",
          "rcoR",
          "rdisR"
         ],
         "textposition": "top center",
         "type": "scatter",
         "x": [
          -46.781394958496094,
          -12.023134231567383,
          24.81015968322754,
          9.215136528015137
         ],
         "xaxis": "x",
         "y": [
          -25.955184936523438,
          16.042011260986328,
          -24.037307739257812,
          31.700834274291992
         ],
         "yaxis": "y"
        },
        {
         "hovertemplate": "Label=r80<br>Dim1=%{x}<br>Dim2=%{y}<br>PointLabel=%{text}<extra></extra>",
         "legendgroup": "r80",
         "marker": {
          "color": "#B6E880",
          "symbol": "circle"
         },
         "mode": "markers+text",
         "name": "r80",
         "orientation": "v",
         "showlegend": true,
         "text": [
          "rcimpR",
          "rnormR",
          "rcoR",
          "rdisR"
         ],
         "textposition": "top center",
         "type": "scatter",
         "x": [
          -56.732887268066406,
          -13.0302095413208,
          23.972013473510742,
          9.825268745422363
         ],
         "xaxis": "x",
         "y": [
          -19.84392547607422,
          15.05882453918457,
          -24.908105850219727,
          33.96763229370117
         ],
         "yaxis": "y"
        },
        {
         "hovertemplate": "Label=r81<br>Dim1=%{x}<br>Dim2=%{y}<br>PointLabel=%{text}<extra></extra>",
         "legendgroup": "r81",
         "marker": {
          "color": "#FF97FF",
          "symbol": "circle"
         },
         "mode": "markers+text",
         "name": "r81",
         "orientation": "v",
         "showlegend": true,
         "text": [
          "rcimpR",
          "rnormR",
          "rcoR",
          "rdisR"
         ],
         "textposition": "top center",
         "type": "scatter",
         "x": [
          -46.781394958496094,
          -13.270804405212402,
          24.81015968322754,
          11.499753952026367
         ],
         "xaxis": "x",
         "y": [
          -25.955184936523438,
          13.782135963439941,
          -24.037307739257812,
          32.66916275024414
         ],
         "yaxis": "y"
        },
        {
         "hovertemplate": "Label=r82<br>Dim1=%{x}<br>Dim2=%{y}<br>PointLabel=%{text}<extra></extra>",
         "legendgroup": "r82",
         "marker": {
          "color": "#FECB52",
          "symbol": "circle"
         },
         "mode": "markers+text",
         "name": "r82",
         "orientation": "v",
         "showlegend": true,
         "text": [
          "rcimpR",
          "rnormR",
          "rcoR",
          "rdisR"
         ],
         "textposition": "top center",
         "type": "scatter",
         "x": [
          -46.781394958496094,
          -2.8652331829071045,
          7.232306957244873,
          18.930917739868164
         ],
         "xaxis": "x",
         "y": [
          -25.955184936523438,
          7.450976371765137,
          -29.537540435791016,
          24.494855880737305
         ],
         "yaxis": "y"
        },
        {
         "hovertemplate": "Label=r83<br>Dim1=%{x}<br>Dim2=%{y}<br>PointLabel=%{text}<extra></extra>",
         "legendgroup": "r83",
         "marker": {
          "color": "#636efa",
          "symbol": "circle"
         },
         "mode": "markers+text",
         "name": "r83",
         "orientation": "v",
         "showlegend": true,
         "text": [
          "rcimpR",
          "rnormR",
          "rcoR",
          "rdisR"
         ],
         "textposition": "top center",
         "type": "scatter",
         "x": [
          -46.781394958496094,
          -7.781225681304932,
          34.771629333496094,
          8.800495147705078
         ],
         "xaxis": "x",
         "y": [
          -25.955184936523438,
          16.855051040649414,
          -11.359955787658691,
          47.923057556152344
         ],
         "yaxis": "y"
        },
        {
         "hovertemplate": "Label=r84<br>Dim1=%{x}<br>Dim2=%{y}<br>PointLabel=%{text}<extra></extra>",
         "legendgroup": "r84",
         "marker": {
          "color": "#EF553B",
          "symbol": "circle"
         },
         "mode": "markers+text",
         "name": "r84",
         "orientation": "v",
         "showlegend": true,
         "text": [
          "rcimpR",
          "rnormR",
          "rcoR",
          "rdisR"
         ],
         "textposition": "top center",
         "type": "scatter",
         "x": [
          -46.781394958496094,
          -11.830477714538574,
          23.67192840576172,
          9.825268745422363
         ],
         "xaxis": "x",
         "y": [
          -25.955184936523438,
          15.300572395324707,
          -23.87933349609375,
          33.96763229370117
         ],
         "yaxis": "y"
        },
        {
         "hovertemplate": "Label=r85<br>Dim1=%{x}<br>Dim2=%{y}<br>PointLabel=%{text}<extra></extra>",
         "legendgroup": "r85",
         "marker": {
          "color": "#00cc96",
          "symbol": "circle"
         },
         "mode": "markers+text",
         "name": "r85",
         "orientation": "v",
         "showlegend": true,
         "text": [
          "rcimpR",
          "rnormR",
          "rcoR",
          "rdisR"
         ],
         "textposition": "top center",
         "type": "scatter",
         "x": [
          -46.781394958496094,
          -7.077474594116211,
          35.86142349243164,
          9.355337142944336
         ],
         "xaxis": "x",
         "y": [
          -25.955184936523438,
          15.330249786376953,
          -12.321955680847168,
          45.922874450683594
         ],
         "yaxis": "y"
        },
        {
         "hovertemplate": "Label=r86<br>Dim1=%{x}<br>Dim2=%{y}<br>PointLabel=%{text}<extra></extra>",
         "legendgroup": "r86",
         "marker": {
          "color": "#ab63fa",
          "symbol": "circle"
         },
         "mode": "markers+text",
         "name": "r86",
         "orientation": "v",
         "showlegend": true,
         "text": [
          "rcimpR",
          "rnormR",
          "rcoR",
          "rdisR"
         ],
         "textposition": "top center",
         "type": "scatter",
         "x": [
          -46.781394958496094,
          -3.2336838245391846,
          34.52955627441406,
          4.220709800720215
         ],
         "xaxis": "x",
         "y": [
          -25.955184936523438,
          8.332125663757324,
          -9.727900505065918,
          47.097923278808594
         ],
         "yaxis": "y"
        },
        {
         "hovertemplate": "Label=r87<br>Dim1=%{x}<br>Dim2=%{y}<br>PointLabel=%{text}<extra></extra>",
         "legendgroup": "r87",
         "marker": {
          "color": "#FFA15A",
          "symbol": "circle"
         },
         "mode": "markers+text",
         "name": "r87",
         "orientation": "v",
         "showlegend": true,
         "text": [
          "rcimpR",
          "rnormR",
          "rcoR",
          "rdisR"
         ],
         "textposition": "top center",
         "type": "scatter",
         "x": [
          -46.781394958496094,
          -13.286802291870117,
          24.81015968322754,
          9.622507095336914
         ],
         "xaxis": "x",
         "y": [
          -25.955184936523438,
          16.779008865356445,
          -24.037307739257812,
          32.41224670410156
         ],
         "yaxis": "y"
        },
        {
         "hovertemplate": "Label=r88<br>Dim1=%{x}<br>Dim2=%{y}<br>PointLabel=%{text}<extra></extra>",
         "legendgroup": "r88",
         "marker": {
          "color": "#19d3f3",
          "symbol": "circle"
         },
         "mode": "markers+text",
         "name": "r88",
         "orientation": "v",
         "showlegend": true,
         "text": [
          "rcimpR",
          "rnormR",
          "rcoR",
          "rdisR"
         ],
         "textposition": "top center",
         "type": "scatter",
         "x": [
          -46.781394958496094,
          -12.630486488342285,
          25.923784255981445,
          9.807077407836914
         ],
         "xaxis": "x",
         "y": [
          -25.955184936523438,
          14.188064575195312,
          -24.121047973632812,
          32.90874481201172
         ],
         "yaxis": "y"
        },
        {
         "hovertemplate": "Label=r89<br>Dim1=%{x}<br>Dim2=%{y}<br>PointLabel=%{text}<extra></extra>",
         "legendgroup": "r89",
         "marker": {
          "color": "#FF6692",
          "symbol": "circle"
         },
         "mode": "markers+text",
         "name": "r89",
         "orientation": "v",
         "showlegend": true,
         "text": [
          "rcimpR",
          "rnormR",
          "rcoR",
          "rdisR"
         ],
         "textposition": "top center",
         "type": "scatter",
         "x": [
          -46.781394958496094,
          -24.411540985107422,
          8.076728820800781,
          18.098989486694336
         ],
         "xaxis": "x",
         "y": [
          -25.955184936523438,
          21.320161819458008,
          -29.437084197998047,
          22.288373947143555
         ],
         "yaxis": "y"
        },
        {
         "hovertemplate": "Label=r90<br>Dim1=%{x}<br>Dim2=%{y}<br>PointLabel=%{text}<extra></extra>",
         "legendgroup": "r90",
         "marker": {
          "color": "#B6E880",
          "symbol": "circle"
         },
         "mode": "markers+text",
         "name": "r90",
         "orientation": "v",
         "showlegend": true,
         "text": [
          "rcimpR",
          "rnormR",
          "rcoR",
          "rdisR"
         ],
         "textposition": "top center",
         "type": "scatter",
         "x": [
          -46.781394958496094,
          -14.43757438659668,
          24.87575340270996,
          10.339384078979492
         ],
         "xaxis": "x",
         "y": [
          -25.955184936523438,
          14.700103759765625,
          -22.843055725097656,
          32.10284423828125
         ],
         "yaxis": "y"
        },
        {
         "hovertemplate": "Label=r91<br>Dim1=%{x}<br>Dim2=%{y}<br>PointLabel=%{text}<extra></extra>",
         "legendgroup": "r91",
         "marker": {
          "color": "#FF97FF",
          "symbol": "circle"
         },
         "mode": "markers+text",
         "name": "r91",
         "orientation": "v",
         "showlegend": true,
         "text": [
          "rcimpR",
          "rnormR",
          "rcoR",
          "rdisR"
         ],
         "textposition": "top center",
         "type": "scatter",
         "x": [
          -46.781394958496094,
          -13.835394859313965,
          25.70003318786621,
          11.498942375183105
         ],
         "xaxis": "x",
         "y": [
          -25.955184936523438,
          15.131325721740723,
          -25.182722091674805,
          33.45167541503906
         ],
         "yaxis": "y"
        },
        {
         "hovertemplate": "Label=r92<br>Dim1=%{x}<br>Dim2=%{y}<br>PointLabel=%{text}<extra></extra>",
         "legendgroup": "r92",
         "marker": {
          "color": "#FECB52",
          "symbol": "circle"
         },
         "mode": "markers+text",
         "name": "r92",
         "orientation": "v",
         "showlegend": true,
         "text": [
          "rcimpR",
          "rnormR",
          "rcoR",
          "rdisR"
         ],
         "textposition": "top center",
         "type": "scatter",
         "x": [
          -46.781394958496094,
          -26.128089904785156,
          9.292778968811035,
          17.273225784301758
         ],
         "xaxis": "x",
         "y": [
          -25.955184936523438,
          21.929048538208008,
          -30.398761749267578,
          24.751602172851562
         ],
         "yaxis": "y"
        },
        {
         "hovertemplate": "Label=r93<br>Dim1=%{x}<br>Dim2=%{y}<br>PointLabel=%{text}<extra></extra>",
         "legendgroup": "r93",
         "marker": {
          "color": "#636efa",
          "symbol": "circle"
         },
         "mode": "markers+text",
         "name": "r93",
         "orientation": "v",
         "showlegend": true,
         "text": [
          "rcimpR",
          "rnormR",
          "rcoR",
          "rdisR"
         ],
         "textposition": "top center",
         "type": "scatter",
         "x": [
          -58.23189926147461,
          -27.355920791625977,
          35.96631622314453,
          4.814426898956299
         ],
         "xaxis": "x",
         "y": [
          -25.15653419494629,
          18.234079360961914,
          -8.547642707824707,
          46.79561996459961
         ],
         "yaxis": "y"
        },
        {
         "hovertemplate": "Label=r94<br>Dim1=%{x}<br>Dim2=%{y}<br>PointLabel=%{text}<extra></extra>",
         "legendgroup": "r94",
         "marker": {
          "color": "#EF553B",
          "symbol": "circle"
         },
         "mode": "markers+text",
         "name": "r94",
         "orientation": "v",
         "showlegend": true,
         "text": [
          "rcimpR",
          "rnormR",
          "rcoR",
          "rdisR"
         ],
         "textposition": "top center",
         "type": "scatter",
         "x": [
          -58.23189926147461,
          -16.962337493896484,
          9.735675811767578,
          19.74657440185547
         ],
         "xaxis": "x",
         "y": [
          -25.15653419494629,
          15.44281005859375,
          -29.49409294128418,
          26.20151138305664
         ],
         "yaxis": "y"
        },
        {
         "hovertemplate": "Label=r95<br>Dim1=%{x}<br>Dim2=%{y}<br>PointLabel=%{text}<extra></extra>",
         "legendgroup": "r95",
         "marker": {
          "color": "#00cc96",
          "symbol": "circle"
         },
         "mode": "markers+text",
         "name": "r95",
         "orientation": "v",
         "showlegend": true,
         "text": [
          "rcimpR",
          "rnormR",
          "rcoR",
          "rdisR"
         ],
         "textposition": "top center",
         "type": "scatter",
         "x": [
          -58.23189926147461,
          -7.217532634735107,
          35.7353630065918,
          9.563282012939453
         ],
         "xaxis": "x",
         "y": [
          -25.15653419494629,
          16.784883499145508,
          -11.383633613586426,
          47.64885711669922
         ],
         "yaxis": "y"
        },
        {
         "hovertemplate": "Label=r96<br>Dim1=%{x}<br>Dim2=%{y}<br>PointLabel=%{text}<extra></extra>",
         "legendgroup": "r96",
         "marker": {
          "color": "#ab63fa",
          "symbol": "circle"
         },
         "mode": "markers+text",
         "name": "r96",
         "orientation": "v",
         "showlegend": true,
         "text": [
          "rcimpR",
          "rnormR",
          "rcoR",
          "rdisR"
         ],
         "textposition": "top center",
         "type": "scatter",
         "x": [
          -58.23189926147461,
          -20.75395965576172,
          8.779560089111328,
          18.32172203063965
         ],
         "xaxis": "x",
         "y": [
          -25.15653419494629,
          15.140264511108398,
          -31.813650131225586,
          21.209312438964844
         ],
         "yaxis": "y"
        },
        {
         "hovertemplate": "Label=r97<br>Dim1=%{x}<br>Dim2=%{y}<br>PointLabel=%{text}<extra></extra>",
         "legendgroup": "r97",
         "marker": {
          "color": "#FFA15A",
          "symbol": "circle"
         },
         "mode": "markers+text",
         "name": "r97",
         "orientation": "v",
         "showlegend": true,
         "text": [
          "rcimpR",
          "rnormR",
          "rcoR",
          "rdisR"
         ],
         "textposition": "top center",
         "type": "scatter",
         "x": [
          -52.358306884765625,
          -12.644659042358398,
          25.70003318786621,
          9.825268745422363
         ],
         "xaxis": "x",
         "y": [
          -13.540703773498535,
          15.527313232421875,
          -25.182722091674805,
          33.96763229370117
         ],
         "yaxis": "y"
        },
        {
         "hovertemplate": "Label=r98<br>Dim1=%{x}<br>Dim2=%{y}<br>PointLabel=%{text}<extra></extra>",
         "legendgroup": "r98",
         "marker": {
          "color": "#19d3f3",
          "symbol": "circle"
         },
         "mode": "markers+text",
         "name": "r98",
         "orientation": "v",
         "showlegend": true,
         "text": [
          "rcimpR",
          "rnormR",
          "rcoR",
          "rdisR"
         ],
         "textposition": "top center",
         "type": "scatter",
         "x": [
          -56.090213775634766,
          -16.85260581970215,
          12.378150939941406,
          20.67659568786621
         ],
         "xaxis": "x",
         "y": [
          -28.99193572998047,
          15.867344856262207,
          -29.46574592590332,
          26.21607208251953
         ],
         "yaxis": "y"
        },
        {
         "hovertemplate": "Label=r99<br>Dim1=%{x}<br>Dim2=%{y}<br>PointLabel=%{text}<extra></extra>",
         "legendgroup": "r99",
         "marker": {
          "color": "#FF6692",
          "symbol": "circle"
         },
         "mode": "markers+text",
         "name": "r99",
         "orientation": "v",
         "showlegend": true,
         "text": [
          "rcimpR",
          "rnormR",
          "rcoR",
          "rdisR"
         ],
         "textposition": "top center",
         "type": "scatter",
         "x": [
          -56.090213775634766,
          -6.75140380859375,
          37.32246017456055,
          9.282271385192871
         ],
         "xaxis": "x",
         "y": [
          -28.99193572998047,
          15.809752464294434,
          -12.774682998657227,
          45.340965270996094
         ],
         "yaxis": "y"
        },
        {
         "hovertemplate": "Label=r100<br>Dim1=%{x}<br>Dim2=%{y}<br>PointLabel=%{text}<extra></extra>",
         "legendgroup": "r100",
         "marker": {
          "color": "#B6E880",
          "symbol": "circle"
         },
         "mode": "markers+text",
         "name": "r100",
         "orientation": "v",
         "showlegend": true,
         "text": [
          "rcimpR",
          "rnormR",
          "rcoR",
          "rdisR"
         ],
         "textposition": "top center",
         "type": "scatter",
         "x": [
          -38.38130569458008,
          -12.537644386291504,
          25.70003318786621,
          8.853351593017578
         ],
         "xaxis": "x",
         "y": [
          -28.050302505493164,
          16.554872512817383,
          -25.182722091674805,
          33.241851806640625
         ],
         "yaxis": "y"
        },
        {
         "hovertemplate": "Label=r101<br>Dim1=%{x}<br>Dim2=%{y}<br>PointLabel=%{text}<extra></extra>",
         "legendgroup": "r101",
         "marker": {
          "color": "#FF97FF",
          "symbol": "circle"
         },
         "mode": "markers+text",
         "name": "r101",
         "orientation": "v",
         "showlegend": true,
         "text": [
          "rcimpR",
          "rnormR",
          "rcoR",
          "rdisR"
         ],
         "textposition": "top center",
         "type": "scatter",
         "x": [
          -56.732887268066406,
          -25.07124900817871,
          35.11152267456055,
          6.550252437591553
         ],
         "xaxis": "x",
         "y": [
          -19.84392547607422,
          22.162944793701172,
          -9.007064819335938,
          47.14503860473633
         ],
         "yaxis": "y"
        },
        {
         "hovertemplate": "Label=r102<br>Dim1=%{x}<br>Dim2=%{y}<br>PointLabel=%{text}<extra></extra>",
         "legendgroup": "r102",
         "marker": {
          "color": "#FECB52",
          "symbol": "circle"
         },
         "mode": "markers+text",
         "name": "r102",
         "orientation": "v",
         "showlegend": true,
         "text": [
          "rcimpR",
          "rnormR",
          "rcoR",
          "rdisR"
         ],
         "textposition": "top center",
         "type": "scatter",
         "x": [
          -56.732887268066406,
          -21.723388671875,
          13.465828895568848,
          3.3090178966522217
         ],
         "xaxis": "x",
         "y": [
          -19.84392547607422,
          15.332995414733887,
          -32.17797088623047,
          41.52761459350586
         ],
         "yaxis": "y"
        },
        {
         "hovertemplate": "Label=r103<br>Dim1=%{x}<br>Dim2=%{y}<br>PointLabel=%{text}<extra></extra>",
         "legendgroup": "r103",
         "marker": {
          "color": "#636efa",
          "symbol": "circle"
         },
         "mode": "markers+text",
         "name": "r103",
         "orientation": "v",
         "showlegend": true,
         "text": [
          "rnormR",
          "rcoR",
          "rdisR"
         ],
         "textposition": "top center",
         "type": "scatter",
         "x": [
          -28.220664978027344,
          35.979766845703125,
          6.755172252655029
         ],
         "xaxis": "x",
         "y": [
          21.683351516723633,
          -9.4135160446167,
          47.70983123779297
         ],
         "yaxis": "y"
        },
        {
         "hovertemplate": "Label=r104<br>Dim1=%{x}<br>Dim2=%{y}<br>PointLabel=%{text}<extra></extra>",
         "legendgroup": "r104",
         "marker": {
          "color": "#EF553B",
          "symbol": "circle"
         },
         "mode": "markers+text",
         "name": "r104",
         "orientation": "v",
         "showlegend": true,
         "text": [
          "rnormR",
          "rcoR",
          "rdisR"
         ],
         "textposition": "top center",
         "type": "scatter",
         "x": [
          -7.625082969665527,
          35.123138427734375,
          8.269025802612305
         ],
         "xaxis": "x",
         "y": [
          15.212342262268066,
          -12.086477279663086,
          45.13377380371094
         ],
         "yaxis": "y"
        },
        {
         "hovertemplate": "Label=r105<br>Dim1=%{x}<br>Dim2=%{y}<br>PointLabel=%{text}<extra></extra>",
         "legendgroup": "r105",
         "marker": {
          "color": "#00cc96",
          "symbol": "circle"
         },
         "mode": "markers+text",
         "name": "r105",
         "orientation": "v",
         "showlegend": true,
         "text": [
          "rnormR",
          "rcoR",
          "rdisR"
         ],
         "textposition": "top center",
         "type": "scatter",
         "x": [
          -4.162904262542725,
          8.923982620239258,
          19.65483856201172
         ],
         "xaxis": "x",
         "y": [
          6.3958420753479,
          -28.841930389404297,
          23.20066261291504
         ],
         "yaxis": "y"
        },
        {
         "hovertemplate": "Label=r106<br>Dim1=%{x}<br>Dim2=%{y}<br>PointLabel=%{text}<extra></extra>",
         "legendgroup": "r106",
         "marker": {
          "color": "#ab63fa",
          "symbol": "circle"
         },
         "mode": "markers+text",
         "name": "r106",
         "orientation": "v",
         "showlegend": true,
         "text": [
          "rnormR",
          "rcoR",
          "rdisR"
         ],
         "textposition": "top center",
         "type": "scatter",
         "x": [
          -21.086759567260742,
          17.389005661010742,
          2.3716955184936523
         ],
         "xaxis": "x",
         "y": [
          14.760749816894531,
          -30.977298736572266,
          42.75039291381836
         ],
         "yaxis": "y"
        },
        {
         "hovertemplate": "Label=r107<br>Dim1=%{x}<br>Dim2=%{y}<br>PointLabel=%{text}<extra></extra>",
         "legendgroup": "r107",
         "marker": {
          "color": "#FFA15A",
          "symbol": "circle"
         },
         "mode": "markers+text",
         "name": "r107",
         "orientation": "v",
         "showlegend": true,
         "text": [
          "rnormR",
          "rcoR",
          "rdisR"
         ],
         "textposition": "top center",
         "type": "scatter",
         "x": [
          -28.504844665527344,
          17.389005661010742,
          20.227983474731445
         ],
         "xaxis": "x",
         "y": [
          16.7061710357666,
          -30.977298736572266,
          20.73444366455078
         ],
         "yaxis": "y"
        }
       ],
       "layout": {
        "legend": {
         "title": {
          "text": "Label"
         },
         "tracegroupgap": 0
        },
        "template": {
         "data": {
          "bar": [
           {
            "error_x": {
             "color": "#2a3f5f"
            },
            "error_y": {
             "color": "#2a3f5f"
            },
            "marker": {
             "line": {
              "color": "#E5ECF6",
              "width": 0.5
             },
             "pattern": {
              "fillmode": "overlay",
              "size": 10,
              "solidity": 0.2
             }
            },
            "type": "bar"
           }
          ],
          "barpolar": [
           {
            "marker": {
             "line": {
              "color": "#E5ECF6",
              "width": 0.5
             },
             "pattern": {
              "fillmode": "overlay",
              "size": 10,
              "solidity": 0.2
             }
            },
            "type": "barpolar"
           }
          ],
          "carpet": [
           {
            "aaxis": {
             "endlinecolor": "#2a3f5f",
             "gridcolor": "white",
             "linecolor": "white",
             "minorgridcolor": "white",
             "startlinecolor": "#2a3f5f"
            },
            "baxis": {
             "endlinecolor": "#2a3f5f",
             "gridcolor": "white",
             "linecolor": "white",
             "minorgridcolor": "white",
             "startlinecolor": "#2a3f5f"
            },
            "type": "carpet"
           }
          ],
          "choropleth": [
           {
            "colorbar": {
             "outlinewidth": 0,
             "ticks": ""
            },
            "type": "choropleth"
           }
          ],
          "contour": [
           {
            "colorbar": {
             "outlinewidth": 0,
             "ticks": ""
            },
            "colorscale": [
             [
              0,
              "#0d0887"
             ],
             [
              0.1111111111111111,
              "#46039f"
             ],
             [
              0.2222222222222222,
              "#7201a8"
             ],
             [
              0.3333333333333333,
              "#9c179e"
             ],
             [
              0.4444444444444444,
              "#bd3786"
             ],
             [
              0.5555555555555556,
              "#d8576b"
             ],
             [
              0.6666666666666666,
              "#ed7953"
             ],
             [
              0.7777777777777778,
              "#fb9f3a"
             ],
             [
              0.8888888888888888,
              "#fdca26"
             ],
             [
              1,
              "#f0f921"
             ]
            ],
            "type": "contour"
           }
          ],
          "contourcarpet": [
           {
            "colorbar": {
             "outlinewidth": 0,
             "ticks": ""
            },
            "type": "contourcarpet"
           }
          ],
          "heatmap": [
           {
            "colorbar": {
             "outlinewidth": 0,
             "ticks": ""
            },
            "colorscale": [
             [
              0,
              "#0d0887"
             ],
             [
              0.1111111111111111,
              "#46039f"
             ],
             [
              0.2222222222222222,
              "#7201a8"
             ],
             [
              0.3333333333333333,
              "#9c179e"
             ],
             [
              0.4444444444444444,
              "#bd3786"
             ],
             [
              0.5555555555555556,
              "#d8576b"
             ],
             [
              0.6666666666666666,
              "#ed7953"
             ],
             [
              0.7777777777777778,
              "#fb9f3a"
             ],
             [
              0.8888888888888888,
              "#fdca26"
             ],
             [
              1,
              "#f0f921"
             ]
            ],
            "type": "heatmap"
           }
          ],
          "heatmapgl": [
           {
            "colorbar": {
             "outlinewidth": 0,
             "ticks": ""
            },
            "colorscale": [
             [
              0,
              "#0d0887"
             ],
             [
              0.1111111111111111,
              "#46039f"
             ],
             [
              0.2222222222222222,
              "#7201a8"
             ],
             [
              0.3333333333333333,
              "#9c179e"
             ],
             [
              0.4444444444444444,
              "#bd3786"
             ],
             [
              0.5555555555555556,
              "#d8576b"
             ],
             [
              0.6666666666666666,
              "#ed7953"
             ],
             [
              0.7777777777777778,
              "#fb9f3a"
             ],
             [
              0.8888888888888888,
              "#fdca26"
             ],
             [
              1,
              "#f0f921"
             ]
            ],
            "type": "heatmapgl"
           }
          ],
          "histogram": [
           {
            "marker": {
             "pattern": {
              "fillmode": "overlay",
              "size": 10,
              "solidity": 0.2
             }
            },
            "type": "histogram"
           }
          ],
          "histogram2d": [
           {
            "colorbar": {
             "outlinewidth": 0,
             "ticks": ""
            },
            "colorscale": [
             [
              0,
              "#0d0887"
             ],
             [
              0.1111111111111111,
              "#46039f"
             ],
             [
              0.2222222222222222,
              "#7201a8"
             ],
             [
              0.3333333333333333,
              "#9c179e"
             ],
             [
              0.4444444444444444,
              "#bd3786"
             ],
             [
              0.5555555555555556,
              "#d8576b"
             ],
             [
              0.6666666666666666,
              "#ed7953"
             ],
             [
              0.7777777777777778,
              "#fb9f3a"
             ],
             [
              0.8888888888888888,
              "#fdca26"
             ],
             [
              1,
              "#f0f921"
             ]
            ],
            "type": "histogram2d"
           }
          ],
          "histogram2dcontour": [
           {
            "colorbar": {
             "outlinewidth": 0,
             "ticks": ""
            },
            "colorscale": [
             [
              0,
              "#0d0887"
             ],
             [
              0.1111111111111111,
              "#46039f"
             ],
             [
              0.2222222222222222,
              "#7201a8"
             ],
             [
              0.3333333333333333,
              "#9c179e"
             ],
             [
              0.4444444444444444,
              "#bd3786"
             ],
             [
              0.5555555555555556,
              "#d8576b"
             ],
             [
              0.6666666666666666,
              "#ed7953"
             ],
             [
              0.7777777777777778,
              "#fb9f3a"
             ],
             [
              0.8888888888888888,
              "#fdca26"
             ],
             [
              1,
              "#f0f921"
             ]
            ],
            "type": "histogram2dcontour"
           }
          ],
          "mesh3d": [
           {
            "colorbar": {
             "outlinewidth": 0,
             "ticks": ""
            },
            "type": "mesh3d"
           }
          ],
          "parcoords": [
           {
            "line": {
             "colorbar": {
              "outlinewidth": 0,
              "ticks": ""
             }
            },
            "type": "parcoords"
           }
          ],
          "pie": [
           {
            "automargin": true,
            "type": "pie"
           }
          ],
          "scatter": [
           {
            "fillpattern": {
             "fillmode": "overlay",
             "size": 10,
             "solidity": 0.2
            },
            "type": "scatter"
           }
          ],
          "scatter3d": [
           {
            "line": {
             "colorbar": {
              "outlinewidth": 0,
              "ticks": ""
             }
            },
            "marker": {
             "colorbar": {
              "outlinewidth": 0,
              "ticks": ""
             }
            },
            "type": "scatter3d"
           }
          ],
          "scattercarpet": [
           {
            "marker": {
             "colorbar": {
              "outlinewidth": 0,
              "ticks": ""
             }
            },
            "type": "scattercarpet"
           }
          ],
          "scattergeo": [
           {
            "marker": {
             "colorbar": {
              "outlinewidth": 0,
              "ticks": ""
             }
            },
            "type": "scattergeo"
           }
          ],
          "scattergl": [
           {
            "marker": {
             "colorbar": {
              "outlinewidth": 0,
              "ticks": ""
             }
            },
            "type": "scattergl"
           }
          ],
          "scattermapbox": [
           {
            "marker": {
             "colorbar": {
              "outlinewidth": 0,
              "ticks": ""
             }
            },
            "type": "scattermapbox"
           }
          ],
          "scatterpolar": [
           {
            "marker": {
             "colorbar": {
              "outlinewidth": 0,
              "ticks": ""
             }
            },
            "type": "scatterpolar"
           }
          ],
          "scatterpolargl": [
           {
            "marker": {
             "colorbar": {
              "outlinewidth": 0,
              "ticks": ""
             }
            },
            "type": "scatterpolargl"
           }
          ],
          "scatterternary": [
           {
            "marker": {
             "colorbar": {
              "outlinewidth": 0,
              "ticks": ""
             }
            },
            "type": "scatterternary"
           }
          ],
          "surface": [
           {
            "colorbar": {
             "outlinewidth": 0,
             "ticks": ""
            },
            "colorscale": [
             [
              0,
              "#0d0887"
             ],
             [
              0.1111111111111111,
              "#46039f"
             ],
             [
              0.2222222222222222,
              "#7201a8"
             ],
             [
              0.3333333333333333,
              "#9c179e"
             ],
             [
              0.4444444444444444,
              "#bd3786"
             ],
             [
              0.5555555555555556,
              "#d8576b"
             ],
             [
              0.6666666666666666,
              "#ed7953"
             ],
             [
              0.7777777777777778,
              "#fb9f3a"
             ],
             [
              0.8888888888888888,
              "#fdca26"
             ],
             [
              1,
              "#f0f921"
             ]
            ],
            "type": "surface"
           }
          ],
          "table": [
           {
            "cells": {
             "fill": {
              "color": "#EBF0F8"
             },
             "line": {
              "color": "white"
             }
            },
            "header": {
             "fill": {
              "color": "#C8D4E3"
             },
             "line": {
              "color": "white"
             }
            },
            "type": "table"
           }
          ]
         },
         "layout": {
          "annotationdefaults": {
           "arrowcolor": "#2a3f5f",
           "arrowhead": 0,
           "arrowwidth": 1
          },
          "autotypenumbers": "strict",
          "coloraxis": {
           "colorbar": {
            "outlinewidth": 0,
            "ticks": ""
           }
          },
          "colorscale": {
           "diverging": [
            [
             0,
             "#8e0152"
            ],
            [
             0.1,
             "#c51b7d"
            ],
            [
             0.2,
             "#de77ae"
            ],
            [
             0.3,
             "#f1b6da"
            ],
            [
             0.4,
             "#fde0ef"
            ],
            [
             0.5,
             "#f7f7f7"
            ],
            [
             0.6,
             "#e6f5d0"
            ],
            [
             0.7,
             "#b8e186"
            ],
            [
             0.8,
             "#7fbc41"
            ],
            [
             0.9,
             "#4d9221"
            ],
            [
             1,
             "#276419"
            ]
           ],
           "sequential": [
            [
             0,
             "#0d0887"
            ],
            [
             0.1111111111111111,
             "#46039f"
            ],
            [
             0.2222222222222222,
             "#7201a8"
            ],
            [
             0.3333333333333333,
             "#9c179e"
            ],
            [
             0.4444444444444444,
             "#bd3786"
            ],
            [
             0.5555555555555556,
             "#d8576b"
            ],
            [
             0.6666666666666666,
             "#ed7953"
            ],
            [
             0.7777777777777778,
             "#fb9f3a"
            ],
            [
             0.8888888888888888,
             "#fdca26"
            ],
            [
             1,
             "#f0f921"
            ]
           ],
           "sequentialminus": [
            [
             0,
             "#0d0887"
            ],
            [
             0.1111111111111111,
             "#46039f"
            ],
            [
             0.2222222222222222,
             "#7201a8"
            ],
            [
             0.3333333333333333,
             "#9c179e"
            ],
            [
             0.4444444444444444,
             "#bd3786"
            ],
            [
             0.5555555555555556,
             "#d8576b"
            ],
            [
             0.6666666666666666,
             "#ed7953"
            ],
            [
             0.7777777777777778,
             "#fb9f3a"
            ],
            [
             0.8888888888888888,
             "#fdca26"
            ],
            [
             1,
             "#f0f921"
            ]
           ]
          },
          "colorway": [
           "#636efa",
           "#EF553B",
           "#00cc96",
           "#ab63fa",
           "#FFA15A",
           "#19d3f3",
           "#FF6692",
           "#B6E880",
           "#FF97FF",
           "#FECB52"
          ],
          "font": {
           "color": "#2a3f5f"
          },
          "geo": {
           "bgcolor": "white",
           "lakecolor": "white",
           "landcolor": "#E5ECF6",
           "showlakes": true,
           "showland": true,
           "subunitcolor": "white"
          },
          "hoverlabel": {
           "align": "left"
          },
          "hovermode": "closest",
          "mapbox": {
           "style": "light"
          },
          "paper_bgcolor": "white",
          "plot_bgcolor": "#E5ECF6",
          "polar": {
           "angularaxis": {
            "gridcolor": "white",
            "linecolor": "white",
            "ticks": ""
           },
           "bgcolor": "#E5ECF6",
           "radialaxis": {
            "gridcolor": "white",
            "linecolor": "white",
            "ticks": ""
           }
          },
          "scene": {
           "xaxis": {
            "backgroundcolor": "#E5ECF6",
            "gridcolor": "white",
            "gridwidth": 2,
            "linecolor": "white",
            "showbackground": true,
            "ticks": "",
            "zerolinecolor": "white"
           },
           "yaxis": {
            "backgroundcolor": "#E5ECF6",
            "gridcolor": "white",
            "gridwidth": 2,
            "linecolor": "white",
            "showbackground": true,
            "ticks": "",
            "zerolinecolor": "white"
           },
           "zaxis": {
            "backgroundcolor": "#E5ECF6",
            "gridcolor": "white",
            "gridwidth": 2,
            "linecolor": "white",
            "showbackground": true,
            "ticks": "",
            "zerolinecolor": "white"
           }
          },
          "shapedefaults": {
           "line": {
            "color": "#2a3f5f"
           }
          },
          "ternary": {
           "aaxis": {
            "gridcolor": "white",
            "linecolor": "white",
            "ticks": ""
           },
           "baxis": {
            "gridcolor": "white",
            "linecolor": "white",
            "ticks": ""
           },
           "bgcolor": "#E5ECF6",
           "caxis": {
            "gridcolor": "white",
            "linecolor": "white",
            "ticks": ""
           }
          },
          "title": {
           "x": 0.05
          },
          "xaxis": {
           "automargin": true,
           "gridcolor": "white",
           "linecolor": "white",
           "ticks": "",
           "title": {
            "standoff": 15
           },
           "zerolinecolor": "white",
           "zerolinewidth": 2
          },
          "yaxis": {
           "automargin": true,
           "gridcolor": "white",
           "linecolor": "white",
           "ticks": "",
           "title": {
            "standoff": 15
           },
           "zerolinecolor": "white",
           "zerolinewidth": 2
          }
         }
        },
        "title": {
         "text": "Combined t-SNE Visualization with Labels"
        },
        "xaxis": {
         "anchor": "y",
         "domain": [
          0,
          1
         ],
         "title": {
          "text": "Dim1"
         }
        },
        "yaxis": {
         "anchor": "x",
         "domain": [
          0,
          1
         ],
         "title": {
          "text": "Dim2"
         }
        }
       }
      }
     },
     "metadata": {},
     "output_type": "display_data"
    }
   ],
   "source": [
    "X_pc, labels_pc, point_labels_pc, c_labelarrmap, c_indexordermap = process_pc_data(data_pc)\n",
    "X_pr, labels_pr, point_labels_pr, r_labelarrmap, r_indexordermap = process_pr_data(data_pr)\n",
    "print(r_labelarrmap)\n",
    "\n",
    "X_combined = np.vstack((X_pc, X_pr))\n",
    "labels_combined = labels_pc + labels_pr\n",
    "point_labels_combined = point_labels_pc + point_labels_pr  # Combine point labels\n",
    "\n",
    "# Run t-SNE\n",
    "tsne = TSNE(n_components=2, random_state=42)\n",
    "tsne_results = tsne.fit_transform(X_combined)\n",
    "\n",
    "# Create DataFrame including point labels\n",
    "df_combined = pd.DataFrame(tsne_results, columns=['Dim1', 'Dim2'])\n",
    "df_combined['Label'] = labels_combined\n",
    "df_combined['PointLabel'] = point_labels_combined  # Add point labels to DataFrame\n",
    "\n",
    "# Visualize using Plotly with point labels\n",
    "fig = px.scatter(df_combined, x='Dim1', y='Dim2', color='Label', text='PointLabel', title='Combined t-SNE Visualization with Labels')\n",
    "fig.update_traces(textposition='top center')\n",
    "fig.show()"
   ]
  },
  {
   "cell_type": "code",
   "execution_count": 115,
   "metadata": {},
   "outputs": [
    {
     "name": "stdout",
     "output_type": "stream",
     "text": [
      "defaultdict(<class 'list'>, {0: [1, 2, 2], 1: [2, 1, 0], 2: [0, 2, 0], 3: [0, 2, 1], 4: [0, 2, 2], 5: [1, 2, 2], 6: [0, 2, 0], 7: [2, 0, 1], 8: [0, 1, 0], 9: [2, 1, 0], 10: [1, 2, 1], 11: [1, 1, 0], 12: [2, 1, 0], 13: [1, 0, 0], 14: [2, 1, 0], 15: [2, 2, 0], 16: [2, 1, 0], 17: [2, 0, 0], 18: [1, 2, 1], 19: [1, 2, 0], 20: [1, 1, 0], 21: [2, 1, 0], 22: [2, 0, 1], 23: [2, 1, 0], 24: [1, 2, 2], 25: [0, 1, 2], 26: [2, 1, 0], 27: [0, 2, 2], 28: [2, 0, 2], 29: [0, 1, 2], 30: [2, 1, 0], 31: [0, 0, 0], 32: [0, 0, 2], 33: [1, 1, 1], 34: [1, 0, 0], 35: [1, 0, 1], 36: [1, 1, 0], 37: [2, 0, 0], 38: [2, 1, 0], 39: [2, 0, 1], 40: [0, 0, 1], 41: [1, 2, 2], 42: [2, 0, 2], 43: [1, 1, 0], 44: [2, 1, 1], 45: [2, 1, 0], 46: [2, 0, 0], 47: [1, 0, 2], 48: [0, 2, 1], 49: [2, 2, 1], 50: [0, 1, 1], 51: [2, 2, 0], 52: [0, 0, 0], 53: [2, 1, 1], 54: [2, 2, 1], 55: [2, 1, 0], 56: [2, 0, 0], 57: [2, 0, 1], 58: [1, 0, 2], 59: [2, 0, 0], 60: [2, 2, 0], 61: [2, 1, 2], 62: [1, 1, 0], 63: [2, 1, 0], 64: [2, 0, 1], 65: [1, 1, 1], 66: [0, 2, 1], 67: [1, 2, 1], 68: [2, 1, 0], 69: [0, 2, 0], 70: [0, 2, 1], 71: [1, 0, 2], 72: [0, 2, 1], 73: [1, 1, 2], 74: [0, 2, 1], 75: [2, 1, 2], 76: [0, 1, 1], 77: [2, 1, 2], 78: [2, 1, 1], 79: [2, 0, 2], 80: [2, 2, 0], 81: [0, 1, 1], 82: [0, 2, 0], 83: [2, 2, 2], 84: [2, 1, 2], 85: [1, 2, 1], 86: [2, 2, 2], 87: [2, 0, 0], 88: [2, 2, 2], 89: [2, 0, 2], 90: [1, 1, 1], 91: [1, 1, 0], 92: [1, 2, 0], 93: [1, 2, 0], 94: [0, 2, 2], 95: [0, 1, 1], 96: [0, 1, 1], 97: [2, 0, 0], 98: [1, 2, 0], 99: [2, 0, 0], 100: [1, 2, 0], 101: [1, 2, 2], 102: [1, 1, 1], 103: [0, 2, 1], 104: [1, 1, 0], 105: [1, 0, 0], 106: [2, 0, 1]})\n",
      "defaultdict(<class 'list'>, {0: [1, 1, 2], 1: [0, 1, 0], 2: [2, 2, 0], 3: [1, 2, 1], 4: [2, 2, 2], 5: [1, 1, 1], 6: [1, 0, 0], 7: [1, 2, 1], 8: [1, 2, 0], 9: [2, 2, 1], 10: [1, 2, 1], 11: [1, 1, 0], 12: [1, 1, 0], 13: [0, 0, 0], 14: [2, 2, 2], 15: [0, 2, 1], 16: [2, 1, 2], 17: [2, 0, 0], 18: [1, 2, 1], 19: [1, 2, 2], 20: [1, 1, 1], 21: [2, 2, 1], 22: [1, 2, 2], 23: [2, 1, 0], 24: [1, 1, 0], 25: [1, 1, 0], 26: [2, 2, 2], 27: [2, 2, 2], 28: [2, 0, 2], 29: [0, 1, 2], 30: [0, 1, 2], 31: [0, 2, 0], 32: [2, 0, 2], 33: [1, 1, 1], 34: [1, 0, 1], 35: [1, 2, 1], 36: [0, 1, 2], 37: [2, 1, 1], 38: [2, 1, 1], 39: [2, 0, 1], 40: [0, 0, 1], 41: [0, 2, 1], 42: [2, 2, 2], 43: [1, 0, 0], 44: [0, 1, 2], 45: [0, 1, 2], 46: [1, 2, 0], 47: [0, 1, 2], 48: [2, 0, 1], 49: [1, 2, 2], 50: [0, 1, 0], 51: [0, 2, 0], 52: [0, 0, 2], 53: [2, 1, 2], 54: [0, 2, 1], 55: [2, 1, 1], 56: [0, 0, 2], 57: [0, 1, 2], 58: [2, 0, 2], 59: [2, 0, 1], 60: [2, 2, 2], 61: [1, 1, 2], 62: [0, 1, 1], 63: [2, 2, 0], 64: [1, 2, 1], 65: [1, 2, 1], 66: [0, 2, 1], 67: [1, 2, 1], 68: [2, 1, 0], 69: [0, 2, 1], 70: [0, 0, 1], 71: [0, 2, 2], 72: [2, 2, 1], 73: [1, 1, 2], 74: [1, 0, 1], 75: [2, 1, 2], 76: [1, 0, 0], 77: [2, 1, 2], 78: [2, 0, 1], 79: [2, 0, 2], 80: [2, 2, 0], 81: [0, 1, 1], 82: [0, 2, 0], 83: [2, 2, 2], 84: [2, 1, 2], 85: [1, 1, 1], 86: [2, 0, 2], 87: [2, 2, 2], 88: [2, 2, 2], 89: [2, 0, 2], 90: [1, 1, 1], 91: [1, 1, 0], 92: [0, 1, 0], 93: [1, 2, 2], 94: [0, 0, 2], 95: [2, 0, 1], 96: [2, 1, 1], 97: [2, 0, 0], 98: [1, 2, 0], 99: [2, 1, 0], 100: [1, 2, 0], 101: [1, 2, 2], 102: [1, 1, 1], 103: [0, 2, 1], 104: [1, 1, 0], 105: [0, 0, 0], 106: [1, 2, 0], 107: [0, 2, 1]})\n"
     ]
    }
   ],
   "source": [
    "print(c_indexordermap)\n",
    "print(r_indexordermap)"
   ]
  },
  {
   "cell_type": "code",
   "execution_count": 116,
   "metadata": {},
   "outputs": [
    {
     "name": "stdout",
     "output_type": "stream",
     "text": [
      "total count =  321\n",
      "bestpipelines_usc_c.json bestpipelines_usc_r.json\n",
      "[cosine_totaldist, euclid_totaldist, manhattan_totaldist, chebyshev_totaldist, canberra_totaldist]\n",
      "[205.00533450656837, 636.1036830630061, 839.0010774073471, 559.8385013898617, 522.801293865119]\n",
      "normalized\n",
      "[0.0, 0.67997041523338, 1.0, 0.5596775228486435, 0.5012588221878426]\n"
     ]
    }
   ],
   "source": [
    "\n",
    "array_of_arrays = df_combined.values.tolist()\n",
    "reversed_arrays = [row[::-1] for row in array_of_arrays]\n",
    "\n",
    "\n",
    "from sklearn.preprocessing import StandardScaler\n",
    "\n",
    "def get_dim_data(dim):\n",
    "    if dim == \"dim1\":\n",
    "        dimindex = 2\n",
    "    elif dim == \"dim2\":\n",
    "        dimindex = 3\n",
    "    \n",
    "    dimdata = []\n",
    "    for arr in reversed_arrays:\n",
    "        dimdata.append(arr[dimindex])\n",
    "\n",
    "\n",
    "    data = dimdata\n",
    "    # Reshaping the 1D array to 2D since StandardScaler expects 2D inputs\n",
    "    data_2d = np.array(data).reshape(-1, 1)\n",
    "\n",
    "    # Creating a StandardScaler object\n",
    "    scaler = StandardScaler()\n",
    "\n",
    "    # Fitting the scaler to the data and transforming it\n",
    "    normalized_data = scaler.fit_transform(data_2d)\n",
    "\n",
    "    # Flattening the 2D array back to 1D\n",
    "    normalized_data_1d = normalized_data.ravel()\n",
    "\n",
    "    normalized_data_1d.tolist() \n",
    "\n",
    "    return normalized_data_1d\n",
    "\n",
    "dim1data = get_dim_data(\"dim1\")\n",
    "dim2data = get_dim_data(\"dim2\")\n",
    "\n",
    "indexpipelinemap = {\n",
    "    \n",
    "    0 : \"pipeline.1.tf_prob_logits\" ,\n",
    "    1 : \"pipeline.2.tf_prob_logits\" ,\n",
    "    2 : \"pipeline.3.tf_prob_logits\" ,\n",
    "    \n",
    "}\n",
    "def get_featurepipelinemap(data, indexordermap):\n",
    "    featurepipelinemap = defaultdict(list)\n",
    "    for i in range(len(indexordermap)):\n",
    "        orderforcurrentfeature = indexordermap[i]\n",
    "        for index in orderforcurrentfeature:\n",
    "            index_ordermapindex = indexpipelinemap[index]\n",
    "            currentarray = data[index_ordermapindex][i]\n",
    "            featurepipelinemap[i].append(currentarray)\n",
    "    return featurepipelinemap\n",
    "\n",
    "c_featurepipelinemap = get_featurepipelinemap(data_pc, c_indexordermap)\n",
    "r_featurepipelinemap = get_featurepipelinemap(data_pr, r_indexordermap)\n",
    "\n",
    "\n",
    "\n",
    "label_pointlabel_dims_map = defaultdict(dict)\n",
    "curindex = 0\n",
    "for pointlabel, label, dim1, dim2 in reversed_arrays:\n",
    "    genericpointlabel = pointlabel[1:-1]\n",
    "    if \"imp\" in genericpointlabel:\n",
    "        continue\n",
    "    \n",
    "    label_pointlabel_dims_map[label][genericpointlabel] = [dim1data[curindex], dim2data[curindex]]\n",
    "    curindex += 1\n",
    "\n",
    "indextransformationmap = {\n",
    "    0: \"norm\",\n",
    "    1: \"co\",\n",
    "    2: \"dis\"\n",
    "}\n",
    "\n",
    "\n",
    "\n",
    "import numpy as np\n",
    "from numpy.linalg import norm\n",
    "\n",
    "def cosine_similarity(arr1, arr2):\n",
    "    # Pad the shorter array with zeros\n",
    "    if len(arr1) > len(arr2):\n",
    "        arr2 = np.pad(arr2, (0, len(arr1) - len(arr2)), 'constant')\n",
    "    elif len(arr2) > len(arr1):\n",
    "        arr1 = np.pad(arr1, (0, len(arr2) - len(arr1)), 'constant')\n",
    "\n",
    "    # Calculate cosine similarity\n",
    "    dot_product = np.dot(arr1, arr2)\n",
    "    norm_product = norm(arr1) * norm(arr2)\n",
    "    \n",
    "    if norm_product == 0:\n",
    "        # Avoid division by zero\n",
    "        return 0\n",
    "\n",
    "    similarity = dot_product / norm_product\n",
    "\n",
    "    return abs(similarity)\n",
    "\n",
    "\n",
    "cosine_totaldist = 0\n",
    "\n",
    "totcount = 0\n",
    "for i in range(len(c_indexordermap)):\n",
    "    clabel = \"c\" + str(i)\n",
    "    rlabel = \"r\" + str(i)\n",
    "\n",
    "    for j in range(3):\n",
    "        current_c_transform = indextransformationmap[c_indexordermap[i][j]]\n",
    "        current_r_transform = indextransformationmap[r_indexordermap[i][j]]\n",
    "\n",
    "        \n",
    "        current_c_array = label_pointlabel_dims_map[clabel][current_c_transform]\n",
    "        current_r_array = label_pointlabel_dims_map[rlabel][current_r_transform]\n",
    "\n",
    "        \n",
    "        currentdistance = (cosine_similarity(current_c_array, current_r_array)) #take abs value?\n",
    "\n",
    "        cosine_totaldist += currentdistance\n",
    "\n",
    "        totcount += 1\n",
    "print(\"total count = \", str(totcount))\n",
    "\n",
    "\n",
    "\n",
    "import numpy as np\n",
    "from scipy.interpolate import interp1d\n",
    "\n",
    "def euclidean_distance(arr1, arr2):\n",
    "    # Ensure both arrays are numpy arrays\n",
    "    arr1, arr2 = np.array(arr1), np.array(arr2)\n",
    "    \n",
    "    # If arrays are of equal length, calculate Euclidean distance directly\n",
    "    if len(arr1) == len(arr2):\n",
    "        return np.linalg.norm(arr1 - arr2)\n",
    "\n",
    "    # Interpolate the shorter array\n",
    "    if len(arr1) < len(arr2):\n",
    "        x = np.linspace(0, 1, len(arr1))\n",
    "        f = interp1d(x, arr1, kind='linear')\n",
    "        x_new = np.linspace(0, 1, len(arr2))\n",
    "        arr1 = f(x_new)\n",
    "    else:\n",
    "        x = np.linspace(0, 1, len(arr2))\n",
    "        f = interp1d(x, arr2, kind='linear')\n",
    "        x_new = np.linspace(0, 1, len(arr1))\n",
    "        arr2 = f(x_new)\n",
    "\n",
    "    # Calculate Euclidean distance\n",
    "    return np.linalg.norm(arr1 - arr2)\n",
    "\n",
    "euclid_totaldist = 0\n",
    "\n",
    "for i in range(len(c_indexordermap)):\n",
    "    clabel = \"c\" + str(i)\n",
    "    rlabel = \"r\" + str(i)\n",
    "\n",
    "    for j in range(3):\n",
    "        current_c_transform = indextransformationmap[c_indexordermap[i][j]]\n",
    "        current_r_transform = indextransformationmap[r_indexordermap[i][j]]\n",
    "\n",
    "        \n",
    "        current_c_array = label_pointlabel_dims_map[clabel][current_c_transform]\n",
    "        current_r_array = label_pointlabel_dims_map[rlabel][current_r_transform]\n",
    "\n",
    "        \n",
    "        currentdistance = (euclidean_distance(current_c_array, current_r_array)) #take abs value?\n",
    "\n",
    "        euclid_totaldist += currentdistance\n",
    "\n",
    "\n",
    "\n",
    "\n",
    "import numpy as np\n",
    "\n",
    "def manhattan_distance(arr1, arr2):\n",
    "    # Convert to numpy arrays for convenience\n",
    "    arr1, arr2 = np.array(arr1), np.array(arr2)\n",
    "\n",
    "    # Pad the shorter array with zeros\n",
    "    if len(arr1) > len(arr2):\n",
    "        arr2 = np.pad(arr2, (0, len(arr1) - len(arr2)), 'constant')\n",
    "    elif len(arr2) > len(arr1):\n",
    "        arr1 = np.pad(arr1, (0, len(arr2) - len(arr1)), 'constant')\n",
    "\n",
    "    # Calculate Manhattan distance\n",
    "    distance = np.sum(np.abs(arr1 - arr2))\n",
    "    return distance\n",
    "manhattan_totaldist = 0\n",
    "\n",
    "for i in range(len(c_indexordermap)):\n",
    "    clabel = \"c\" + str(i)\n",
    "    rlabel = \"r\" + str(i)\n",
    "\n",
    "    for j in range(3):\n",
    "        current_c_transform = indextransformationmap[c_indexordermap[i][j]]\n",
    "        current_r_transform = indextransformationmap[r_indexordermap[i][j]]\n",
    "\n",
    "        \n",
    "        current_c_array = label_pointlabel_dims_map[clabel][current_c_transform]\n",
    "        current_r_array = label_pointlabel_dims_map[rlabel][current_r_transform]\n",
    "\n",
    "        \n",
    "        currentdistance = (manhattan_distance(current_c_array, current_r_array)) #take abs value?\n",
    "\n",
    "        manhattan_totaldist += currentdistance\n",
    "\n",
    "\n",
    "\n",
    "\n",
    "import numpy as np\n",
    "\n",
    "def chebyshev_distance(arr1, arr2):\n",
    "    \"\"\"Compute the Chebyshev distance between two 1D numpy arrays.\"\"\"\n",
    "    return max(abs(a - b) for a, b in zip(arr1, arr2))\n",
    "\n",
    "\n",
    "chebyshev_totaldist = 0\n",
    "\n",
    "for i in range(len(c_indexordermap)):\n",
    "    clabel = \"c\" + str(i)\n",
    "    rlabel = \"r\" + str(i)\n",
    "\n",
    "    for j in range(3):\n",
    "        current_c_transform = indextransformationmap[c_indexordermap[i][j]]\n",
    "        current_r_transform = indextransformationmap[r_indexordermap[i][j]]\n",
    "\n",
    "        \n",
    "        current_c_array = label_pointlabel_dims_map[clabel][current_c_transform]\n",
    "        current_r_array = label_pointlabel_dims_map[rlabel][current_r_transform]\n",
    "\n",
    "        \n",
    "        currentdistance = (chebyshev_distance(current_c_array, current_r_array)) #take abs value?\n",
    "\n",
    "        chebyshev_totaldist += currentdistance\n",
    "\n",
    "\n",
    "\n",
    "\n",
    "import numpy as np\n",
    "\n",
    "def canberra_distance(arr1, arr2):\n",
    "    # Convert arrays to numpy arrays for easier manipulation\n",
    "    arr1 = np.array(arr1)\n",
    "    arr2 = np.array(arr2)\n",
    "\n",
    "    # Check if arrays are of the same length\n",
    "    if arr1.shape != arr2.shape:\n",
    "        raise ValueError(\"Arrays must be of the same length\")\n",
    "\n",
    "    # Compute the Canberra distance\n",
    "    return np.sum(np.abs(arr1 - arr2) / (np.abs(arr1) + np.abs(arr2) + np.finfo(float).eps))\n",
    "\n",
    "canberra_totaldist = 0\n",
    "\n",
    "for i in range(len(c_indexordermap)):\n",
    "    clabel = \"c\" + str(i)\n",
    "    rlabel = \"r\" + str(i)\n",
    "\n",
    "    for j in range(3):\n",
    "        current_c_transform = indextransformationmap[c_indexordermap[i][j]]\n",
    "        current_r_transform = indextransformationmap[r_indexordermap[i][j]]\n",
    "\n",
    "        \n",
    "        current_c_array = label_pointlabel_dims_map[clabel][current_c_transform]\n",
    "        current_r_array = label_pointlabel_dims_map[rlabel][current_r_transform]\n",
    "\n",
    "        \n",
    "        currentdistance = (canberra_distance(current_c_array, current_r_array)) #take abs value?\n",
    "\n",
    "        canberra_totaldist += currentdistance\n",
    "\n",
    "\n",
    "\n",
    "\n",
    "\n",
    "arr = [cosine_totaldist, euclid_totaldist, manhattan_totaldist, chebyshev_totaldist, canberra_totaldist]\n",
    "print(file_path_pc, file_path_pr)\n",
    "print(\"[cosine_totaldist, euclid_totaldist, manhattan_totaldist, chebyshev_totaldist, canberra_totaldist]\")\n",
    "print(arr)\n",
    "\n",
    "\n",
    "min_val = min(arr)\n",
    "max_val = max(arr)\n",
    "    \n",
    "    # Avoid division by zero if all values are the same\n",
    "if max_val == min_val:\n",
    "    normalized = [0.5, 0.5, 0.5]  # or return the original array, as preferred\n",
    "else:\n",
    "    normalized = [(x - min_val) / (max_val - min_val) for x in arr]\n",
    "print(\"normalized\")\n",
    "print(normalized)\n"
   ]
  }
 ],
 "metadata": {
  "kernelspec": {
   "display_name": "Python 3",
   "language": "python",
   "name": "python3"
  },
  "language_info": {
   "codemirror_mode": {
    "name": "ipython",
    "version": 3
   },
   "file_extension": ".py",
   "mimetype": "text/x-python",
   "name": "python",
   "nbconvert_exporter": "python",
   "pygments_lexer": "ipython3",
   "version": "3.11.5"
  }
 },
 "nbformat": 4,
 "nbformat_minor": 2
}
